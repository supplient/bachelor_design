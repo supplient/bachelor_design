{
 "cells": [
  {
   "cell_type": "markdown",
   "metadata": {},
   "source": [
    "# Environment Setup"
   ]
  },
  {
   "cell_type": "code",
   "execution_count": null,
   "metadata": {},
   "outputs": [],
   "source": [
    "!git clone https://github.com/supplient/bachelor_design.git\n",
    "import os\n",
    "os.chdir(\"bachelor_design\")\n",
    "!pwd"
   ]
  },
  {
   "cell_type": "code",
   "execution_count": null,
   "metadata": {},
   "outputs": [],
   "source": [
    "!git checkout bert_replace\n",
    "!git pull"
   ]
  },
  {
   "cell_type": "code",
   "execution_count": null,
   "metadata": {},
   "outputs": [],
   "source": [
    "locale = False\n",
    "try:\n",
    "    import google.colab\n",
    "    google.colab.drive.mount('/gdrive')\n",
    "except ModuleNotFoundError:\n",
    "    locale = True"
   ]
  },
  {
   "cell_type": "code",
   "execution_count": null,
   "metadata": {},
   "outputs": [],
   "source": [
    "addh = \"/gdrive/My Drive\"\n",
    "if locale:\n",
    "    addh = \"/mnt/d/My Drive\"\n",
    "    print(\"[Locale] Using address head: \" + addh)\n",
    "else:\n",
    "    print(\"[Colab] Using address head: \" + addh)"
   ]
  },
  {
   "cell_type": "markdown",
   "metadata": {},
   "source": [
    "# Prepare Input"
   ]
  },
  {
   "cell_type": "code",
   "execution_count": null,
   "metadata": {},
   "outputs": [],
   "source": [
    "import preprocess"
   ]
  },
  {
   "cell_type": "code",
   "execution_count": null,
   "metadata": {},
   "outputs": [],
   "source": [
    "import pickle\n",
    "tag_vocab = None\n",
    "with open(addh + \"/Graduation/Model/tag_vocab.pkl\", \"rb\") as fd:\n",
    "    tag_vocab = pickle.load(fd)"
   ]
  },
  {
   "cell_type": "code",
   "execution_count": null,
   "metadata": {},
   "outputs": [],
   "source": [
    "SEQ_LEN = 512\n",
    "\n",
    "test_char_seqs, test_tag_seqs = preprocess.load_file(\n",
    "    addh + \"/Graduation/Data/test_dict.txt\")\n",
    "test_token_id_seqs, test_segment_seqs, test_tag_id_seqs, tag_vocab = preprocess.preprocess(\n",
    "    test_char_seqs, \n",
    "    test_tag_seqs,\n",
    "    addh + \"/Graduation/BERT/multi_cased_L-12_H-768_A-12/vocab.txt\",\n",
    "    SEQ_LEN=512,\n",
    "    tag_vocab=tag_vocab\n",
    "    )"
   ]
  },
  {
   "cell_type": "markdown",
   "metadata": {},
   "source": [
    "# Build Model"
   ]
  },
  {
   "cell_type": "code",
   "execution_count": null,
   "metadata": {},
   "outputs": [],
   "source": [
    "import keras"
   ]
  },
  {
   "cell_type": "code",
   "execution_count": null,
   "metadata": {},
   "outputs": [],
   "source": [
    "input_token = keras.layers.Input(shape=(SEQ_LEN,))\n",
    "input_segment = keras.layers.Input(shape=(SEQ_LEN,))\n",
    "\n",
    "bert_output = bert_model([input_token, input_segment])\n",
    "\n",
    "output = keras.layers.Dense(len(tag_vocab), activation=keras.activations.softmax)(bert_output)\n",
    "\n",
    "model = keras.models.Model([input_token, input_segment], output)"
   ]
  },
  {
   "cell_type": "markdown",
   "metadata": {},
   "source": [
    "# Predict"
   ]
  },
  {
   "cell_type": "code",
   "execution_count": null,
   "metadata": {},
   "outputs": [],
   "source": [
    "predict_tag_id_seqs = model.predict(\n",
    "    [test_token_id_seqs, test_segment_seqs],\n",
    "    batch_size=8,\n",
    "    verbose=1\n",
    ")"
   ]
  },
  {
   "cell_type": "code",
   "execution_count": null,
   "metadata": {},
   "outputs": [],
   "source": [
    "import analyze\n",
    "analyze(\n",
    "    test_char_seqs,\n",
    "    test_tag_seqs,\n",
    "    predict_tag_id_seqs,\n",
    "    tag_vocab\n",
    ")"
   ]
  }
 ],
 "metadata": {
  "kernelspec": {
   "display_name": "Python 3",
   "language": "python",
   "name": "python3"
  },
  "language_info": {
   "codemirror_mode": {
    "name": "ipython",
    "version": 3
   },
   "file_extension": ".py",
   "mimetype": "text/x-python",
   "name": "python",
   "nbconvert_exporter": "python",
   "pygments_lexer": "ipython3",
   "version": "3.6.9"
  }
 },
 "nbformat": 4,
 "nbformat_minor": 4
}
