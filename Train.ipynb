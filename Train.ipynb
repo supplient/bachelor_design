{
  "nbformat": 4,
  "nbformat_minor": 0,
  "metadata": {
    "kernelspec": {
      "name": "python3",
      "display_name": "Python 3"
    },
    "language_info": {
      "codemirror_mode": {
        "name": "ipython",
        "version": 3
      },
      "file_extension": ".py",
      "mimetype": "text/x-python",
      "name": "python",
      "nbconvert_exporter": "python",
      "pygments_lexer": "ipython3",
      "version": "3.6.9"
    },
    "colab": {
      "name": "Train.ipynb",
      "provenance": [],
      "include_colab_link": true
    },
    "accelerator": "GPU"
  },
  "cells": [
    {
      "cell_type": "markdown",
      "metadata": {
        "id": "view-in-github",
        "colab_type": "text"
      },
      "source": [
        "<a href=\"https://colab.research.google.com/github/supplient/bachelor_design/blob/test_old_code/Train.ipynb\" target=\"_parent\"><img src=\"https://colab.research.google.com/assets/colab-badge.svg\" alt=\"Open In Colab\"/></a>"
      ]
    },
    {
      "cell_type": "code",
      "metadata": {
        "id": "rziGu-E3r50W",
        "colab_type": "code",
        "colab": {
          "base_uri": "https://localhost:8080/",
          "height": 319
        },
        "outputId": "9d8465d2-e8ba-4081-8b16-d6d99eeb18c0"
      },
      "source": [
        "!pip install git+https://www.github.com/keras-team/keras-contrib.git"
      ],
      "execution_count": 1,
      "outputs": [
        {
          "output_type": "stream",
          "text": [
            "Collecting git+https://www.github.com/keras-team/keras-contrib.git\n",
            "  Cloning https://www.github.com/keras-team/keras-contrib.git to /tmp/pip-req-build-4vaig07u\n",
            "  Running command git clone -q https://www.github.com/keras-team/keras-contrib.git /tmp/pip-req-build-4vaig07u\n",
            "Requirement already satisfied: keras in /usr/local/lib/python3.6/dist-packages (from keras-contrib==2.0.8) (2.2.5)\n",
            "Requirement already satisfied: h5py in /usr/local/lib/python3.6/dist-packages (from keras->keras-contrib==2.0.8) (2.8.0)\n",
            "Requirement already satisfied: keras-applications>=1.0.8 in /usr/local/lib/python3.6/dist-packages (from keras->keras-contrib==2.0.8) (1.0.8)\n",
            "Requirement already satisfied: pyyaml in /usr/local/lib/python3.6/dist-packages (from keras->keras-contrib==2.0.8) (3.13)\n",
            "Requirement already satisfied: numpy>=1.9.1 in /usr/local/lib/python3.6/dist-packages (from keras->keras-contrib==2.0.8) (1.17.5)\n",
            "Requirement already satisfied: six>=1.9.0 in /usr/local/lib/python3.6/dist-packages (from keras->keras-contrib==2.0.8) (1.12.0)\n",
            "Requirement already satisfied: keras-preprocessing>=1.1.0 in /usr/local/lib/python3.6/dist-packages (from keras->keras-contrib==2.0.8) (1.1.0)\n",
            "Requirement already satisfied: scipy>=0.14 in /usr/local/lib/python3.6/dist-packages (from keras->keras-contrib==2.0.8) (1.4.1)\n",
            "Building wheels for collected packages: keras-contrib\n",
            "  Building wheel for keras-contrib (setup.py) ... \u001b[?25l\u001b[?25hdone\n",
            "  Created wheel for keras-contrib: filename=keras_contrib-2.0.8-cp36-none-any.whl size=101064 sha256=550a881efa1bb1e2fa4ef5f68d5b981614b7f40350a15e1bca7e81a23af42200\n",
            "  Stored in directory: /tmp/pip-ephem-wheel-cache-4s1v8_w7/wheels/11/27/c8/4ed56de7b55f4f61244e2dc6ef3cdbaff2692527a2ce6502ba\n",
            "Successfully built keras-contrib\n",
            "Installing collected packages: keras-contrib\n",
            "Successfully installed keras-contrib-2.0.8\n"
          ],
          "name": "stdout"
        }
      ]
    },
    {
      "cell_type": "code",
      "metadata": {
        "id": "4U9hmuORs1a4",
        "colab_type": "code",
        "colab": {
          "base_uri": "https://localhost:8080/",
          "height": 269
        },
        "outputId": "87ce154d-d0c1-44f8-a769-bc2e4c8c8009"
      },
      "source": [
        "!pip install keras==2.2.4"
      ],
      "execution_count": 2,
      "outputs": [
        {
          "output_type": "stream",
          "text": [
            "Collecting keras==2.2.4\n",
            "\u001b[?25l  Downloading https://files.pythonhosted.org/packages/5e/10/aa32dad071ce52b5502266b5c659451cfd6ffcbf14e6c8c4f16c0ff5aaab/Keras-2.2.4-py2.py3-none-any.whl (312kB)\n",
            "\r\u001b[K     |█                               | 10kB 18.3MB/s eta 0:00:01\r\u001b[K     |██                              | 20kB 2.5MB/s eta 0:00:01\r\u001b[K     |███▏                            | 30kB 3.6MB/s eta 0:00:01\r\u001b[K     |████▏                           | 40kB 3.0MB/s eta 0:00:01\r\u001b[K     |█████▎                          | 51kB 3.7MB/s eta 0:00:01\r\u001b[K     |██████▎                         | 61kB 4.4MB/s eta 0:00:01\r\u001b[K     |███████▍                        | 71kB 5.1MB/s eta 0:00:01\r\u001b[K     |████████▍                       | 81kB 5.7MB/s eta 0:00:01\r\u001b[K     |█████████▍                      | 92kB 6.4MB/s eta 0:00:01\r\u001b[K     |██████████▌                     | 102kB 4.9MB/s eta 0:00:01\r\u001b[K     |███████████▌                    | 112kB 4.9MB/s eta 0:00:01\r\u001b[K     |████████████▋                   | 122kB 4.9MB/s eta 0:00:01\r\u001b[K     |█████████████▋                  | 133kB 4.9MB/s eta 0:00:01\r\u001b[K     |██████████████▊                 | 143kB 4.9MB/s eta 0:00:01\r\u001b[K     |███████████████▊                | 153kB 4.9MB/s eta 0:00:01\r\u001b[K     |████████████████▊               | 163kB 4.9MB/s eta 0:00:01\r\u001b[K     |█████████████████▉              | 174kB 4.9MB/s eta 0:00:01\r\u001b[K     |██████████████████▉             | 184kB 4.9MB/s eta 0:00:01\r\u001b[K     |████████████████████            | 194kB 4.9MB/s eta 0:00:01\r\u001b[K     |█████████████████████           | 204kB 4.9MB/s eta 0:00:01\r\u001b[K     |██████████████████████          | 215kB 4.9MB/s eta 0:00:01\r\u001b[K     |███████████████████████         | 225kB 4.9MB/s eta 0:00:01\r\u001b[K     |████████████████████████▏       | 235kB 4.9MB/s eta 0:00:01\r\u001b[K     |█████████████████████████▏      | 245kB 4.9MB/s eta 0:00:01\r\u001b[K     |██████████████████████████▏     | 256kB 4.9MB/s eta 0:00:01\r\u001b[K     |███████████████████████████▎    | 266kB 4.9MB/s eta 0:00:01\r\u001b[K     |████████████████████████████▎   | 276kB 4.9MB/s eta 0:00:01\r\u001b[K     |█████████████████████████████▍  | 286kB 4.9MB/s eta 0:00:01\r\u001b[K     |██████████████████████████████▍ | 296kB 4.9MB/s eta 0:00:01\r\u001b[K     |███████████████████████████████▌| 307kB 4.9MB/s eta 0:00:01\r\u001b[K     |████████████████████████████████| 317kB 4.9MB/s \n",
            "\u001b[?25hRequirement already satisfied: six>=1.9.0 in /usr/local/lib/python3.6/dist-packages (from keras==2.2.4) (1.12.0)\n",
            "Requirement already satisfied: pyyaml in /usr/local/lib/python3.6/dist-packages (from keras==2.2.4) (3.13)\n",
            "Requirement already satisfied: h5py in /usr/local/lib/python3.6/dist-packages (from keras==2.2.4) (2.8.0)\n",
            "Requirement already satisfied: numpy>=1.9.1 in /usr/local/lib/python3.6/dist-packages (from keras==2.2.4) (1.17.5)\n",
            "Requirement already satisfied: scipy>=0.14 in /usr/local/lib/python3.6/dist-packages (from keras==2.2.4) (1.4.1)\n",
            "Requirement already satisfied: keras-applications>=1.0.6 in /usr/local/lib/python3.6/dist-packages (from keras==2.2.4) (1.0.8)\n",
            "Requirement already satisfied: keras-preprocessing>=1.0.5 in /usr/local/lib/python3.6/dist-packages (from keras==2.2.4) (1.1.0)\n",
            "Installing collected packages: keras\n",
            "  Found existing installation: Keras 2.2.5\n",
            "    Uninstalling Keras-2.2.5:\n",
            "      Successfully uninstalled Keras-2.2.5\n",
            "Successfully installed keras-2.2.4\n"
          ],
          "name": "stdout"
        }
      ]
    },
    {
      "cell_type": "code",
      "metadata": {
        "id": "vDJfzHqXrF0m",
        "colab_type": "code",
        "colab": {
          "base_uri": "https://localhost:8080/",
          "height": 151
        },
        "outputId": "963d2ea1-ba27-4d45-9850-bb8dc68010ed"
      },
      "source": [
        "!git clone https://github.com/supplient/bachelor_design.git\n",
        "import os\n",
        "os.chdir(\"bachelor_design\")\n",
        "!pwd"
      ],
      "execution_count": 3,
      "outputs": [
        {
          "output_type": "stream",
          "text": [
            "Cloning into 'bachelor_design'...\n",
            "remote: Enumerating objects: 148, done.\u001b[K\n",
            "remote: Counting objects: 100% (148/148), done.\u001b[K\n",
            "remote: Compressing objects: 100% (111/111), done.\u001b[K\n",
            "remote: Total 148 (delta 73), reused 100 (delta 33), pack-reused 0\u001b[K\n",
            "Receiving objects: 100% (148/148), 5.78 MiB | 11.14 MiB/s, done.\n",
            "Resolving deltas: 100% (73/73), done.\n",
            "/content/bachelor_design\n"
          ],
          "name": "stdout"
        }
      ]
    },
    {
      "cell_type": "code",
      "metadata": {
        "id": "Z4lbtDQjrjGI",
        "colab_type": "code",
        "colab": {
          "base_uri": "https://localhost:8080/",
          "height": 67
        },
        "outputId": "1b102993-c287-4c81-b567-b113938d1ada"
      },
      "source": [
        "!git checkout test_old_code\n",
        "!git pull"
      ],
      "execution_count": 4,
      "outputs": [
        {
          "output_type": "stream",
          "text": [
            "Branch 'test_old_code' set up to track remote branch 'test_old_code' from 'origin'.\n",
            "Switched to a new branch 'test_old_code'\n",
            "Already up to date.\n"
          ],
          "name": "stdout"
        }
      ]
    },
    {
      "cell_type": "code",
      "metadata": {
        "id": "GJD-C0h3q96J",
        "colab_type": "code",
        "colab": {
          "base_uri": "https://localhost:8080/",
          "height": 1000
        },
        "outputId": "05d0d564-873e-4d35-b673-1ee17a3b7b67"
      },
      "source": [
        "import bilsm_crf_model\n",
        "\n",
        "EPOCHS = 10\n",
        "model, (train_x, train_y), (test_x, test_y) = bilsm_crf_model.create_model()\n",
        "# train model\n",
        "model.fit(train_x, train_y,batch_size=4,epochs=EPOCHS, validation_data=[test_x, test_y])\n",
        "model.save('model/crf.h5')"
      ],
      "execution_count": 5,
      "outputs": [
        {
          "output_type": "stream",
          "text": [
            "Using TensorFlow backend.\n"
          ],
          "name": "stderr"
        },
        {
          "output_type": "display_data",
          "data": {
            "text/html": [
              "<p style=\"color: red;\">\n",
              "The default version of TensorFlow in Colab will soon switch to TensorFlow 2.x.<br>\n",
              "We recommend you <a href=\"https://www.tensorflow.org/guide/migrate\" target=\"_blank\">upgrade</a> now \n",
              "or ensure your notebook will continue to use TensorFlow 1.x via the <code>%tensorflow_version 1.x</code> magic:\n",
              "<a href=\"https://colab.research.google.com/notebooks/tensorflow_version.ipynb\" target=\"_blank\">more info</a>.</p>\n"
            ],
            "text/plain": [
              "<IPython.core.display.HTML object>"
            ]
          },
          "metadata": {
            "tags": []
          }
        },
        {
          "output_type": "stream",
          "text": [
            "WARNING:tensorflow:From /usr/local/lib/python3.6/dist-packages/keras/backend/tensorflow_backend.py:74: The name tf.get_default_graph is deprecated. Please use tf.compat.v1.get_default_graph instead.\n",
            "\n",
            "WARNING:tensorflow:From /usr/local/lib/python3.6/dist-packages/keras/backend/tensorflow_backend.py:517: The name tf.placeholder is deprecated. Please use tf.compat.v1.placeholder instead.\n",
            "\n",
            "WARNING:tensorflow:From /usr/local/lib/python3.6/dist-packages/keras/backend/tensorflow_backend.py:4138: The name tf.random_uniform is deprecated. Please use tf.random.uniform instead.\n",
            "\n",
            "WARNING:tensorflow:From /usr/local/lib/python3.6/dist-packages/keras/backend/tensorflow_backend.py:2974: where (from tensorflow.python.ops.array_ops) is deprecated and will be removed in a future version.\n",
            "Instructions for updating:\n",
            "Use tf.where in 2.0, which has the same broadcast rule as np.where\n",
            "WARNING:tensorflow:From /usr/local/lib/python3.6/dist-packages/keras/backend/tensorflow_backend.py:133: The name tf.placeholder_with_default is deprecated. Please use tf.compat.v1.placeholder_with_default instead.\n",
            "\n",
            "_________________________________________________________________\n",
            "Layer (type)                 Output Shape              Param #   \n",
            "=================================================================\n",
            "embedding_1 (Embedding)      (None, None, 200)         228600    \n",
            "_________________________________________________________________\n",
            "bidirectional_1 (Bidirection (None, None, 200)         240800    \n",
            "_________________________________________________________________\n",
            "crf_1 (CRF)                  (None, None, 11)          2354      \n",
            "=================================================================\n",
            "Total params: 471,754\n",
            "Trainable params: 471,754\n",
            "Non-trainable params: 0\n",
            "_________________________________________________________________\n",
            "WARNING:tensorflow:From /usr/local/lib/python3.6/dist-packages/keras/optimizers.py:790: The name tf.train.Optimizer is deprecated. Please use tf.compat.v1.train.Optimizer instead.\n",
            "\n"
          ],
          "name": "stdout"
        },
        {
          "output_type": "stream",
          "text": [
            "/usr/local/lib/python3.6/dist-packages/keras_contrib/layers/crf.py:346: UserWarning: CRF.loss_function is deprecated and it might be removed in the future. Please use losses.crf_loss instead.\n",
            "  warnings.warn('CRF.loss_function is deprecated '\n",
            "/usr/local/lib/python3.6/dist-packages/keras_contrib/layers/crf.py:353: UserWarning: CRF.accuracy is deprecated and it might be removed in the future. Please use metrics.crf_accuracy\n",
            "  warnings.warn('CRF.accuracy is deprecated and it '\n"
          ],
          "name": "stderr"
        },
        {
          "output_type": "stream",
          "text": [
            "WARNING:tensorflow:From /usr/local/lib/python3.6/dist-packages/keras/backend/tensorflow_backend.py:986: The name tf.assign_add is deprecated. Please use tf.compat.v1.assign_add instead.\n",
            "\n",
            "WARNING:tensorflow:From /usr/local/lib/python3.6/dist-packages/keras/backend/tensorflow_backend.py:973: The name tf.assign is deprecated. Please use tf.compat.v1.assign instead.\n",
            "\n",
            "WARNING:tensorflow:From /usr/local/lib/python3.6/dist-packages/keras/backend/tensorflow_backend.py:2741: The name tf.Session is deprecated. Please use tf.compat.v1.Session instead.\n",
            "\n",
            "Train on 5871 samples, validate on 2977 samples\n",
            "Epoch 1/10\n",
            "WARNING:tensorflow:From /usr/local/lib/python3.6/dist-packages/keras/backend/tensorflow_backend.py:174: The name tf.get_default_session is deprecated. Please use tf.compat.v1.get_default_session instead.\n",
            "\n",
            "WARNING:tensorflow:From /usr/local/lib/python3.6/dist-packages/keras/backend/tensorflow_backend.py:181: The name tf.ConfigProto is deprecated. Please use tf.compat.v1.ConfigProto instead.\n",
            "\n",
            "WARNING:tensorflow:From /usr/local/lib/python3.6/dist-packages/keras/backend/tensorflow_backend.py:190: The name tf.global_variables is deprecated. Please use tf.compat.v1.global_variables instead.\n",
            "\n",
            "WARNING:tensorflow:From /usr/local/lib/python3.6/dist-packages/keras/backend/tensorflow_backend.py:199: The name tf.is_variable_initialized is deprecated. Please use tf.compat.v1.is_variable_initialized instead.\n",
            "\n",
            "WARNING:tensorflow:From /usr/local/lib/python3.6/dist-packages/keras/backend/tensorflow_backend.py:206: The name tf.variables_initializer is deprecated. Please use tf.compat.v1.variables_initializer instead.\n",
            "\n",
            "5871/5871 [==============================] - 1815s 309ms/step - loss: 27.6616 - crf_viterbi_accuracy: 0.7713 - val_loss: 38.3169 - val_crf_viterbi_accuracy: 0.7275\n",
            "Epoch 2/10\n",
            "5871/5871 [==============================] - 1861s 317ms/step - loss: 27.2835 - crf_viterbi_accuracy: 0.8006 - val_loss: 38.2109 - val_crf_viterbi_accuracy: 0.6882\n",
            "Epoch 3/10\n",
            "5871/5871 [==============================] - 1802s 307ms/step - loss: 27.1909 - crf_viterbi_accuracy: 0.8181 - val_loss: 38.1984 - val_crf_viterbi_accuracy: 0.6895\n",
            "Epoch 4/10\n",
            "5871/5871 [==============================] - 1733s 295ms/step - loss: 27.1409 - crf_viterbi_accuracy: 0.8344 - val_loss: 38.1970 - val_crf_viterbi_accuracy: 0.6992\n",
            "Epoch 5/10\n",
            "5871/5871 [==============================] - 1734s 295ms/step - loss: 27.1041 - crf_viterbi_accuracy: 0.8552 - val_loss: 38.2333 - val_crf_viterbi_accuracy: 0.6551\n",
            "Epoch 6/10\n",
            "5871/5871 [==============================] - 1746s 297ms/step - loss: 27.0725 - crf_viterbi_accuracy: 0.8699 - val_loss: 38.2586 - val_crf_viterbi_accuracy: 0.6630\n",
            "Epoch 7/10\n",
            "5871/5871 [==============================] - 1852s 315ms/step - loss: 27.0447 - crf_viterbi_accuracy: 0.8879 - val_loss: 38.2736 - val_crf_viterbi_accuracy: 0.6600\n",
            "Epoch 8/10\n",
            "5871/5871 [==============================] - 1872s 319ms/step - loss: 27.0212 - crf_viterbi_accuracy: 0.9027 - val_loss: 38.3141 - val_crf_viterbi_accuracy: 0.6585\n",
            "Epoch 9/10\n",
            "5871/5871 [==============================] - 1868s 318ms/step - loss: 27.0003 - crf_viterbi_accuracy: 0.9176 - val_loss: 38.3433 - val_crf_viterbi_accuracy: 0.6476\n",
            "Epoch 10/10\n",
            "5871/5871 [==============================] - 1827s 311ms/step - loss: 26.9820 - crf_viterbi_accuracy: 0.9305 - val_loss: 38.4125 - val_crf_viterbi_accuracy: 0.6423\n"
          ],
          "name": "stdout"
        }
      ]
    }
  ]
}