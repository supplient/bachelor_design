{
  "nbformat": 4,
  "nbformat_minor": 0,
  "metadata": {
    "kernelspec": {
      "display_name": "Python 3",
      "language": "python",
      "name": "python3"
    },
    "language_info": {
      "codemirror_mode": {
        "name": "ipython",
        "version": 3
      },
      "file_extension": ".py",
      "mimetype": "text/x-python",
      "name": "python",
      "nbconvert_exporter": "python",
      "pygments_lexer": "ipython3",
      "version": "3.6.9"
    },
    "colab": {
      "name": "Train.ipynb",
      "provenance": [],
      "include_colab_link": true
    }
  },
  "cells": [
    {
      "cell_type": "markdown",
      "metadata": {
        "id": "view-in-github",
        "colab_type": "text"
      },
      "source": [
        "<a href=\"https://colab.research.google.com/github/supplient/bachelor_design/blob/bert_replace/Train.ipynb\" target=\"_parent\"><img src=\"https://colab.research.google.com/assets/colab-badge.svg\" alt=\"Open In Colab\"/></a>"
      ]
    },
    {
      "cell_type": "markdown",
      "metadata": {
        "id": "gdgaaQWTo_Qm",
        "colab_type": "text"
      },
      "source": [
        "# Mount GDriver\n",
        "Perpare Colab environment."
      ]
    },
    {
      "cell_type": "code",
      "metadata": {
        "scrolled": true,
        "id": "Au7GWMWao_Qr",
        "colab_type": "code",
        "colab": {}
      },
      "source": [
        "locale = False\n",
        "try:\n",
        "    import google.colab\n",
        "    google.colab.drive.mount('/gdrive')\n",
        "except ModuleNotFoundError:\n",
        "    locale = True"
      ],
      "execution_count": 0,
      "outputs": []
    },
    {
      "cell_type": "code",
      "metadata": {
        "id": "OxT7VtBco_Q0",
        "colab_type": "code",
        "colab": {}
      },
      "source": [
        "addh = \"/gdrive/My Drive\"\n",
        "if locale:\n",
        "    addh = \"/mnt/d/My Drive\"\n",
        "    print(\"[Locale] Using address head: \" + addh)\n",
        "else:\n",
        "    print(\"[Colab] Using address head: \" + addh)"
      ],
      "execution_count": 0,
      "outputs": []
    },
    {
      "cell_type": "markdown",
      "metadata": {
        "id": "yKeEl1EWo_Q6",
        "colab_type": "text"
      },
      "source": [
        "# Prepare Input"
      ]
    },
    {
      "cell_type": "code",
      "metadata": {
        "id": "318x_FrYo_Q8",
        "colab_type": "code",
        "colab": {}
      },
      "source": [
        "import preprocess"
      ],
      "execution_count": 0,
      "outputs": []
    },
    {
      "cell_type": "code",
      "metadata": {
        "id": "Nb-5so9mo_RC",
        "colab_type": "code",
        "colab": {}
      },
      "source": [
        "train_char_seqs, train_tag_seqs = preprocess.load_file(addh + \"/Graduation/Data/train_dict.txt\")\n",
        "test_char_seqs, test_tag_seqs = preprocess.load_file(addh + \"/Graduation/Data/test_dict.txt\")\n",
        "train_token_id_seqs, train_tag_id_seqs, tag_vocab = preprocess.preprocess(train_char_seqs, train_tag_seqs)\n",
        "test_token_id_seqs, test_tag_id_seqs, tag_vocab = preprocess.preprocess(test_char_seqs, test_tag_seqs)"
      ],
      "execution_count": 0,
      "outputs": []
    },
    {
      "cell_type": "code",
      "metadata": {
        "id": "M1wZrjzKo_RJ",
        "colab_type": "code",
        "colab": {}
      },
      "source": [
        "train_token_id_seqs[0]"
      ],
      "execution_count": 0,
      "outputs": []
    },
    {
      "cell_type": "code",
      "metadata": {
        "id": "ZDXnB_Wko_RP",
        "colab_type": "code",
        "colab": {}
      },
      "source": [
        "train_tag_id_seqs[0]"
      ],
      "execution_count": 0,
      "outputs": []
    },
    {
      "cell_type": "code",
      "metadata": {
        "id": "XLj4Kcwko_RW",
        "colab_type": "code",
        "colab": {}
      },
      "source": [
        "tag_vocab"
      ],
      "execution_count": 0,
      "outputs": []
    },
    {
      "cell_type": "markdown",
      "metadata": {
        "id": "wv1zgY3lo_Rb",
        "colab_type": "text"
      },
      "source": [
        "# Build Model\n",
        "using BERT"
      ]
    },
    {
      "cell_type": "code",
      "metadata": {
        "id": "QVZYwuGro_Rc",
        "colab_type": "code",
        "colab": {}
      },
      "source": [
        "import keras\n",
        "import keras_bert "
      ],
      "execution_count": 0,
      "outputs": []
    },
    {
      "cell_type": "code",
      "metadata": {
        "id": "tBszsRPVo_Rh",
        "colab_type": "code",
        "colab": {}
      },
      "source": [
        "bert_model = keras_bert.load_trained_model_from_checkpoint(\n",
        "    # config_file\n",
        "    addh + \"/Graduation/BERT/multi_cased_L-12_H-768_A-12/bert_config.json\", \n",
        "    # checkpoint file\n",
        "    addh + \"/Graduation/BERT/multi_cased_L-12_H-768_A-12/bert_model.ckpt\", \n",
        "    # settings\n",
        "    training=False, # Not train the whole model. Ignore NSP and MLM\n",
        "    trainable=True\n",
        "\n",
        ")"
      ],
      "execution_count": 0,
      "outputs": []
    },
    {
      "cell_type": "code",
      "metadata": {
        "id": "7riudikwo_Rm",
        "colab_type": "code",
        "colab": {}
      },
      "source": [
        "MAX_LEN = 356\n",
        "\n",
        "input_token = keras.layers.Input(shape=(MAX_LEN,))\n",
        "input_segment = keras.layers.Input(shape=(MAX_LEN,))\n",
        "\n",
        "bert_output = bert_model([input_token, input_segment])\n",
        "\n",
        "output = keras.layers.Dense(16, activation=keras.activations.softmax)(bert_output)\n",
        "\n",
        "model = keras.models.Model([input_token, input_segment], output)"
      ],
      "execution_count": 0,
      "outputs": []
    },
    {
      "cell_type": "code",
      "metadata": {
        "scrolled": true,
        "id": "lFIHlxiuo_Rp",
        "colab_type": "code",
        "colab": {}
      },
      "source": [
        "model.compute_output_shape([(1, 5), (1, 5)])"
      ],
      "execution_count": 0,
      "outputs": []
    },
    {
      "cell_type": "code",
      "metadata": {
        "id": "nYy7det7o_Rr",
        "colab_type": "code",
        "colab": {}
      },
      "source": [
        "bert_model.summary()"
      ],
      "execution_count": 0,
      "outputs": []
    },
    {
      "cell_type": "code",
      "metadata": {
        "id": "TiKIMshVo_Ru",
        "colab_type": "code",
        "colab": {}
      },
      "source": [
        "model.summary()"
      ],
      "execution_count": 0,
      "outputs": []
    },
    {
      "cell_type": "markdown",
      "metadata": {
        "id": "1NnstgM3o_Rx",
        "colab_type": "text"
      },
      "source": [
        "# Fine-tuning"
      ]
    },
    {
      "cell_type": "code",
      "metadata": {
        "id": "PZnpZmJ9o_Ry",
        "colab_type": "code",
        "colab": {}
      },
      "source": [
        "model.compile(\n",
        "    optimizer=keras.optimizers.Adam(lr=0.00004),\n",
        "    loss=keras.losses.categorical_crossentropy,\n",
        "    metrics=[\"accuracy\"]\n",
        ")"
      ],
      "execution_count": 0,
      "outputs": []
    },
    {
      "cell_type": "code",
      "metadata": {
        "id": "fiWLYOZHo_R3",
        "colab_type": "code",
        "colab": {}
      },
      "source": [
        "model.fit(\n",
        "    x=train_token_id_seqs, \n",
        "    y=train_tag_id_seqs, \n",
        "    batch_size=16, \n",
        "    epochs=10,\n",
        "    verbose=2,\n",
        "    validation_data=(test_token_id_seqs, test_tag_id_seqs),\n",
        "    shuffle=True\n",
        ")"
      ],
      "execution_count": 0,
      "outputs": []
    }
  ]
}