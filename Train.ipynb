{
  "nbformat": 4,
  "nbformat_minor": 0,
  "metadata": {
    "accelerator": "GPU",
    "colab": {
      "name": "Train.ipynb",
      "provenance": [],
      "include_colab_link": true
    },
    "kernelspec": {
      "name": "python3",
      "display_name": "Python 3"
    },
    "language_info": {
      "codemirror_mode": {
        "name": "ipython",
        "version": 3
      },
      "file_extension": ".py",
      "mimetype": "text/x-python",
      "name": "python",
      "nbconvert_exporter": "python",
      "pygments_lexer": "ipython3",
      "version": "3.6.9"
    }
  },
  "cells": [
    {
      "cell_type": "markdown",
      "metadata": {
        "id": "view-in-github",
        "colab_type": "text"
      },
      "source": [
        "<a href=\"https://colab.research.google.com/github/supplient/bachelor_design/blob/equal_realize/Train.ipynb\" target=\"_parent\"><img src=\"https://colab.research.google.com/assets/colab-badge.svg\" alt=\"Open In Colab\"/></a>"
      ]
    },
    {
      "cell_type": "markdown",
      "metadata": {
        "colab_type": "text",
        "id": "ErojEaZ-86B-"
      },
      "source": [
        "# Environment Setup"
      ]
    },
    {
      "cell_type": "code",
      "metadata": {
        "id": "AQWTvbyhEnMH",
        "colab_type": "code",
        "outputId": "8f2c5b4f-d676-48b0-81e8-fe330138b6da",
        "colab": {
          "base_uri": "https://localhost:8080/",
          "height": 34
        }
      },
      "source": [
        "%tensorflow_version 1.x"
      ],
      "execution_count": 1,
      "outputs": [
        {
          "output_type": "stream",
          "text": [
            "TensorFlow 1.x selected.\n"
          ],
          "name": "stdout"
        }
      ]
    },
    {
      "cell_type": "code",
      "metadata": {
        "colab_type": "code",
        "id": "ntV4sZB_8kBc",
        "outputId": "14afb282-389f-4b93-f1e0-de9caf645926",
        "colab": {
          "base_uri": "https://localhost:8080/",
          "height": 151
        }
      },
      "source": [
        "!git clone https://github.com/supplient/bachelor_design.git\n",
        "import os\n",
        "os.chdir(\"bachelor_design\")\n",
        "!pwd"
      ],
      "execution_count": 2,
      "outputs": [
        {
          "output_type": "stream",
          "text": [
            "Cloning into 'bachelor_design'...\n",
            "remote: Enumerating objects: 108, done.\u001b[K\n",
            "remote: Counting objects:   0% (1/108)\u001b[K\rremote: Counting objects:   1% (2/108)\u001b[K\rremote: Counting objects:   2% (3/108)\u001b[K\rremote: Counting objects:   3% (4/108)\u001b[K\rremote: Counting objects:   4% (5/108)\u001b[K\rremote: Counting objects:   5% (6/108)\u001b[K\rremote: Counting objects:   6% (7/108)\u001b[K\rremote: Counting objects:   7% (8/108)\u001b[K\rremote: Counting objects:   8% (9/108)\u001b[K\rremote: Counting objects:   9% (10/108)\u001b[K\rremote: Counting objects:  10% (11/108)\u001b[K\rremote: Counting objects:  11% (12/108)\u001b[K\rremote: Counting objects:  12% (13/108)\u001b[K\rremote: Counting objects:  13% (15/108)\u001b[K\rremote: Counting objects:  14% (16/108)\u001b[K\rremote: Counting objects:  15% (17/108)\u001b[K\rremote: Counting objects:  16% (18/108)\u001b[K\rremote: Counting objects:  17% (19/108)\u001b[K\rremote: Counting objects:  18% (20/108)\u001b[K\rremote: Counting objects:  19% (21/108)\u001b[K\rremote: Counting objects:  20% (22/108)\u001b[K\rremote: Counting objects:  21% (23/108)\u001b[K\rremote: Counting objects:  22% (24/108)\u001b[K\rremote: Counting objects:  23% (25/108)\u001b[K\rremote: Counting objects:  24% (26/108)\u001b[K\rremote: Counting objects:  25% (27/108)\u001b[K\rremote: Counting objects:  26% (29/108)\u001b[K\rremote: Counting objects:  27% (30/108)\u001b[K\rremote: Counting objects:  28% (31/108)\u001b[K\rremote: Counting objects:  29% (32/108)\u001b[K\rremote: Counting objects:  30% (33/108)\u001b[K\rremote: Counting objects:  31% (34/108)\u001b[K\rremote: Counting objects:  32% (35/108)\u001b[K\rremote: Counting objects:  33% (36/108)\u001b[K\rremote: Counting objects:  34% (37/108)\u001b[K\rremote: Counting objects:  35% (38/108)\u001b[K\rremote: Counting objects:  36% (39/108)\u001b[K\rremote: Counting objects:  37% (40/108)\u001b[K\rremote: Counting objects:  38% (42/108)\u001b[K\rremote: Counting objects:  39% (43/108)\u001b[K\rremote: Counting objects:  40% (44/108)\u001b[K\rremote: Counting objects:  41% (45/108)\u001b[K\rremote: Counting objects:  42% (46/108)\u001b[K\rremote: Counting objects:  43% (47/108)\u001b[K\rremote: Counting objects:  44% (48/108)\u001b[K\rremote: Counting objects:  45% (49/108)\u001b[K\rremote: Counting objects:  46% (50/108)\u001b[K\rremote: Counting objects:  47% (51/108)\u001b[K\rremote: Counting objects:  48% (52/108)\u001b[K\rremote: Counting objects:  49% (53/108)\u001b[K\rremote: Counting objects:  50% (54/108)\u001b[K\rremote: Counting objects:  51% (56/108)\u001b[K\rremote: Counting objects:  52% (57/108)\u001b[K\rremote: Counting objects:  53% (58/108)\u001b[K\rremote: Counting objects:  54% (59/108)\u001b[K\rremote: Counting objects:  55% (60/108)\u001b[K\rremote: Counting objects:  56% (61/108)\u001b[K\rremote: Counting objects:  57% (62/108)\u001b[K\rremote: Counting objects:  58% (63/108)\u001b[K\rremote: Counting objects:  59% (64/108)\u001b[K\rremote: Counting objects:  60% (65/108)\u001b[K\rremote: Counting objects:  61% (66/108)\u001b[K\rremote: Counting objects:  62% (67/108)\u001b[K\rremote: Counting objects:  63% (69/108)\u001b[K\rremote: Counting objects:  64% (70/108)\u001b[K\rremote: Counting objects:  65% (71/108)\u001b[K\rremote: Counting objects:  66% (72/108)\u001b[K\rremote: Counting objects:  67% (73/108)\u001b[K\rremote: Counting objects:  68% (74/108)\u001b[K\rremote: Counting objects:  69% (75/108)\u001b[K\rremote: Counting objects:  70% (76/108)\u001b[K\rremote: Counting objects:  71% (77/108)\u001b[K\rremote: Counting objects:  72% (78/108)\u001b[K\rremote: Counting objects:  73% (79/108)\u001b[K\rremote: Counting objects:  74% (80/108)\u001b[K\rremote: Counting objects:  75% (81/108)\u001b[K\rremote: Counting objects:  76% (83/108)\u001b[K\rremote: Counting objects:  77% (84/108)\u001b[K\rremote: Counting objects:  78% (85/108)\u001b[K\rremote: Counting objects:  79% (86/108)\u001b[K\rremote: Counting objects:  80% (87/108)\u001b[K\rremote: Counting objects:  81% (88/108)\u001b[K\rremote: Counting objects:  82% (89/108)\u001b[K\rremote: Counting objects:  83% (90/108)\u001b[K\rremote: Counting objects:  84% (91/108)\u001b[K\rremote: Counting objects:  85% (92/108)\u001b[K\rremote: Counting objects:  86% (93/108)\u001b[K\rremote: Counting objects:  87% (94/108)\u001b[K\rremote: Counting objects:  88% (96/108)\u001b[K\rremote: Counting objects:  89% (97/108)\u001b[K\rremote: Counting objects:  90% (98/108)\u001b[K\rremote: Counting objects:  91% (99/108)\u001b[K\rremote: Counting objects:  92% (100/108)\u001b[K\rremote: Counting objects:  93% (101/108)\u001b[K\rremote: Counting objects:  94% (102/108)\u001b[K\rremote: Counting objects:  95% (103/108)\u001b[K\rremote: Counting objects:  96% (104/108)\u001b[K\rremote: Counting objects:  97% (105/108)\u001b[K\rremote: Counting objects:  98% (106/108)\u001b[K\rremote: Counting objects:  99% (107/108)\u001b[K\rremote: Counting objects: 100% (108/108)\u001b[K\rremote: Counting objects: 100% (108/108), done.\u001b[K\n",
            "remote: Compressing objects:   1% (1/70)\u001b[K\rremote: Compressing objects:   2% (2/70)\u001b[K\rremote: Compressing objects:   4% (3/70)\u001b[K\rremote: Compressing objects:   5% (4/70)\u001b[K\rremote: Compressing objects:   7% (5/70)\u001b[K\rremote: Compressing objects:   8% (6/70)\u001b[K\rremote: Compressing objects:  10% (7/70)\u001b[K\rremote: Compressing objects:  11% (8/70)\u001b[K\rremote: Compressing objects:  12% (9/70)\u001b[K\rremote: Compressing objects:  14% (10/70)\u001b[K\rremote: Compressing objects:  15% (11/70)\u001b[K\rremote: Compressing objects:  17% (12/70)\u001b[K\rremote: Compressing objects:  18% (13/70)\u001b[K\rremote: Compressing objects:  20% (14/70)\u001b[K\rremote: Compressing objects:  21% (15/70)\u001b[K\rremote: Compressing objects:  22% (16/70)\u001b[K\rremote: Compressing objects:  24% (17/70)\u001b[K\rremote: Compressing objects:  25% (18/70)\u001b[K\rremote: Compressing objects:  27% (19/70)\u001b[K\rremote: Compressing objects:  28% (20/70)\u001b[K\rremote: Compressing objects:  30% (21/70)\u001b[K\rremote: Compressing objects:  31% (22/70)\u001b[K\rremote: Compressing objects:  32% (23/70)\u001b[K\rremote: Compressing objects:  34% (24/70)\u001b[K\rremote: Compressing objects:  35% (25/70)\u001b[K\rremote: Compressing objects:  37% (26/70)\u001b[K\rremote: Compressing objects:  38% (27/70)\u001b[K\rremote: Compressing objects:  40% (28/70)\u001b[K\rremote: Compressing objects:  41% (29/70)\u001b[K\rremote: Compressing objects:  42% (30/70)\u001b[K\rremote: Compressing objects:  44% (31/70)\u001b[K\rremote: Compressing objects:  45% (32/70)\u001b[K\rremote: Compressing objects:  47% (33/70)\u001b[K\rremote: Compressing objects:  48% (34/70)\u001b[K\rremote: Compressing objects:  50% (35/70)\u001b[K\rremote: Compressing objects:  51% (36/70)\u001b[K\rremote: Compressing objects:  52% (37/70)\u001b[K\rremote: Compressing objects:  54% (38/70)\u001b[K\rremote: Compressing objects:  55% (39/70)\u001b[K\rremote: Compressing objects:  57% (40/70)\u001b[K\rremote: Compressing objects:  58% (41/70)\u001b[K\rremote: Compressing objects:  60% (42/70)\u001b[K\rremote: Compressing objects:  61% (43/70)\u001b[K\rremote: Compressing objects:  62% (44/70)\u001b[K\rremote: Compressing objects:  64% (45/70)\u001b[K\rremote: Compressing objects:  65% (46/70)\u001b[K\rremote: Compressing objects:  67% (47/70)\u001b[K\rremote: Compressing objects:  68% (48/70)\u001b[K\rremote: Compressing objects:  70% (49/70)\u001b[K\rremote: Compressing objects:  71% (50/70)\u001b[K\rremote: Compressing objects:  72% (51/70)\u001b[K\rremote: Compressing objects:  74% (52/70)\u001b[K\rremote: Compressing objects:  75% (53/70)\u001b[K\rremote: Compressing objects:  77% (54/70)\u001b[K\rremote: Compressing objects:  78% (55/70)\u001b[K\rremote: Compressing objects:  80% (56/70)\u001b[K\rremote: Compressing objects:  81% (57/70)\u001b[K\rremote: Compressing objects:  82% (58/70)\u001b[K\rremote: Compressing objects:  84% (59/70)\u001b[K\rremote: Compressing objects:  85% (60/70)\u001b[K\rremote: Compressing objects:  87% (61/70)\u001b[K\rremote: Compressing objects:  88% (62/70)\u001b[K\rremote: Compressing objects:  90% (63/70)\u001b[K\rremote: Compressing objects:  91% (64/70)\u001b[K\rremote: Compressing objects:  92% (65/70)\u001b[K\rremote: Compressing objects:  94% (66/70)\u001b[K\rremote: Compressing objects:  95% (67/70)\u001b[K\rremote: Compressing objects:  97% (68/70)\u001b[K\rremote: Compressing objects:  98% (69/70)\u001b[K\rremote: Compressing objects: 100% (70/70)\u001b[K\rremote: Compressing objects: 100% (70/70), done.\u001b[K\n",
            "Receiving objects:   0% (1/351)   \rReceiving objects:   1% (4/351)   \rReceiving objects:   2% (8/351)   \rReceiving objects:   3% (11/351)   \rReceiving objects:   4% (15/351)   \rReceiving objects:   5% (18/351)   \rReceiving objects:   6% (22/351)   \rReceiving objects:   7% (25/351)   \rReceiving objects:   8% (29/351)   \rReceiving objects:   9% (32/351)   \rReceiving objects:  10% (36/351)   \rReceiving objects:  11% (39/351)   \rReceiving objects:  12% (43/351)   \rReceiving objects:  13% (46/351)   \rReceiving objects:  14% (50/351)   \rReceiving objects:  15% (53/351)   \rReceiving objects:  16% (57/351)   \rReceiving objects:  17% (60/351)   \rReceiving objects:  18% (64/351)   \rReceiving objects:  19% (67/351)   \rReceiving objects:  20% (71/351)   \rReceiving objects:  21% (74/351)   \rReceiving objects:  22% (78/351)   \rReceiving objects:  23% (81/351)   \rReceiving objects:  24% (85/351)   \rReceiving objects:  25% (88/351)   \rReceiving objects:  26% (92/351)   \rReceiving objects:  27% (95/351)   \rReceiving objects:  28% (99/351)   \rReceiving objects:  29% (102/351)   \rReceiving objects:  30% (106/351)   \rReceiving objects:  31% (109/351)   \rReceiving objects:  32% (113/351)   \rReceiving objects:  33% (116/351)   \rReceiving objects:  34% (120/351)   \rReceiving objects:  35% (123/351)   \rReceiving objects:  36% (127/351)   \rReceiving objects:  37% (130/351)   \rReceiving objects:  38% (134/351)   \rReceiving objects:  39% (137/351)   \rReceiving objects:  40% (141/351)   \rReceiving objects:  41% (144/351)   \rReceiving objects:  42% (148/351)   \rReceiving objects:  43% (151/351)   \rReceiving objects:  44% (155/351)   \rReceiving objects:  45% (158/351)   \rReceiving objects:  46% (162/351)   \rReceiving objects:  47% (165/351)   \rReceiving objects:  48% (169/351)   \rReceiving objects:  49% (172/351)   \rReceiving objects:  50% (176/351)   \rReceiving objects:  51% (180/351)   \rReceiving objects:  52% (183/351)   \rReceiving objects:  53% (187/351)   \rReceiving objects:  54% (190/351)   \rReceiving objects:  55% (194/351)   \rReceiving objects:  56% (197/351)   \rReceiving objects:  57% (201/351)   \rReceiving objects:  58% (204/351)   \rReceiving objects:  59% (208/351)   \rReceiving objects:  60% (211/351)   \rReceiving objects:  61% (215/351)   \rReceiving objects:  62% (218/351)   \rReceiving objects:  63% (222/351)   \rReceiving objects:  64% (225/351)   \rReceiving objects:  65% (229/351), 2.07 MiB | 4.15 MiB/s   \rReceiving objects:  66% (232/351), 2.07 MiB | 4.15 MiB/s   \rremote: Total 351 (delta 64), reused 71 (delta 38), pack-reused 243\u001b[K\n",
            "Receiving objects:  67% (236/351), 2.07 MiB | 4.15 MiB/s   \rReceiving objects:  68% (239/351), 2.07 MiB | 4.15 MiB/s   \rReceiving objects:  69% (243/351), 2.07 MiB | 4.15 MiB/s   \rReceiving objects:  70% (246/351), 2.07 MiB | 4.15 MiB/s   \rReceiving objects:  71% (250/351), 2.07 MiB | 4.15 MiB/s   \rReceiving objects:  72% (253/351), 2.07 MiB | 4.15 MiB/s   \rReceiving objects:  73% (257/351), 2.07 MiB | 4.15 MiB/s   \rReceiving objects:  74% (260/351), 2.07 MiB | 4.15 MiB/s   \rReceiving objects:  75% (264/351), 2.07 MiB | 4.15 MiB/s   \rReceiving objects:  76% (267/351), 2.07 MiB | 4.15 MiB/s   \rReceiving objects:  77% (271/351), 2.07 MiB | 4.15 MiB/s   \rReceiving objects:  78% (274/351), 2.07 MiB | 4.15 MiB/s   \rReceiving objects:  79% (278/351), 2.07 MiB | 4.15 MiB/s   \rReceiving objects:  80% (281/351), 2.07 MiB | 4.15 MiB/s   \rReceiving objects:  81% (285/351), 2.07 MiB | 4.15 MiB/s   \rReceiving objects:  82% (288/351), 2.07 MiB | 4.15 MiB/s   \rReceiving objects:  83% (292/351), 2.07 MiB | 4.15 MiB/s   \rReceiving objects:  84% (295/351), 2.07 MiB | 4.15 MiB/s   \rReceiving objects:  85% (299/351), 2.07 MiB | 4.15 MiB/s   \rReceiving objects:  86% (302/351), 2.07 MiB | 4.15 MiB/s   \rReceiving objects:  87% (306/351), 2.07 MiB | 4.15 MiB/s   \rReceiving objects:  88% (309/351), 2.07 MiB | 4.15 MiB/s   \rReceiving objects:  89% (313/351), 2.07 MiB | 4.15 MiB/s   \rReceiving objects:  90% (316/351), 2.07 MiB | 4.15 MiB/s   \rReceiving objects:  91% (320/351), 2.07 MiB | 4.15 MiB/s   \rReceiving objects:  92% (323/351), 2.07 MiB | 4.15 MiB/s   \rReceiving objects:  93% (327/351), 2.07 MiB | 4.15 MiB/s   \rReceiving objects:  94% (330/351), 2.07 MiB | 4.15 MiB/s   \rReceiving objects:  95% (334/351), 2.07 MiB | 4.15 MiB/s   \rReceiving objects:  96% (337/351), 2.07 MiB | 4.15 MiB/s   \rReceiving objects:  97% (341/351), 2.07 MiB | 4.15 MiB/s   \rReceiving objects:  98% (344/351), 2.07 MiB | 4.15 MiB/s   \rReceiving objects:  99% (348/351), 2.07 MiB | 4.15 MiB/s   \rReceiving objects: 100% (351/351), 2.07 MiB | 4.15 MiB/s   \rReceiving objects: 100% (351/351), 5.99 MiB | 9.12 MiB/s, done.\n",
            "Resolving deltas:   0% (0/195)   \rResolving deltas:   4% (9/195)   \rResolving deltas:  20% (40/195)   \rResolving deltas:  22% (43/195)   \rResolving deltas:  23% (45/195)   \rResolving deltas:  29% (58/195)   \rResolving deltas:  30% (59/195)   \rResolving deltas:  36% (71/195)   \rResolving deltas:  37% (73/195)   \rResolving deltas:  38% (75/195)   \rResolving deltas:  40% (78/195)   \rResolving deltas:  41% (80/195)   \rResolving deltas:  47% (92/195)   \rResolving deltas:  49% (96/195)   \rResolving deltas:  57% (113/195)   \rResolving deltas:  58% (115/195)   \rResolving deltas:  62% (121/195)   \rResolving deltas:  66% (130/195)   \rResolving deltas:  84% (165/195)   \rResolving deltas:  89% (174/195)   \rResolving deltas:  90% (177/195)   \rResolving deltas:  99% (194/195)   \rResolving deltas: 100% (195/195)   \rResolving deltas: 100% (195/195), done.\n",
            "/content/bachelor_design\n"
          ],
          "name": "stdout"
        }
      ]
    },
    {
      "cell_type": "code",
      "metadata": {
        "colab_type": "code",
        "id": "S4uVkxeL8uOL",
        "scrolled": true,
        "outputId": "7e1850ee-344b-4968-c8fb-a954c56ea5fe",
        "colab": {
          "base_uri": "https://localhost:8080/",
          "height": 67
        }
      },
      "source": [
        "!git checkout equal_realize"
      ],
      "execution_count": 3,
      "outputs": [
        {
          "output_type": "stream",
          "text": [
            "Branch 'equal_realize' set up to track remote branch 'equal_realize' from 'origin'.\n",
            "Switched to a new branch 'equal_realize'\n",
            "Already up to date.\n"
          ],
          "name": "stdout"
        }
      ]
    },
    {
      "cell_type": "code",
      "metadata": {
        "id": "h-sL4R6OI_8Y",
        "colab_type": "code",
        "colab": {
          "base_uri": "https://localhost:8080/",
          "height": 202
        },
        "outputId": "8a3f29cb-1b0d-40f8-dada-d39f32e16f9c"
      },
      "source": [
        "!git pull"
      ],
      "execution_count": 47,
      "outputs": [
        {
          "output_type": "stream",
          "text": [
            "remote: Enumerating objects: 5, done.\u001b[K\n",
            "remote: Counting objects:  20% (1/5)\u001b[K\rremote: Counting objects:  40% (2/5)\u001b[K\rremote: Counting objects:  60% (3/5)\u001b[K\rremote: Counting objects:  80% (4/5)\u001b[K\rremote: Counting objects: 100% (5/5)\u001b[K\rremote: Counting objects: 100% (5/5), done.\u001b[K\n",
            "remote: Compressing objects: 100% (1/1)\u001b[K\rremote: Compressing objects: 100% (1/1), done.\u001b[K\n",
            "remote: Total 3 (delta 2), reused 3 (delta 2), pack-reused 0\u001b[K\n",
            "Unpacking objects:  33% (1/3)   \rUnpacking objects:  66% (2/3)   \rUnpacking objects: 100% (3/3)   \rUnpacking objects: 100% (3/3), done.\n",
            "From https://github.com/supplient/bachelor_design\n",
            "   9710746..519bd10  equal_realize -> origin/equal_realize\n",
            "Updating 9710746..519bd10\n",
            "Fast-forward\n",
            " epoch_checkpoint.py | 3 \u001b[32m+++\u001b[m\n",
            " 1 file changed, 3 insertions(+)\n"
          ],
          "name": "stdout"
        }
      ]
    },
    {
      "cell_type": "markdown",
      "metadata": {
        "colab_type": "text",
        "id": "gdgaaQWTo_Qm"
      },
      "source": [
        "# Mount GDriver\n",
        "Perpare Colab environment."
      ]
    },
    {
      "cell_type": "code",
      "metadata": {
        "colab_type": "code",
        "id": "XuNfDlfh4v4-",
        "outputId": "707e2958-8588-4786-f795-cbfd4fcbdeb5",
        "colab": {
          "base_uri": "https://localhost:8080/",
          "height": 138
        }
      },
      "source": [
        "from driver_amount import addh"
      ],
      "execution_count": 4,
      "outputs": [
        {
          "output_type": "stream",
          "text": [
            "Go to this URL in a browser: https://accounts.google.com/o/oauth2/auth?client_id=947318989803-6bn6qk8qdgf4n4g3pfee6491hc0brc4i.apps.googleusercontent.com&redirect_uri=urn%3aietf%3awg%3aoauth%3a2.0%3aoob&response_type=code&scope=email%20https%3a%2f%2fwww.googleapis.com%2fauth%2fdocs.test%20https%3a%2f%2fwww.googleapis.com%2fauth%2fdrive%20https%3a%2f%2fwww.googleapis.com%2fauth%2fdrive.photos.readonly%20https%3a%2f%2fwww.googleapis.com%2fauth%2fpeopleapi.readonly\n",
            "\n",
            "Enter your authorization code:\n",
            "··········\n",
            "Mounted at /gdrive\n",
            "[Colab] Using address head: /gdrive/My Drive\n"
          ],
          "name": "stdout"
        }
      ]
    },
    {
      "cell_type": "code",
      "metadata": {
        "colab_type": "code",
        "id": "nGqJ3bOy8fGg",
        "outputId": "a529c785-bac9-4662-e052-df2d6d1e3206",
        "colab": {
          "base_uri": "https://localhost:8080/",
          "height": 910
        }
      },
      "source": [
        "!pip install keras_bert"
      ],
      "execution_count": 5,
      "outputs": [
        {
          "output_type": "stream",
          "text": [
            "Collecting keras_bert\n",
            "  Downloading https://files.pythonhosted.org/packages/2c/0f/cdc886c1018943ea62d3209bc964413d5aa9d0eb7e493abd8545be679294/keras-bert-0.81.0.tar.gz\n",
            "Requirement already satisfied: numpy in /usr/local/lib/python3.6/dist-packages (from keras_bert) (1.18.2)\n",
            "Requirement already satisfied: Keras in /usr/local/lib/python3.6/dist-packages (from keras_bert) (2.3.1)\n",
            "Collecting keras-transformer>=0.30.0\n",
            "  Downloading https://files.pythonhosted.org/packages/54/0c/fede535ac576c03863c44bf2e0bf051fe21f5e10103631b6b6236ae446f3/keras-transformer-0.32.0.tar.gz\n",
            "Requirement already satisfied: h5py in /usr/local/lib/python3.6/dist-packages (from Keras->keras_bert) (2.10.0)\n",
            "Requirement already satisfied: scipy>=0.14 in /usr/local/lib/python3.6/dist-packages (from Keras->keras_bert) (1.4.1)\n",
            "Requirement already satisfied: six>=1.9.0 in /usr/local/lib/python3.6/dist-packages (from Keras->keras_bert) (1.12.0)\n",
            "Requirement already satisfied: keras-preprocessing>=1.0.5 in /usr/local/lib/python3.6/dist-packages (from Keras->keras_bert) (1.1.0)\n",
            "Requirement already satisfied: pyyaml in /usr/local/lib/python3.6/dist-packages (from Keras->keras_bert) (3.13)\n",
            "Requirement already satisfied: keras-applications>=1.0.6 in /usr/local/lib/python3.6/dist-packages (from Keras->keras_bert) (1.0.8)\n",
            "Collecting keras-pos-embd>=0.10.0\n",
            "  Downloading https://files.pythonhosted.org/packages/09/70/b63ed8fc660da2bb6ae29b9895401c628da5740c048c190b5d7107cadd02/keras-pos-embd-0.11.0.tar.gz\n",
            "Collecting keras-multi-head>=0.22.0\n",
            "  Downloading https://files.pythonhosted.org/packages/40/3e/d0a64bb2ac5217928effe4507c26bbd19b86145d16a1948bc2d4f4c6338a/keras-multi-head-0.22.0.tar.gz\n",
            "Collecting keras-layer-normalization>=0.12.0\n",
            "  Downloading https://files.pythonhosted.org/packages/a4/0e/d1078df0494bac9ce1a67954e5380b6e7569668f0f3b50a9531c62c1fc4a/keras-layer-normalization-0.14.0.tar.gz\n",
            "Collecting keras-position-wise-feed-forward>=0.5.0\n",
            "  Downloading https://files.pythonhosted.org/packages/e3/59/f0faa1037c033059e7e9e7758e6c23b4d1c0772cd48de14c4b6fd4033ad5/keras-position-wise-feed-forward-0.6.0.tar.gz\n",
            "Collecting keras-embed-sim>=0.7.0\n",
            "  Downloading https://files.pythonhosted.org/packages/bc/20/735fd53f6896e2af63af47e212601c1b8a7a80d00b6126c388c9d1233892/keras-embed-sim-0.7.0.tar.gz\n",
            "Collecting keras-self-attention==0.41.0\n",
            "  Downloading https://files.pythonhosted.org/packages/1b/1c/01599219bef7266fa43b3316e4f55bcb487734d3bafdc60ffd564f3cfe29/keras-self-attention-0.41.0.tar.gz\n",
            "Building wheels for collected packages: keras-bert, keras-transformer, keras-pos-embd, keras-multi-head, keras-layer-normalization, keras-position-wise-feed-forward, keras-embed-sim, keras-self-attention\n",
            "  Building wheel for keras-bert (setup.py) ... \u001b[?25l\u001b[?25hdone\n",
            "  Created wheel for keras-bert: filename=keras_bert-0.81.0-cp36-none-any.whl size=37913 sha256=7567f012ade7ad20014d32734ee6b952193364127e33ecbc8718181574cdb68e\n",
            "  Stored in directory: /root/.cache/pip/wheels/bd/27/da/ffc2d573aa48b87440ec4f98bc7c992e3a2d899edb2d22ef9e\n",
            "  Building wheel for keras-transformer (setup.py) ... \u001b[?25l\u001b[?25hdone\n",
            "  Created wheel for keras-transformer: filename=keras_transformer-0.32.0-cp36-none-any.whl size=13266 sha256=236be3b492bee5aff95248e35853aa4882d973a7aa92953a54d673d16694576e\n",
            "  Stored in directory: /root/.cache/pip/wheels/62/f0/ce/82fa5d024d5ef8e263f26a50dcee23820efe245680ce9c922a\n",
            "  Building wheel for keras-pos-embd (setup.py) ... \u001b[?25l\u001b[?25hdone\n",
            "  Created wheel for keras-pos-embd: filename=keras_pos_embd-0.11.0-cp36-none-any.whl size=7554 sha256=b7ad0387e4a4f81f271faf94a31365159232efe269cf90f7f30d135e8fcff3dd\n",
            "  Stored in directory: /root/.cache/pip/wheels/5b/a1/a0/ce6b1d49ba1a9a76f592e70cf297b05c96bc9f418146761032\n",
            "  Building wheel for keras-multi-head (setup.py) ... \u001b[?25l\u001b[?25hdone\n",
            "  Created wheel for keras-multi-head: filename=keras_multi_head-0.22.0-cp36-none-any.whl size=15371 sha256=0332526d89fc1129105cc3c756832d4e16f0e98593c51e5e5c79864999619d6e\n",
            "  Stored in directory: /root/.cache/pip/wheels/bb/df/3f/81b36f41b66e6a9cd69224c70a737de2bb6b2f7feb3272c25e\n",
            "  Building wheel for keras-layer-normalization (setup.py) ... \u001b[?25l\u001b[?25hdone\n",
            "  Created wheel for keras-layer-normalization: filename=keras_layer_normalization-0.14.0-cp36-none-any.whl size=5268 sha256=eaf842e8aa950d4663077942e34885634971f9be42cfa54c064f2f6798c46d44\n",
            "  Stored in directory: /root/.cache/pip/wheels/54/80/22/a638a7d406fd155e507aa33d703e3fa2612b9eb7bb4f4fe667\n",
            "  Building wheel for keras-position-wise-feed-forward (setup.py) ... \u001b[?25l\u001b[?25hdone\n",
            "  Created wheel for keras-position-wise-feed-forward: filename=keras_position_wise_feed_forward-0.6.0-cp36-none-any.whl size=5623 sha256=30e7b28e1dbec66f7155938613a843be6ef672c4c1f09e0db90baf38624b0b8c\n",
            "  Stored in directory: /root/.cache/pip/wheels/39/e2/e2/3514fef126a00574b13bc0b9e23891800158df3a3c19c96e3b\n",
            "  Building wheel for keras-embed-sim (setup.py) ... \u001b[?25l\u001b[?25hdone\n",
            "  Created wheel for keras-embed-sim: filename=keras_embed_sim-0.7.0-cp36-none-any.whl size=4676 sha256=53fcbc08c1eda2e757ce85fb88de8594a707b1956e4f68a9454ced16da6f851b\n",
            "  Stored in directory: /root/.cache/pip/wheels/d1/bc/b1/b0c45cee4ca2e6c86586b0218ffafe7f0703c6d07fdf049866\n",
            "  Building wheel for keras-self-attention (setup.py) ... \u001b[?25l\u001b[?25hdone\n",
            "  Created wheel for keras-self-attention: filename=keras_self_attention-0.41.0-cp36-none-any.whl size=17288 sha256=53585ed6a54b2477cc5f77e582a4be0e5715343f2a1627d5d988711eb307c947\n",
            "  Stored in directory: /root/.cache/pip/wheels/cc/dc/17/84258b27a04cd38ac91998abe148203720ca696186635db694\n",
            "Successfully built keras-bert keras-transformer keras-pos-embd keras-multi-head keras-layer-normalization keras-position-wise-feed-forward keras-embed-sim keras-self-attention\n",
            "Installing collected packages: keras-pos-embd, keras-self-attention, keras-multi-head, keras-layer-normalization, keras-position-wise-feed-forward, keras-embed-sim, keras-transformer, keras-bert\n",
            "Successfully installed keras-bert-0.81.0 keras-embed-sim-0.7.0 keras-layer-normalization-0.14.0 keras-multi-head-0.22.0 keras-pos-embd-0.11.0 keras-position-wise-feed-forward-0.6.0 keras-self-attention-0.41.0 keras-transformer-0.32.0\n"
          ],
          "name": "stdout"
        }
      ]
    },
    {
      "cell_type": "code",
      "metadata": {
        "colab_type": "code",
        "id": "smZ4TyF0f64H",
        "outputId": "d2f2a134-deed-4a0f-b390-0414b224056e",
        "colab": {
          "base_uri": "https://localhost:8080/",
          "height": 319
        }
      },
      "source": [
        "!pip install git+https://www.github.com/keras-team/keras-contrib.git"
      ],
      "execution_count": 6,
      "outputs": [
        {
          "output_type": "stream",
          "text": [
            "Collecting git+https://www.github.com/keras-team/keras-contrib.git\n",
            "  Cloning https://www.github.com/keras-team/keras-contrib.git to /tmp/pip-req-build-okoqqfl9\n",
            "  Running command git clone -q https://www.github.com/keras-team/keras-contrib.git /tmp/pip-req-build-okoqqfl9\n",
            "Requirement already satisfied: keras in /usr/local/lib/python3.6/dist-packages (from keras-contrib==2.0.8) (2.3.1)\n",
            "Requirement already satisfied: scipy>=0.14 in /usr/local/lib/python3.6/dist-packages (from keras->keras-contrib==2.0.8) (1.4.1)\n",
            "Requirement already satisfied: pyyaml in /usr/local/lib/python3.6/dist-packages (from keras->keras-contrib==2.0.8) (3.13)\n",
            "Requirement already satisfied: keras-preprocessing>=1.0.5 in /usr/local/lib/python3.6/dist-packages (from keras->keras-contrib==2.0.8) (1.1.0)\n",
            "Requirement already satisfied: six>=1.9.0 in /usr/local/lib/python3.6/dist-packages (from keras->keras-contrib==2.0.8) (1.12.0)\n",
            "Requirement already satisfied: h5py in /usr/local/lib/python3.6/dist-packages (from keras->keras-contrib==2.0.8) (2.10.0)\n",
            "Requirement already satisfied: numpy>=1.9.1 in /usr/local/lib/python3.6/dist-packages (from keras->keras-contrib==2.0.8) (1.18.2)\n",
            "Requirement already satisfied: keras-applications>=1.0.6 in /usr/local/lib/python3.6/dist-packages (from keras->keras-contrib==2.0.8) (1.0.8)\n",
            "Building wheels for collected packages: keras-contrib\n",
            "  Building wheel for keras-contrib (setup.py) ... \u001b[?25l\u001b[?25hdone\n",
            "  Created wheel for keras-contrib: filename=keras_contrib-2.0.8-cp36-none-any.whl size=101064 sha256=9d6fce0fed8f578608f6d43700e50290cd03784a0e57edc80e028c6e38362790\n",
            "  Stored in directory: /tmp/pip-ephem-wheel-cache-k0iqdaaz/wheels/11/27/c8/4ed56de7b55f4f61244e2dc6ef3cdbaff2692527a2ce6502ba\n",
            "Successfully built keras-contrib\n",
            "Installing collected packages: keras-contrib\n",
            "Successfully installed keras-contrib-2.0.8\n"
          ],
          "name": "stdout"
        }
      ]
    },
    {
      "cell_type": "code",
      "metadata": {
        "colab_type": "code",
        "id": "jw7z_zzNgaSo",
        "colab": {}
      },
      "source": [
        "import os\n",
        "os.chdir(\"/usr/local/lib/python3.6/dist-packages/keras_contrib/layers/\")\n",
        "lines = []\n",
        "with open(\"crf.py\", \"r\") as fd:\n",
        "  lines = fd.readlines()\n",
        "lines[515] = \"            mask2 = K.cast(K.concatenate([mask, K.cast(K.zeros_like(mask[:, :1]), mask.dtype)], axis=1),\\n\"\n",
        "with open(\"crf.py\", \"w\") as fd:\n",
        "  fd.writelines(lines)\n",
        "\n",
        "os.chdir(\"/content\")"
      ],
      "execution_count": 0,
      "outputs": []
    },
    {
      "cell_type": "code",
      "metadata": {
        "id": "QkMrJDt3bnsT",
        "colab_type": "code",
        "colab": {}
      },
      "source": [
        "os.chdir(\"bachelor_design\")"
      ],
      "execution_count": 0,
      "outputs": []
    },
    {
      "cell_type": "markdown",
      "metadata": {
        "colab_type": "text",
        "id": "yKeEl1EWo_Q6"
      },
      "source": [
        "# Prepare Input"
      ]
    },
    {
      "cell_type": "code",
      "metadata": {
        "colab_type": "code",
        "id": "318x_FrYo_Q8",
        "colab": {}
      },
      "source": [
        "from cut_and_tag import cut_and_tag\n",
        "import preprocess\n",
        "import config"
      ],
      "execution_count": 0,
      "outputs": []
    },
    {
      "cell_type": "code",
      "metadata": {
        "colab_type": "code",
        "id": "Nb-5so9mo_RC",
        "outputId": "65a36306-db9b-4809-aa3f-f29d4e22fe13",
        "colab": {
          "base_uri": "https://localhost:8080/",
          "height": 101
        }
      },
      "source": [
        "cut_seqs, char_seqs, tag_seqs = cut_and_tag(\n",
        "    addh + config.DATA_PATH,\n",
        "    addh + config.STOPWORDS_PATH\n",
        ")\n",
        "char_seqs, tag_seqs = preprocess.shuffle_twin(\n",
        "    char_seqs,\n",
        "    tag_seqs\n",
        ")\n",
        "token_id_seqs, segment_seqs, tag_id_seqs, tag_vocab = preprocess.preprocess(\n",
        "    char_seqs, \n",
        "    tag_seqs,\n",
        "    addh + config.BERT_VOCAB_PATH,\n",
        "    SEQ_LEN=config.SEQ_LEN\n",
        "    )"
      ],
      "execution_count": 10,
      "outputs": [
        {
          "output_type": "stream",
          "text": [
            "Building prefix dict from the default dictionary ...\n",
            "Dumping model to file cache /tmp/jieba.cache\n",
            "Loading model cost 0.787 seconds.\n",
            "Prefix dict has been built successfully.\n",
            "Using TensorFlow backend.\n"
          ],
          "name": "stderr"
        }
      ]
    },
    {
      "cell_type": "code",
      "metadata": {
        "id": "TgySBfrhh5lp",
        "colab_type": "code",
        "colab": {}
      },
      "source": [
        "# Split train and text\n",
        "train_num = int(len(token_id_seqs) * 0.9)\n",
        "\n",
        "test_token_id_seqs = token_id_seqs[train_num:]\n",
        "test_segment_seqs = segment_seqs[train_num:]\n",
        "test_tag_id_seqs = tag_id_seqs[train_num:]\n",
        "\n",
        "train_token_id_seqs = token_id_seqs[0:train_num]\n",
        "train_segment_seqs = segment_seqs[0:train_num]\n",
        "train_tag_id_seqs = tag_id_seqs[0:train_num]"
      ],
      "execution_count": 0,
      "outputs": []
    },
    {
      "cell_type": "code",
      "metadata": {
        "colab_type": "code",
        "id": "fyctyVXk4v5T",
        "colab": {}
      },
      "source": [
        "import json\n",
        "with open(addh + config.TAG_VOCAB_PATH, \"w\") as fd:\n",
        "    json.dump(tag_vocab, fd)"
      ],
      "execution_count": 0,
      "outputs": []
    },
    {
      "cell_type": "code",
      "metadata": {
        "colab_type": "code",
        "id": "XLj4Kcwko_RW",
        "outputId": "6c1604e7-ce13-411d-a3a2-678962b19c38",
        "colab": {
          "base_uri": "https://localhost:8080/",
          "height": 218
        }
      },
      "source": [
        "tag_vocab"
      ],
      "execution_count": 13,
      "outputs": [
        {
          "output_type": "execute_result",
          "data": {
            "text/plain": [
              "{'': 0,\n",
              " 'B-EI': 2,\n",
              " 'B-EIF': 10,\n",
              " 'B-EO': 4,\n",
              " 'B-EQ': 8,\n",
              " 'B-ILF': 6,\n",
              " 'I-EI': 3,\n",
              " 'I-EIF': 11,\n",
              " 'I-EO': 5,\n",
              " 'I-EQ': 9,\n",
              " 'I-ILF': 7,\n",
              " 'O': 1}"
            ]
          },
          "metadata": {
            "tags": []
          },
          "execution_count": 13
        }
      ]
    },
    {
      "cell_type": "markdown",
      "metadata": {
        "colab_type": "text",
        "id": "wv1zgY3lo_Rb"
      },
      "source": [
        "# Build Model\n",
        "using BERT"
      ]
    },
    {
      "cell_type": "code",
      "metadata": {
        "colab_type": "code",
        "id": "QVZYwuGro_Rc",
        "colab": {}
      },
      "source": [
        "import keras\n",
        "import keras_bert "
      ],
      "execution_count": 0,
      "outputs": []
    },
    {
      "cell_type": "code",
      "metadata": {
        "colab_type": "code",
        "id": "tBszsRPVo_Rh",
        "outputId": "e17dbd39-0c71-4c0c-eaf6-c5c8b770d67c",
        "colab": {
          "base_uri": "https://localhost:8080/",
          "height": 87
        }
      },
      "source": [
        "bert_model = keras_bert.load_trained_model_from_checkpoint(\n",
        "    # config_file\n",
        "    addh + config.BERT_CONFIG_PATH, \n",
        "    # checkpoint file\n",
        "    addh + config.BERT_CHECKPOINT_PATH, \n",
        "    # settings\n",
        "    training=False, # Not train the whole model. Ignore NSP and MLM\n",
        "    trainable=True\n",
        "\n",
        ")"
      ],
      "execution_count": 15,
      "outputs": [
        {
          "output_type": "stream",
          "text": [
            "WARNING:tensorflow:From /tensorflow-1.15.2/python3.6/tensorflow_core/python/ops/resource_variable_ops.py:1630: calling BaseResourceVariable.__init__ (from tensorflow.python.ops.resource_variable_ops) with constraint is deprecated and will be removed in a future version.\n",
            "Instructions for updating:\n",
            "If using Keras pass *_constraint arguments to layers.\n"
          ],
          "name": "stdout"
        }
      ]
    },
    {
      "cell_type": "code",
      "metadata": {
        "colab_type": "code",
        "id": "KRVUQ-dDfW0F",
        "colab": {}
      },
      "source": [
        "from keras_contrib.layers import CRF"
      ],
      "execution_count": 0,
      "outputs": []
    },
    {
      "cell_type": "code",
      "metadata": {
        "colab_type": "code",
        "id": "7riudikwo_Rm",
        "colab": {}
      },
      "source": [
        "input_token = keras.layers.Input(shape=(config.SEQ_LEN,))\n",
        "input_segment = keras.layers.Input(shape=(config.SEQ_LEN,))\n",
        "\n",
        "bert_output = bert_model([input_token, input_segment])\n",
        "\n",
        "crf_model = CRF(len(tag_vocab), sparse_target=True)\n",
        "\n",
        "output = crf_model(bert_output)\n",
        "\n",
        "model = keras.models.Model([input_token, input_segment], output)"
      ],
      "execution_count": 0,
      "outputs": []
    },
    {
      "cell_type": "code",
      "metadata": {
        "colab_type": "code",
        "id": "lFIHlxiuo_Rp",
        "scrolled": true,
        "outputId": "cc814e83-2e78-4d55-e2e7-8e5ab62cf4bc",
        "colab": {
          "base_uri": "https://localhost:8080/",
          "height": 34
        }
      },
      "source": [
        "model.compute_output_shape([(1, config.SEQ_LEN), (1, config.SEQ_LEN)])"
      ],
      "execution_count": 18,
      "outputs": [
        {
          "output_type": "execute_result",
          "data": {
            "text/plain": [
              "(1, 512, 12)"
            ]
          },
          "metadata": {
            "tags": []
          },
          "execution_count": 18
        }
      ]
    },
    {
      "cell_type": "code",
      "metadata": {
        "colab_type": "code",
        "id": "nYy7det7o_Rr",
        "colab": {}
      },
      "source": [
        "bert_model.summary()"
      ],
      "execution_count": 0,
      "outputs": []
    },
    {
      "cell_type": "code",
      "metadata": {
        "colab_type": "code",
        "id": "TiKIMshVo_Ru",
        "outputId": "cde1975c-20fb-465a-e0da-649874a8d7e2",
        "colab": {
          "base_uri": "https://localhost:8080/",
          "height": 302
        }
      },
      "source": [
        "model.summary()"
      ],
      "execution_count": 20,
      "outputs": [
        {
          "output_type": "stream",
          "text": [
            "Model: \"model_3\"\n",
            "__________________________________________________________________________________________________\n",
            "Layer (type)                    Output Shape         Param #     Connected to                     \n",
            "==================================================================================================\n",
            "input_1 (InputLayer)            (None, 512)          0                                            \n",
            "__________________________________________________________________________________________________\n",
            "input_2 (InputLayer)            (None, 512)          0                                            \n",
            "__________________________________________________________________________________________________\n",
            "model_2 (Model)                 (None, 512, 768)     177262848   input_1[0][0]                    \n",
            "                                                                 input_2[0][0]                    \n",
            "__________________________________________________________________________________________________\n",
            "crf_1 (CRF)                     (None, 512, 12)      9396        model_2[1][0]                    \n",
            "==================================================================================================\n",
            "Total params: 177,272,244\n",
            "Trainable params: 177,272,244\n",
            "Non-trainable params: 0\n",
            "__________________________________________________________________________________________________\n"
          ],
          "name": "stdout"
        }
      ]
    },
    {
      "cell_type": "markdown",
      "metadata": {
        "colab_type": "text",
        "id": "1NnstgM3o_Rx"
      },
      "source": [
        "# Fine-tuning"
      ]
    },
    {
      "cell_type": "code",
      "metadata": {
        "colab_type": "code",
        "id": "PZnpZmJ9o_Ry",
        "outputId": "ca20fc42-b0f8-4eb7-b3d8-0ab04e6d001e",
        "colab": {
          "base_uri": "https://localhost:8080/",
          "height": 154
        }
      },
      "source": [
        "model.compile(\n",
        "    optimizer=keras.optimizers.Adam(lr=0.00004),\n",
        "    loss=crf_model.loss_function,\n",
        "    metrics=[crf_model.accuracy]\n",
        ")"
      ],
      "execution_count": 21,
      "outputs": [
        {
          "output_type": "stream",
          "text": [
            "/usr/local/lib/python3.6/dist-packages/keras_contrib/layers/crf.py:346: UserWarning: CRF.loss_function is deprecated and it might be removed in the future. Please use losses.crf_loss instead.\n",
            "  warnings.warn('CRF.loss_function is deprecated '\n",
            "/usr/local/lib/python3.6/dist-packages/keras_contrib/layers/crf.py:353: UserWarning: CRF.accuracy is deprecated and it might be removed in the future. Please use metrics.crf_accuracy\n",
            "  warnings.warn('CRF.accuracy is deprecated and it '\n"
          ],
          "name": "stderr"
        },
        {
          "output_type": "stream",
          "text": [
            "WARNING:tensorflow:From /tensorflow-1.15.2/python3.6/tensorflow_core/python/ops/math_ops.py:2509: where (from tensorflow.python.ops.array_ops) is deprecated and will be removed in a future version.\n",
            "Instructions for updating:\n",
            "Use tf.where in 2.0, which has the same broadcast rule as np.where\n"
          ],
          "name": "stdout"
        }
      ]
    },
    {
      "cell_type": "code",
      "metadata": {
        "id": "6fj71vwgJL7O",
        "colab_type": "code",
        "colab": {
          "base_uri": "https://localhost:8080/",
          "height": 34
        },
        "outputId": "89fe3304-1051-42bf-94ce-700b22ee2742"
      },
      "source": [
        "import importlib\n",
        "importlib.reload(epoch_checkpoint)"
      ],
      "execution_count": 48,
      "outputs": [
        {
          "output_type": "execute_result",
          "data": {
            "text/plain": [
              "<module 'epoch_checkpoint' from '/content/bachelor_design/epoch_checkpoint.py'>"
            ]
          },
          "metadata": {
            "tags": []
          },
          "execution_count": 48
        }
      ]
    },
    {
      "cell_type": "code",
      "metadata": {
        "colab_type": "code",
        "id": "KFQwbTXw4v6G",
        "colab": {}
      },
      "source": [
        "import epoch_checkpoint\n",
        "epoch_callback = epoch_checkpoint.EpochCheckpoint(\n",
        "    addh + config.MODEL_PATH,\n",
        "    addh + config.TRAIN_REC_PATH,\n",
        "    1,\n",
        "    [test_token_id_seqs, test_segment_seqs],\n",
        "    test_tag_id_seqs,\n",
        "    tag_vocab\n",
        "    )"
      ],
      "execution_count": 0,
      "outputs": []
    },
    {
      "cell_type": "code",
      "metadata": {
        "id": "0SGSYr-n5Gsl",
        "colab_type": "code",
        "colab": {}
      },
      "source": [
        "batch_size = 16\n",
        "completed = False\n",
        "import tensorflow as tf"
      ],
      "execution_count": 0,
      "outputs": []
    },
    {
      "cell_type": "code",
      "metadata": {
        "colab_type": "code",
        "id": "fiWLYOZHo_R3",
        "outputId": "2cba5481-eba6-4f1c-cc3c-7cabd3753be7",
        "colab": {
          "base_uri": "https://localhost:8080/",
          "height": 974
        }
      },
      "source": [
        "while not completed:\n",
        "  try:\n",
        "    model.fit(\n",
        "      x=[train_token_id_seqs, train_segment_seqs],\n",
        "      y=[train_tag_id_seqs], \n",
        "      batch_size=batch_size, \n",
        "      epochs=30,\n",
        "      verbose=1,\n",
        "      validation_data=[[test_token_id_seqs, test_segment_seqs], [test_tag_id_seqs]],\n",
        "      callbacks=[epoch_callback]\n",
        "    )\n",
        "    completed = True\n",
        "  except tf.errors.ResourceExhaustedError as e:\n",
        "    batch_size = int(batch_size/2)\n",
        "    print(\"Batch Size too large, turn to \" + str(batch_size))\n",
        "    if batch_size < 1:\n",
        "      raise e"
      ],
      "execution_count": 0,
      "outputs": [
        {
          "output_type": "stream",
          "text": [
            "Train on 7005 samples, validate on 779 samples\n",
            "Epoch 1/30\n",
            "7005/7005 [==============================] - 2438s 348ms/step - loss: 55.6910 - crf_viterbi_accuracy: 0.9030 - val_loss: 56.1400 - val_crf_viterbi_accuracy: 0.8825\n",
            "Saving checkpint...\n",
            "Predicing for matrics calculating...\n",
            "779/779 [==============================] - 95s 122ms/step\n",
            "Updating train record...\n",
            "Epoch 2/30\n",
            "7005/7005 [==============================] - 2442s 349ms/step - loss: 55.6308 - crf_viterbi_accuracy: 0.9212 - val_loss: 56.1451 - val_crf_viterbi_accuracy: 0.8757\n",
            "Saving checkpint...\n",
            "Predicing for matrics calculating...\n",
            "779/779 [==============================] - 96s 124ms/step\n",
            "Updating train record...\n",
            "Epoch 3/30\n",
            "7005/7005 [==============================] - 2455s 350ms/step - loss: 55.6038 - crf_viterbi_accuracy: 0.9295 - val_loss: 56.1804 - val_crf_viterbi_accuracy: 0.8793\n",
            "Saving checkpint...\n",
            "Predicing for matrics calculating...\n",
            "779/779 [==============================] - 96s 124ms/step\n",
            "Updating train record...\n",
            "Epoch 4/30\n",
            "7005/7005 [==============================] - 2500s 357ms/step - loss: 55.5835 - crf_viterbi_accuracy: 0.9363 - val_loss: 56.1295 - val_crf_viterbi_accuracy: 0.8843\n",
            "Saving checkpint...\n",
            "Predicing for matrics calculating...\n",
            "779/779 [==============================] - 99s 127ms/step\n",
            "Updating train record...\n",
            "Epoch 5/30\n",
            "7005/7005 [==============================] - 2540s 363ms/step - loss: 55.5593 - crf_viterbi_accuracy: 0.9431 - val_loss: 56.1510 - val_crf_viterbi_accuracy: 0.8784\n",
            "Saving checkpint...\n",
            "Predicing for matrics calculating...\n",
            "779/779 [==============================] - 100s 128ms/step\n",
            "Updating train record...\n",
            "Epoch 6/30\n",
            "7005/7005 [==============================] - 2441s 348ms/step - loss: 55.5458 - crf_viterbi_accuracy: 0.9475 - val_loss: 56.1583 - val_crf_viterbi_accuracy: 0.8925\n",
            "Saving checkpint...\n",
            "Predicing for matrics calculating...\n",
            "779/779 [==============================] - 96s 123ms/step\n",
            "Updating train record...\n",
            "Epoch 7/30\n",
            "7005/7005 [==============================] - 2448s 349ms/step - loss: 55.5285 - crf_viterbi_accuracy: 0.9516 - val_loss: 56.1721 - val_crf_viterbi_accuracy: 0.8949\n",
            "Saving checkpint...\n",
            "Predicing for matrics calculating...\n",
            "779/779 [==============================] - 100s 128ms/step\n",
            "Updating train record...\n",
            "Epoch 8/30\n",
            "7005/7005 [==============================] - 2574s 367ms/step - loss: 55.5249 - crf_viterbi_accuracy: 0.9533 - val_loss: 56.2572 - val_crf_viterbi_accuracy: 0.8830\n",
            "Saving checkpint...\n",
            "Predicing for matrics calculating...\n",
            "779/779 [==============================] - 102s 131ms/step\n",
            "Updating train record...\n",
            "Epoch 9/30\n",
            "7005/7005 [==============================] - 2463s 352ms/step - loss: 55.5146 - crf_viterbi_accuracy: 0.9566 - val_loss: 56.2295 - val_crf_viterbi_accuracy: 0.8844\n",
            "Saving checkpint...\n",
            "Predicing for matrics calculating...\n",
            "779/779 [==============================] - 96s 123ms/step\n",
            "Updating train record...\n",
            "Epoch 10/30\n",
            "5580/7005 [======================>.......] - ETA: 7:51 - loss: 55.2481 - crf_viterbi_accuracy: 0.9580"
          ],
          "name": "stdout"
        }
      ]
    },
    {
      "cell_type": "code",
      "metadata": {
        "id": "KbqVngkPToDK",
        "colab_type": "code",
        "colab": {
          "base_uri": "https://localhost:8080/",
          "height": 84
        },
        "outputId": "6981a763-debb-4062-f780-ff091254ccd2"
      },
      "source": [
        "for key, value in epoch_callback.train_rec[1][\"logs\"].items():\n",
        "  print(str(key) + \": \" + str(type(key)) + \", \" + str(type(value)))"
      ],
      "execution_count": 42,
      "outputs": [
        {
          "output_type": "stream",
          "text": [
            "val_loss: <class 'str'>, <class 'float'>\n",
            "val_crf_viterbi_accuracy: <class 'str'>, <class 'float'>\n",
            "loss: <class 'str'>, <class 'numpy.float64'>\n",
            "crf_viterbi_accuracy: <class 'str'>, <class 'numpy.float32'>\n"
          ],
          "name": "stdout"
        }
      ]
    },
    {
      "cell_type": "code",
      "metadata": {
        "colab_type": "code",
        "id": "Zp-wuH9RBk3r",
        "colab": {}
      },
      "source": [
        "model.save(addh + config.MODEL_PATH)"
      ],
      "execution_count": 0,
      "outputs": []
    }
  ]
}