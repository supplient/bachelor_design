{
 "cells": [
  {
   "cell_type": "markdown",
   "metadata": {},
   "source": [
    "# Mount GDriver\n",
    "Perpare Colab environment."
   ]
  },
  {
   "cell_type": "code",
   "execution_count": 4,
   "metadata": {
    "scrolled": true
   },
   "outputs": [],
   "source": [
    "locale = False\n",
    "try:\n",
    "    import google.colab\n",
    "    google.colab.drive.mount('/gdrive')\n",
    "except ModuleNotFoundError:\n",
    "    locale = True"
   ]
  },
  {
   "cell_type": "code",
   "execution_count": null,
   "metadata": {},
   "outputs": [],
   "source": [
    "addh = \"/gdrive/My Drive\"\n",
    "if locale:\n",
    "    addh = \"/mnt/d/My Drive\"\n",
    "    print(\"[Locale] Using address head: \" + addh)\n",
    "else:\n",
    "    print(\"[Colab] Using address head: \" + addh)"
   ]
  },
  {
   "cell_type": "markdown",
   "metadata": {},
   "source": [
    "# Prepare Input"
   ]
  },
  {
   "cell_type": "code",
   "execution_count": null,
   "metadata": {},
   "outputs": [],
   "source": [
    "import preprocess"
   ]
  },
  {
   "cell_type": "code",
   "execution_count": null,
   "metadata": {},
   "outputs": [],
   "source": [
    "train_char_seqs, train_tag_seqs = preprocess.load_file(addh + \"/Graduation/Data/train_dict.txt\")\n",
    "test_char_seqs, test_tag_seqs = preprocess.load_file(addh + \"/Graduation/Data/test_dict.txt\")\n",
    "train_token_id_seqs, train_tag_id_seqs, tag_vocab = preprocess.preprocess(train_char_seqs, train_tag_seqs)\n",
    "test_token_id_seqs, test_tag_id_seqs, tag_vocab = preprocess.preprocess(test_char_seqs, test_tag_seqs)"
   ]
  },
  {
   "cell_type": "code",
   "execution_count": null,
   "metadata": {},
   "outputs": [],
   "source": [
    "train_token_id_seqs[0]"
   ]
  },
  {
   "cell_type": "code",
   "execution_count": null,
   "metadata": {},
   "outputs": [],
   "source": [
    "train_tag_id_seqs[0]"
   ]
  },
  {
   "cell_type": "code",
   "execution_count": null,
   "metadata": {},
   "outputs": [],
   "source": [
    "tag_vocab"
   ]
  },
  {
   "cell_type": "markdown",
   "metadata": {},
   "source": [
    "# Build Model\n",
    "using BERT"
   ]
  },
  {
   "cell_type": "code",
   "execution_count": null,
   "metadata": {},
   "outputs": [],
   "source": [
    "import keras\n",
    "import keras_bert "
   ]
  },
  {
   "cell_type": "code",
   "execution_count": null,
   "metadata": {},
   "outputs": [],
   "source": [
    "bert_model = keras_bert.load_trained_model_from_checkpoint(\n",
    "    # config_file\n",
    "    addh + \"/Graduation/BERT/multi_cased_L-12_H-768_A-12/bert_config.json\", \n",
    "    # checkpoint file\n",
    "    addh + \"/Graduation/BERT/multi_cased_L-12_H-768_A-12/bert_model.ckpt\", \n",
    "    # settings\n",
    "    training=False, # Not train the whole model. Ignore NSP and MLM\n",
    "    trainable=True\n",
    "\n",
    ")"
   ]
  },
  {
   "cell_type": "code",
   "execution_count": null,
   "metadata": {},
   "outputs": [],
   "source": [
    "MAX_LEN = 356\n",
    "\n",
    "input_token = keras.layers.Input(shape=(MAX_LEN,))\n",
    "input_segment = keras.layers.Input(shape=(MAX_LEN,))\n",
    "\n",
    "bert_output = bert_model([input_token, input_segment])\n",
    "\n",
    "output = keras.layers.Dense(16, activation=keras.activations.softmax)(bert_output)\n",
    "\n",
    "model = keras.models.Model([input_token, input_segment], output)"
   ]
  },
  {
   "cell_type": "code",
   "execution_count": null,
   "metadata": {
    "scrolled": true
   },
   "outputs": [],
   "source": [
    "model.compute_output_shape([(1, 5), (1, 5)])"
   ]
  },
  {
   "cell_type": "code",
   "execution_count": null,
   "metadata": {},
   "outputs": [],
   "source": [
    "bert_model.summary()"
   ]
  },
  {
   "cell_type": "code",
   "execution_count": null,
   "metadata": {},
   "outputs": [],
   "source": [
    "model.summary()"
   ]
  },
  {
   "cell_type": "markdown",
   "metadata": {},
   "source": [
    "# Fine-tuning"
   ]
  },
  {
   "cell_type": "code",
   "execution_count": null,
   "metadata": {},
   "outputs": [],
   "source": [
    "model.compile(\n",
    "    optimizer=keras.optimizers.Adam(lr=0.00004),\n",
    "    loss=keras.losses.categorical_crossentropy,\n",
    "    metrics=[\"accuracy\"]\n",
    ")"
   ]
  },
  {
   "cell_type": "code",
   "execution_count": null,
   "metadata": {},
   "outputs": [],
   "source": [
    "model.fit(\n",
    "    x=train_token_id_seqs, \n",
    "    y=train_tag_id_seqs, \n",
    "    batch_size=16, \n",
    "    epochs=10,\n",
    "    verbose=2,\n",
    "    validation_data=(test_token_id_seqs, test_tag_id_seqs),\n",
    "    shuffle=True\n",
    ")"
   ]
  }
 ],
 "metadata": {
  "kernelspec": {
   "display_name": "Python 3",
   "language": "python",
   "name": "python3"
  },
  "language_info": {
   "codemirror_mode": {
    "name": "ipython",
    "version": 3
   },
   "file_extension": ".py",
   "mimetype": "text/x-python",
   "name": "python",
   "nbconvert_exporter": "python",
   "pygments_lexer": "ipython3",
   "version": "3.6.9"
  }
 },
 "nbformat": 4,
 "nbformat_minor": 4
}
