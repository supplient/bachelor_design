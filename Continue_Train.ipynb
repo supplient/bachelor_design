{
 "cells": [
  {
   "cell_type": "markdown",
   "metadata": {
    "colab_type": "text",
    "id": "view-in-github"
   },
   "source": [
    "<a href=\"https://colab.research.google.com/github/supplient/bachelor_design/blob/equal_realize/Train.ipynb\" target=\"_parent\"><img src=\"https://colab.research.google.com/assets/colab-badge.svg\" alt=\"Open In Colab\"/></a>"
   ]
  },
  {
   "cell_type": "markdown",
   "metadata": {
    "colab_type": "text",
    "id": "ErojEaZ-86B-"
   },
   "source": [
    "# Environment Setup"
   ]
  },
  {
   "cell_type": "code",
   "execution_count": null,
   "metadata": {
    "colab": {
     "base_uri": "https://localhost:8080/",
     "height": 286
    },
    "colab_type": "code",
    "id": "nGqJ3bOy8fGg",
    "outputId": "398ec5e7-cda9-479b-e13b-fb7afdc2d866"
   },
   "outputs": [],
   "source": [
    "!pip install keras_bert"
   ]
  },
  {
   "cell_type": "code",
   "execution_count": null,
   "metadata": {
    "colab": {
     "base_uri": "https://localhost:8080/",
     "height": 302
    },
    "colab_type": "code",
    "id": "smZ4TyF0f64H",
    "outputId": "3bc6e739-8e78-4ac8-e96c-8329f4944311"
   },
   "outputs": [],
   "source": [
    "!pip install git+https://www.github.com/keras-team/keras-contrib.git"
   ]
  },
  {
   "cell_type": "code",
   "execution_count": null,
   "metadata": {
    "colab": {},
    "colab_type": "code",
    "id": "jw7z_zzNgaSo"
   },
   "outputs": [],
   "source": [
    "import os\n",
    "os.chdir(\"/usr/local/lib/python3.6/dist-packages/keras_contrib/layers/\")\n",
    "lines = []\n",
    "with open(\"crf.py\", \"r\") as fd:\n",
    "  lines = fd.readlines()\n",
    "lines[515] = \"            mask2 = K.cast(K.concatenate([mask, K.cast(K.zeros_like(mask[:, :1]), mask.dtype)], axis=1),\\n\"\n",
    "with open(\"crf.py\", \"w\") as fd:\n",
    "  fd.writelines(lines)\n",
    "\n",
    "os.chdir(\"/content\")"
   ]
  },
  {
   "cell_type": "code",
   "execution_count": null,
   "metadata": {
    "colab": {
     "base_uri": "https://localhost:8080/",
     "height": 50
    },
    "colab_type": "code",
    "id": "ntV4sZB_8kBc",
    "outputId": "a32b5319-4cbf-44a6-a2fb-397a20409bf2"
   },
   "outputs": [],
   "source": [
    "!git clone https://github.com/supplient/bachelor_design.git\n",
    "import os\n",
    "os.chdir(\"bachelor_design\")\n",
    "!pwd"
   ]
  },
  {
   "cell_type": "code",
   "execution_count": null,
   "metadata": {
    "colab": {
     "base_uri": "https://localhost:8080/",
     "height": 67
    },
    "colab_type": "code",
    "id": "S4uVkxeL8uOL",
    "outputId": "c86f9551-3c81-40ed-f452-50298686d3e2",
    "scrolled": true
   },
   "outputs": [],
   "source": [
    "!git checkout equal_realize\n",
    "!git pull"
   ]
  },
  {
   "cell_type": "markdown",
   "metadata": {
    "colab_type": "text",
    "id": "gdgaaQWTo_Qm"
   },
   "source": [
    "# Mount GDriver\n",
    "Perpare Colab environment."
   ]
  },
  {
   "cell_type": "code",
   "execution_count": null,
   "metadata": {
    "colab": {
     "base_uri": "https://localhost:8080/",
     "height": 50
    },
    "colab_type": "code",
    "id": "XuNfDlfh4v4-",
    "outputId": "1f474aae-9a97-4429-d7e1-71869d0f465b"
   },
   "outputs": [],
   "source": [
    "from driver_amount import addh"
   ]
  },
  {
   "cell_type": "markdown",
   "metadata": {
    "colab_type": "text",
    "id": "yKeEl1EWo_Q6"
   },
   "source": [
    "# Prepare Input"
   ]
  },
  {
   "cell_type": "code",
   "execution_count": null,
   "metadata": {
    "colab": {},
    "colab_type": "code",
    "id": "318x_FrYo_Q8"
   },
   "outputs": [],
   "source": [
    "from cut_and_tag import cut_and_tag\n",
    "import preprocess\n",
    "import config"
   ]
  },
  {
   "cell_type": "code",
   "execution_count": null,
   "metadata": {
    "colab": {
     "base_uri": "https://localhost:8080/",
     "height": 79
    },
    "colab_type": "code",
    "id": "Nb-5so9mo_RC",
    "outputId": "bb563dce-7e55-4844-9680-c9e6067e417f"
   },
   "outputs": [],
   "source": [
    "cut_seqs, char_seqs, tag_seqs = cut_and_tag(\n",
    "    addh + config.DATA_PATH\n",
    "    addh + config.STOPWORDS_PATH\n",
    ")\n",
    "char_seqs, tag_seqs = preprocess.shuffle_twin(\n",
    "    char_seqs,\n",
    "    tag_seqs\n",
    ")\n",
    "token_id_seqs, segment_seqs, tag_id_seqs, tag_vocab = preprocess.preprocess(\n",
    "    char_seqs, \n",
    "    tag_seqs,\n",
    "    addh + config.BERT_VOCAB_PATH,\n",
    "    SEQ_LEN=config.SEQ_LEN\n",
    "    )"
   ]
  },
  {
   "cell_type": "code",
   "execution_count": null,
   "metadata": {},
   "outputs": [],
   "source": [
    "# Split train and text\n",
    "train_num = int(len(token_id_seqs) * 0.9)\n",
    "\n",
    "test_token_id_seqs = token_id_seqs[train_num:]\n",
    "test_segment_seqs = segment_seqs[train_num:]\n",
    "test_tag_id_seqs = tag_id_seqs[train_num:]\n",
    "\n",
    "train_token_id_seqs = token_id_seqs[0:train_num]\n",
    "train_segment_seqs = segment_seqs[0:train_num]\n",
    "train_tag_id_seqs = tag_id_seqs[0:train_num]"
   ]
  },
  {
   "cell_type": "code",
   "execution_count": null,
   "metadata": {
    "colab": {},
    "colab_type": "code",
    "id": "fyctyVXk4v5T"
   },
   "outputs": [],
   "source": [
    "import json\n",
    "with open(addh + config.TAG_VOCAB_PATH, \"w\") as fd:\n",
    "    json.dump(tag_vocab, fd)"
   ]
  },
  {
   "cell_type": "code",
   "execution_count": null,
   "metadata": {
    "colab": {
     "base_uri": "https://localhost:8080/",
     "height": 218
    },
    "colab_type": "code",
    "id": "XLj4Kcwko_RW",
    "outputId": "6070a02b-5f57-49a0-a006-8493fb43cd91"
   },
   "outputs": [],
   "source": [
    "tag_vocab"
   ]
  },
  {
   "cell_type": "markdown",
   "metadata": {
    "colab_type": "text",
    "id": "wv1zgY3lo_Rb"
   },
   "source": [
    "# Build Model\n",
    "using BERT"
   ]
  },
  {
   "cell_type": "code",
   "execution_count": null,
   "metadata": {
    "colab": {},
    "colab_type": "code",
    "id": "QVZYwuGro_Rc"
   },
   "outputs": [],
   "source": [
    "import keras\n",
    "import keras_bert "
   ]
  },
  {
   "cell_type": "code",
   "execution_count": null,
   "metadata": {
    "colab": {
     "base_uri": "https://localhost:8080/",
     "height": 457
    },
    "colab_type": "code",
    "id": "tBszsRPVo_Rh",
    "outputId": "42e3e559-e7e5-4a8a-a031-d43651ea4006"
   },
   "outputs": [],
   "source": [
    "bert_model, bert_model_config = keras_bert.build_model_from_config(\n",
    "    # config_file\n",
    "    addh + config.BERT_CONFIG_PATH, \n",
    "    # settings\n",
    "    training=False, # Not train the whole model. Ignore NSP and MLM\n",
    "    trainable=True\n",
    ")"
   ]
  },
  {
   "cell_type": "code",
   "execution_count": null,
   "metadata": {
    "colab": {},
    "colab_type": "code",
    "id": "KRVUQ-dDfW0F"
   },
   "outputs": [],
   "source": [
    "from keras_contrib.layers import CRF"
   ]
  },
  {
   "cell_type": "code",
   "execution_count": null,
   "metadata": {
    "colab": {},
    "colab_type": "code",
    "id": "7riudikwo_Rm"
   },
   "outputs": [],
   "source": [
    "input_token = keras.layers.Input(shape=(config.SEQ_LEN,))\n",
    "input_segment = keras.layers.Input(shape=(config.SEQ_LEN,))\n",
    "\n",
    "bert_output = bert_model([input_token, input_segment])\n",
    "\n",
    "crf_model = CRF(len(tag_vocab), sparse_target=True)\n",
    "\n",
    "output = crf_model(bert_output)\n",
    "\n",
    "model = keras.models.Model([input_token, input_segment], output)"
   ]
  },
  {
   "cell_type": "code",
   "execution_count": null,
   "metadata": {},
   "outputs": [],
   "source": [
    "model.load_weights(addh + config.MODEL_PATH)"
   ]
  },
  {
   "cell_type": "markdown",
   "metadata": {},
   "source": [
    "# Load train record"
   ]
  },
  {
   "cell_type": "code",
   "execution_count": null,
   "metadata": {},
   "outputs": [],
   "source": [
    "import json\n",
    "with open(addh + config.TRAIN_REC_PATH, \"r\") as fd:\n",
    "    train_rec = json.load(fd)\n",
    "last_epoch = 0\n",
    "if len(train_rec) > 1:\n",
    "    last_epoch = train_rec[-1][\"epoch\"]"
   ]
  },
  {
   "cell_type": "markdown",
   "metadata": {
    "colab_type": "text",
    "id": "1NnstgM3o_Rx"
   },
   "source": [
    "# Fine-tuning"
   ]
  },
  {
   "cell_type": "code",
   "execution_count": null,
   "metadata": {
    "colab": {
     "base_uri": "https://localhost:8080/",
     "height": 188
    },
    "colab_type": "code",
    "id": "PZnpZmJ9o_Ry",
    "outputId": "33b3d803-5869-40ee-b9ed-8d83ddb38db7"
   },
   "outputs": [],
   "source": [
    "model.compile(\n",
    "    optimizer=keras.optimizers.Adam(lr=0.00004),\n",
    "    loss=crf_model.loss_function,\n",
    "    metrics=[crf_model.accuracy]\n",
    ")"
   ]
  },
  {
   "cell_type": "code",
   "execution_count": null,
   "metadata": {
    "colab": {},
    "colab_type": "code",
    "id": "KFQwbTXw4v6G"
   },
   "outputs": [],
   "source": [
    "import epoch_checkpoint\n",
    "epoch_callback = epoch_checkpoint.EpochCheckpoint(\n",
    "    addh + config.MODEL_PATH,\n",
    "    addh + config.TRAIN_REC_PATH,\n",
    "    1,\n",
    "    [test_token_id_seqs, test_segment_seqs],\n",
    "    test_tag_id_seqs,\n",
    "    tag_vocab\n",
    "    )"
   ]
  },
  {
   "cell_type": "code",
   "execution_count": null,
   "metadata": {
    "colab": {
     "base_uri": "https://localhost:8080/",
     "height": 491
    },
    "colab_type": "code",
    "id": "fiWLYOZHo_R3",
    "outputId": "42f65b05-af21-480a-d852-7e5569cecc87"
   },
   "outputs": [],
   "source": [
    "model.fit(\n",
    "    x=[train_token_id_seqs, train_segment_seqs],\n",
    "    y=[train_tag_id_seqs], \n",
    "    batch_size=train_rec[0][\"train_params\"][\"batch_size\"], \n",
    "    initial_epoch=last_epoch+2,\n",
    "    epochs=train_rec[0][\"train_params\"][\"epochs\"],\n",
    "    verbose=1,\n",
    "    validation_data=[[test_token_id_seqs, test_segment_seqs], test_tag_id_seqs],\n",
    "    callbacks=[epoch_callback]\n",
    ")"
   ]
  },
  {
   "cell_type": "code",
   "execution_count": null,
   "metadata": {
    "colab": {},
    "colab_type": "code",
    "id": "Zp-wuH9RBk3r"
   },
   "outputs": [],
   "source": [
    "model.save(addh + config.MODEL_PATH)"
   ]
  }
 ],
 "metadata": {
  "accelerator": "GPU",
  "colab": {
   "include_colab_link": true,
   "name": "Train.ipynb",
   "provenance": []
  },
  "kernelspec": {
   "display_name": "Python 3",
   "language": "python",
   "name": "python3"
  },
  "language_info": {
   "codemirror_mode": {
    "name": "ipython",
    "version": 3
   },
   "file_extension": ".py",
   "mimetype": "text/x-python",
   "name": "python",
   "nbconvert_exporter": "python",
   "pygments_lexer": "ipython3",
   "version": "3.6.9"
  }
 },
 "nbformat": 4,
 "nbformat_minor": 1
}
