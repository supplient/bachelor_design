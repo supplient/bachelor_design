{
  "nbformat": 4,
  "nbformat_minor": 0,
  "metadata": {
    "kernelspec": {
      "name": "python3",
      "display_name": "Python 3"
    },
    "language_info": {
      "codemirror_mode": {
        "name": "ipython",
        "version": 3
      },
      "file_extension": ".py",
      "mimetype": "text/x-python",
      "name": "python",
      "nbconvert_exporter": "python",
      "pygments_lexer": "ipython3",
      "version": "3.6.9"
    },
    "colab": {
      "name": "EqualTrain.ipynb",
      "provenance": [],
      "include_colab_link": true
    },
    "accelerator": "GPU",
    "widgets": {
      "application/vnd.jupyter.widget-state+json": {
        "8c22f0e1e32146b0adc271d698b8cc1d": {
          "model_module": "@jupyter-widgets/controls",
          "model_name": "HBoxModel",
          "state": {
            "_view_name": "HBoxView",
            "_dom_classes": [],
            "_model_name": "HBoxModel",
            "_view_module": "@jupyter-widgets/controls",
            "_model_module_version": "1.5.0",
            "_view_count": null,
            "_view_module_version": "1.5.0",
            "box_style": "",
            "layout": "IPY_MODEL_f614c6a5b8f74f05813696c89c51af51",
            "_model_module": "@jupyter-widgets/controls",
            "children": [
              "IPY_MODEL_bf9ec090b98341b7a0ba61ccc4bf2ef3",
              "IPY_MODEL_2daf7e82314548f29bc3b683e4040da0"
            ]
          }
        },
        "f614c6a5b8f74f05813696c89c51af51": {
          "model_module": "@jupyter-widgets/base",
          "model_name": "LayoutModel",
          "state": {
            "_view_name": "LayoutView",
            "grid_template_rows": null,
            "right": null,
            "justify_content": null,
            "_view_module": "@jupyter-widgets/base",
            "overflow": null,
            "_model_module_version": "1.2.0",
            "_view_count": null,
            "flex_flow": null,
            "width": null,
            "min_width": null,
            "border": null,
            "align_items": null,
            "bottom": null,
            "_model_module": "@jupyter-widgets/base",
            "top": null,
            "grid_column": null,
            "overflow_y": null,
            "overflow_x": null,
            "grid_auto_flow": null,
            "grid_area": null,
            "grid_template_columns": null,
            "flex": null,
            "_model_name": "LayoutModel",
            "justify_items": null,
            "grid_row": null,
            "max_height": null,
            "align_content": null,
            "visibility": null,
            "align_self": null,
            "height": null,
            "min_height": null,
            "padding": null,
            "grid_auto_rows": null,
            "grid_gap": null,
            "max_width": null,
            "order": null,
            "_view_module_version": "1.2.0",
            "grid_template_areas": null,
            "object_position": null,
            "object_fit": null,
            "grid_auto_columns": null,
            "margin": null,
            "display": null,
            "left": null
          }
        },
        "bf9ec090b98341b7a0ba61ccc4bf2ef3": {
          "model_module": "@jupyter-widgets/controls",
          "model_name": "IntProgressModel",
          "state": {
            "_view_name": "ProgressView",
            "style": "IPY_MODEL_bdf6f9d09ab64c06aaa2c444a068dd9c",
            "_dom_classes": [],
            "description": "Distance:   0%",
            "_model_name": "IntProgressModel",
            "bar_style": "danger",
            "max": 7,
            "_view_module": "@jupyter-widgets/controls",
            "_model_module_version": "1.5.0",
            "value": 0,
            "_view_count": null,
            "_view_module_version": "1.5.0",
            "orientation": "horizontal",
            "min": 0,
            "description_tooltip": null,
            "_model_module": "@jupyter-widgets/controls",
            "layout": "IPY_MODEL_0bfa26fb9e79474daeda88388ae1afd5"
          }
        },
        "2daf7e82314548f29bc3b683e4040da0": {
          "model_module": "@jupyter-widgets/controls",
          "model_name": "HTMLModel",
          "state": {
            "_view_name": "HTMLView",
            "style": "IPY_MODEL_a967463903a94feda2620e2bbb79291b",
            "_dom_classes": [],
            "description": "",
            "_model_name": "HTMLModel",
            "placeholder": "​",
            "_view_module": "@jupyter-widgets/controls",
            "_model_module_version": "1.5.0",
            "value": " 0/7 [01:33&lt;?, ?it/s]",
            "_view_count": null,
            "_view_module_version": "1.5.0",
            "description_tooltip": null,
            "_model_module": "@jupyter-widgets/controls",
            "layout": "IPY_MODEL_caa8c346dfce4f38abd6c86413802a2c"
          }
        },
        "bdf6f9d09ab64c06aaa2c444a068dd9c": {
          "model_module": "@jupyter-widgets/controls",
          "model_name": "ProgressStyleModel",
          "state": {
            "_view_name": "StyleView",
            "_model_name": "ProgressStyleModel",
            "description_width": "initial",
            "_view_module": "@jupyter-widgets/base",
            "_model_module_version": "1.5.0",
            "_view_count": null,
            "_view_module_version": "1.2.0",
            "bar_color": null,
            "_model_module": "@jupyter-widgets/controls"
          }
        },
        "0bfa26fb9e79474daeda88388ae1afd5": {
          "model_module": "@jupyter-widgets/base",
          "model_name": "LayoutModel",
          "state": {
            "_view_name": "LayoutView",
            "grid_template_rows": null,
            "right": null,
            "justify_content": null,
            "_view_module": "@jupyter-widgets/base",
            "overflow": null,
            "_model_module_version": "1.2.0",
            "_view_count": null,
            "flex_flow": null,
            "width": null,
            "min_width": null,
            "border": null,
            "align_items": null,
            "bottom": null,
            "_model_module": "@jupyter-widgets/base",
            "top": null,
            "grid_column": null,
            "overflow_y": null,
            "overflow_x": null,
            "grid_auto_flow": null,
            "grid_area": null,
            "grid_template_columns": null,
            "flex": null,
            "_model_name": "LayoutModel",
            "justify_items": null,
            "grid_row": null,
            "max_height": null,
            "align_content": null,
            "visibility": null,
            "align_self": null,
            "height": null,
            "min_height": null,
            "padding": null,
            "grid_auto_rows": null,
            "grid_gap": null,
            "max_width": null,
            "order": null,
            "_view_module_version": "1.2.0",
            "grid_template_areas": null,
            "object_position": null,
            "object_fit": null,
            "grid_auto_columns": null,
            "margin": null,
            "display": null,
            "left": null
          }
        },
        "a967463903a94feda2620e2bbb79291b": {
          "model_module": "@jupyter-widgets/controls",
          "model_name": "DescriptionStyleModel",
          "state": {
            "_view_name": "StyleView",
            "_model_name": "DescriptionStyleModel",
            "description_width": "",
            "_view_module": "@jupyter-widgets/base",
            "_model_module_version": "1.5.0",
            "_view_count": null,
            "_view_module_version": "1.2.0",
            "_model_module": "@jupyter-widgets/controls"
          }
        },
        "caa8c346dfce4f38abd6c86413802a2c": {
          "model_module": "@jupyter-widgets/base",
          "model_name": "LayoutModel",
          "state": {
            "_view_name": "LayoutView",
            "grid_template_rows": null,
            "right": null,
            "justify_content": null,
            "_view_module": "@jupyter-widgets/base",
            "overflow": null,
            "_model_module_version": "1.2.0",
            "_view_count": null,
            "flex_flow": null,
            "width": null,
            "min_width": null,
            "border": null,
            "align_items": null,
            "bottom": null,
            "_model_module": "@jupyter-widgets/base",
            "top": null,
            "grid_column": null,
            "overflow_y": null,
            "overflow_x": null,
            "grid_auto_flow": null,
            "grid_area": null,
            "grid_template_columns": null,
            "flex": null,
            "_model_name": "LayoutModel",
            "justify_items": null,
            "grid_row": null,
            "max_height": null,
            "align_content": null,
            "visibility": null,
            "align_self": null,
            "height": null,
            "min_height": null,
            "padding": null,
            "grid_auto_rows": null,
            "grid_gap": null,
            "max_width": null,
            "order": null,
            "_view_module_version": "1.2.0",
            "grid_template_areas": null,
            "object_position": null,
            "object_fit": null,
            "grid_auto_columns": null,
            "margin": null,
            "display": null,
            "left": null
          }
        },
        "a15536e69fc14568a3b9584570e9bb0c": {
          "model_module": "@jupyter-widgets/controls",
          "model_name": "HBoxModel",
          "state": {
            "_view_name": "HBoxView",
            "_dom_classes": [],
            "_model_name": "HBoxModel",
            "_view_module": "@jupyter-widgets/controls",
            "_model_module_version": "1.5.0",
            "_view_count": null,
            "_view_module_version": "1.5.0",
            "box_style": "",
            "layout": "IPY_MODEL_2f29633fba9143eca42c125d77ef2c81",
            "_model_module": "@jupyter-widgets/controls",
            "children": [
              "IPY_MODEL_7406e301b07e4ff896c20488a93612e3",
              "IPY_MODEL_15f6ca329d6a4c79a69ab60a0481df40"
            ]
          }
        },
        "2f29633fba9143eca42c125d77ef2c81": {
          "model_module": "@jupyter-widgets/base",
          "model_name": "LayoutModel",
          "state": {
            "_view_name": "LayoutView",
            "grid_template_rows": null,
            "right": null,
            "justify_content": null,
            "_view_module": "@jupyter-widgets/base",
            "overflow": null,
            "_model_module_version": "1.2.0",
            "_view_count": null,
            "flex_flow": null,
            "width": null,
            "min_width": null,
            "border": null,
            "align_items": null,
            "bottom": null,
            "_model_module": "@jupyter-widgets/base",
            "top": null,
            "grid_column": null,
            "overflow_y": null,
            "overflow_x": null,
            "grid_auto_flow": null,
            "grid_area": null,
            "grid_template_columns": null,
            "flex": null,
            "_model_name": "LayoutModel",
            "justify_items": null,
            "grid_row": null,
            "max_height": null,
            "align_content": null,
            "visibility": null,
            "align_self": null,
            "height": null,
            "min_height": null,
            "padding": null,
            "grid_auto_rows": null,
            "grid_gap": null,
            "max_width": null,
            "order": null,
            "_view_module_version": "1.2.0",
            "grid_template_areas": null,
            "object_position": null,
            "object_fit": null,
            "grid_auto_columns": null,
            "margin": null,
            "display": null,
            "left": null
          }
        },
        "7406e301b07e4ff896c20488a93612e3": {
          "model_module": "@jupyter-widgets/controls",
          "model_name": "IntProgressModel",
          "state": {
            "_view_name": "ProgressView",
            "style": "IPY_MODEL_64059332b83447d5a651142c9b0afa40",
            "_dom_classes": [],
            "description": "Char embed:  40%",
            "_model_name": "IntProgressModel",
            "bar_style": "danger",
            "max": 5,
            "_view_module": "@jupyter-widgets/controls",
            "_model_module_version": "1.5.0",
            "value": 2,
            "_view_count": null,
            "_view_module_version": "1.5.0",
            "orientation": "horizontal",
            "min": 0,
            "description_tooltip": null,
            "_model_module": "@jupyter-widgets/controls",
            "layout": "IPY_MODEL_825a0f2e92694a528322ed248bc0361e"
          }
        },
        "15f6ca329d6a4c79a69ab60a0481df40": {
          "model_module": "@jupyter-widgets/controls",
          "model_name": "HTMLModel",
          "state": {
            "_view_name": "HTMLView",
            "style": "IPY_MODEL_0475420472d149f78d888b2fbb412032",
            "_dom_classes": [],
            "description": "",
            "_model_name": "HTMLModel",
            "placeholder": "​",
            "_view_module": "@jupyter-widgets/controls",
            "_model_module_version": "1.5.0",
            "value": " 2/5 [01:33&lt;01:35, 31.67s/it]",
            "_view_count": null,
            "_view_module_version": "1.5.0",
            "description_tooltip": null,
            "_model_module": "@jupyter-widgets/controls",
            "layout": "IPY_MODEL_2e47f691b6ea496ba475f92907f01191"
          }
        },
        "64059332b83447d5a651142c9b0afa40": {
          "model_module": "@jupyter-widgets/controls",
          "model_name": "ProgressStyleModel",
          "state": {
            "_view_name": "StyleView",
            "_model_name": "ProgressStyleModel",
            "description_width": "initial",
            "_view_module": "@jupyter-widgets/base",
            "_model_module_version": "1.5.0",
            "_view_count": null,
            "_view_module_version": "1.2.0",
            "bar_color": null,
            "_model_module": "@jupyter-widgets/controls"
          }
        },
        "825a0f2e92694a528322ed248bc0361e": {
          "model_module": "@jupyter-widgets/base",
          "model_name": "LayoutModel",
          "state": {
            "_view_name": "LayoutView",
            "grid_template_rows": null,
            "right": null,
            "justify_content": null,
            "_view_module": "@jupyter-widgets/base",
            "overflow": null,
            "_model_module_version": "1.2.0",
            "_view_count": null,
            "flex_flow": null,
            "width": null,
            "min_width": null,
            "border": null,
            "align_items": null,
            "bottom": null,
            "_model_module": "@jupyter-widgets/base",
            "top": null,
            "grid_column": null,
            "overflow_y": null,
            "overflow_x": null,
            "grid_auto_flow": null,
            "grid_area": null,
            "grid_template_columns": null,
            "flex": null,
            "_model_name": "LayoutModel",
            "justify_items": null,
            "grid_row": null,
            "max_height": null,
            "align_content": null,
            "visibility": null,
            "align_self": null,
            "height": null,
            "min_height": null,
            "padding": null,
            "grid_auto_rows": null,
            "grid_gap": null,
            "max_width": null,
            "order": null,
            "_view_module_version": "1.2.0",
            "grid_template_areas": null,
            "object_position": null,
            "object_fit": null,
            "grid_auto_columns": null,
            "margin": null,
            "display": null,
            "left": null
          }
        },
        "0475420472d149f78d888b2fbb412032": {
          "model_module": "@jupyter-widgets/controls",
          "model_name": "DescriptionStyleModel",
          "state": {
            "_view_name": "StyleView",
            "_model_name": "DescriptionStyleModel",
            "description_width": "",
            "_view_module": "@jupyter-widgets/base",
            "_model_module_version": "1.5.0",
            "_view_count": null,
            "_view_module_version": "1.2.0",
            "_model_module": "@jupyter-widgets/controls"
          }
        },
        "2e47f691b6ea496ba475f92907f01191": {
          "model_module": "@jupyter-widgets/base",
          "model_name": "LayoutModel",
          "state": {
            "_view_name": "LayoutView",
            "grid_template_rows": null,
            "right": null,
            "justify_content": null,
            "_view_module": "@jupyter-widgets/base",
            "overflow": null,
            "_model_module_version": "1.2.0",
            "_view_count": null,
            "flex_flow": null,
            "width": null,
            "min_width": null,
            "border": null,
            "align_items": null,
            "bottom": null,
            "_model_module": "@jupyter-widgets/base",
            "top": null,
            "grid_column": null,
            "overflow_y": null,
            "overflow_x": null,
            "grid_auto_flow": null,
            "grid_area": null,
            "grid_template_columns": null,
            "flex": null,
            "_model_name": "LayoutModel",
            "justify_items": null,
            "grid_row": null,
            "max_height": null,
            "align_content": null,
            "visibility": null,
            "align_self": null,
            "height": null,
            "min_height": null,
            "padding": null,
            "grid_auto_rows": null,
            "grid_gap": null,
            "max_width": null,
            "order": null,
            "_view_module_version": "1.2.0",
            "grid_template_areas": null,
            "object_position": null,
            "object_fit": null,
            "grid_auto_columns": null,
            "margin": null,
            "display": null,
            "left": null
          }
        },
        "175e2e40e4494da9855081390da29a92": {
          "model_module": "@jupyter-widgets/controls",
          "model_name": "HBoxModel",
          "state": {
            "_view_name": "HBoxView",
            "_dom_classes": [],
            "_model_name": "HBoxModel",
            "_view_module": "@jupyter-widgets/controls",
            "_model_module_version": "1.5.0",
            "_view_count": null,
            "_view_module_version": "1.5.0",
            "box_style": "",
            "layout": "IPY_MODEL_9cbee3b2473b4685b449d846bd7d8e8f",
            "_model_module": "@jupyter-widgets/controls",
            "children": [
              "IPY_MODEL_d73bac6cd45e4a5ba4010e98de5011d5",
              "IPY_MODEL_dd4105e2a7404ad088b44b530270aef7"
            ]
          }
        },
        "9cbee3b2473b4685b449d846bd7d8e8f": {
          "model_module": "@jupyter-widgets/base",
          "model_name": "LayoutModel",
          "state": {
            "_view_name": "LayoutView",
            "grid_template_rows": null,
            "right": null,
            "justify_content": null,
            "_view_module": "@jupyter-widgets/base",
            "overflow": null,
            "_model_module_version": "1.2.0",
            "_view_count": null,
            "flex_flow": null,
            "width": null,
            "min_width": null,
            "border": null,
            "align_items": null,
            "bottom": null,
            "_model_module": "@jupyter-widgets/base",
            "top": null,
            "grid_column": null,
            "overflow_y": null,
            "overflow_x": null,
            "grid_auto_flow": null,
            "grid_area": null,
            "grid_template_columns": null,
            "flex": null,
            "_model_name": "LayoutModel",
            "justify_items": null,
            "grid_row": null,
            "max_height": null,
            "align_content": null,
            "visibility": null,
            "align_self": null,
            "height": null,
            "min_height": null,
            "padding": null,
            "grid_auto_rows": null,
            "grid_gap": null,
            "max_width": null,
            "order": null,
            "_view_module_version": "1.2.0",
            "grid_template_areas": null,
            "object_position": null,
            "object_fit": null,
            "grid_auto_columns": null,
            "margin": null,
            "display": null,
            "left": null
          }
        },
        "d73bac6cd45e4a5ba4010e98de5011d5": {
          "model_module": "@jupyter-widgets/controls",
          "model_name": "IntProgressModel",
          "state": {
            "_view_name": "ProgressView",
            "style": "IPY_MODEL_a88593a7c9474e2a8b12e859bfad0a4f",
            "_dom_classes": [],
            "description": "Epoch 72:   1%",
            "_model_name": "IntProgressModel",
            "bar_style": "danger",
            "max": 10000,
            "_view_module": "@jupyter-widgets/controls",
            "_model_module_version": "1.5.0",
            "value": 72,
            "_view_count": null,
            "_view_module_version": "1.5.0",
            "orientation": "horizontal",
            "min": 0,
            "description_tooltip": null,
            "_model_module": "@jupyter-widgets/controls",
            "layout": "IPY_MODEL_6aeab294f7fe4eafbca1268a5ff4bbe3"
          }
        },
        "dd4105e2a7404ad088b44b530270aef7": {
          "model_module": "@jupyter-widgets/controls",
          "model_name": "HTMLModel",
          "state": {
            "_view_name": "HTMLView",
            "style": "IPY_MODEL_8a0626a7b2354e1bb6bceecb0e6f0dfd",
            "_dom_classes": [],
            "description": "",
            "_model_name": "HTMLModel",
            "placeholder": "​",
            "_view_module": "@jupyter-widgets/controls",
            "_model_module_version": "1.5.0",
            "value": " 72/10000 [01:31&lt;1:06:53,  2.47it/s, delta=8.63e-8, different_rate=0.688, dist_theta=3.42e+3, similiar_rate=0.69]",
            "_view_count": null,
            "_view_module_version": "1.5.0",
            "description_tooltip": null,
            "_model_module": "@jupyter-widgets/controls",
            "layout": "IPY_MODEL_499268523fe34d7f87ae2aa037c146f0"
          }
        },
        "a88593a7c9474e2a8b12e859bfad0a4f": {
          "model_module": "@jupyter-widgets/controls",
          "model_name": "ProgressStyleModel",
          "state": {
            "_view_name": "StyleView",
            "_model_name": "ProgressStyleModel",
            "description_width": "initial",
            "_view_module": "@jupyter-widgets/base",
            "_model_module_version": "1.5.0",
            "_view_count": null,
            "_view_module_version": "1.2.0",
            "bar_color": null,
            "_model_module": "@jupyter-widgets/controls"
          }
        },
        "6aeab294f7fe4eafbca1268a5ff4bbe3": {
          "model_module": "@jupyter-widgets/base",
          "model_name": "LayoutModel",
          "state": {
            "_view_name": "LayoutView",
            "grid_template_rows": null,
            "right": null,
            "justify_content": null,
            "_view_module": "@jupyter-widgets/base",
            "overflow": null,
            "_model_module_version": "1.2.0",
            "_view_count": null,
            "flex_flow": null,
            "width": null,
            "min_width": null,
            "border": null,
            "align_items": null,
            "bottom": null,
            "_model_module": "@jupyter-widgets/base",
            "top": null,
            "grid_column": null,
            "overflow_y": null,
            "overflow_x": null,
            "grid_auto_flow": null,
            "grid_area": null,
            "grid_template_columns": null,
            "flex": null,
            "_model_name": "LayoutModel",
            "justify_items": null,
            "grid_row": null,
            "max_height": null,
            "align_content": null,
            "visibility": null,
            "align_self": null,
            "height": null,
            "min_height": null,
            "padding": null,
            "grid_auto_rows": null,
            "grid_gap": null,
            "max_width": null,
            "order": null,
            "_view_module_version": "1.2.0",
            "grid_template_areas": null,
            "object_position": null,
            "object_fit": null,
            "grid_auto_columns": null,
            "margin": null,
            "display": null,
            "left": null
          }
        },
        "8a0626a7b2354e1bb6bceecb0e6f0dfd": {
          "model_module": "@jupyter-widgets/controls",
          "model_name": "DescriptionStyleModel",
          "state": {
            "_view_name": "StyleView",
            "_model_name": "DescriptionStyleModel",
            "description_width": "",
            "_view_module": "@jupyter-widgets/base",
            "_model_module_version": "1.5.0",
            "_view_count": null,
            "_view_module_version": "1.2.0",
            "_model_module": "@jupyter-widgets/controls"
          }
        },
        "499268523fe34d7f87ae2aa037c146f0": {
          "model_module": "@jupyter-widgets/base",
          "model_name": "LayoutModel",
          "state": {
            "_view_name": "LayoutView",
            "grid_template_rows": null,
            "right": null,
            "justify_content": null,
            "_view_module": "@jupyter-widgets/base",
            "overflow": null,
            "_model_module_version": "1.2.0",
            "_view_count": null,
            "flex_flow": null,
            "width": null,
            "min_width": null,
            "border": null,
            "align_items": null,
            "bottom": null,
            "_model_module": "@jupyter-widgets/base",
            "top": null,
            "grid_column": null,
            "overflow_y": null,
            "overflow_x": null,
            "grid_auto_flow": null,
            "grid_area": null,
            "grid_template_columns": null,
            "flex": null,
            "_model_name": "LayoutModel",
            "justify_items": null,
            "grid_row": null,
            "max_height": null,
            "align_content": null,
            "visibility": null,
            "align_self": null,
            "height": null,
            "min_height": null,
            "padding": null,
            "grid_auto_rows": null,
            "grid_gap": null,
            "max_width": null,
            "order": null,
            "_view_module_version": "1.2.0",
            "grid_template_areas": null,
            "object_position": null,
            "object_fit": null,
            "grid_auto_columns": null,
            "margin": null,
            "display": null,
            "left": null
          }
        },
        "98557e6a59a9401e91157156c93317dd": {
          "model_module": "@jupyter-widgets/controls",
          "model_name": "HBoxModel",
          "state": {
            "_view_name": "HBoxView",
            "_dom_classes": [],
            "_model_name": "HBoxModel",
            "_view_module": "@jupyter-widgets/controls",
            "_model_module_version": "1.5.0",
            "_view_count": null,
            "_view_module_version": "1.5.0",
            "box_style": "",
            "layout": "IPY_MODEL_ea74ae1be30844a7aa9f043342085026",
            "_model_module": "@jupyter-widgets/controls",
            "children": [
              "IPY_MODEL_8e56cbfd16aa480289acdcb67ed7e141",
              "IPY_MODEL_209eb0df2d754350b6416ab0d8db48bc"
            ]
          }
        },
        "ea74ae1be30844a7aa9f043342085026": {
          "model_module": "@jupyter-widgets/base",
          "model_name": "LayoutModel",
          "state": {
            "_view_name": "LayoutView",
            "grid_template_rows": null,
            "right": null,
            "justify_content": null,
            "_view_module": "@jupyter-widgets/base",
            "overflow": null,
            "_model_module_version": "1.2.0",
            "_view_count": null,
            "flex_flow": null,
            "width": null,
            "min_width": null,
            "border": null,
            "align_items": null,
            "bottom": null,
            "_model_module": "@jupyter-widgets/base",
            "top": null,
            "grid_column": null,
            "overflow_y": null,
            "overflow_x": null,
            "grid_auto_flow": null,
            "grid_area": null,
            "grid_template_columns": null,
            "flex": null,
            "_model_name": "LayoutModel",
            "justify_items": null,
            "grid_row": null,
            "max_height": null,
            "align_content": null,
            "visibility": null,
            "align_self": null,
            "height": null,
            "min_height": null,
            "padding": null,
            "grid_auto_rows": null,
            "grid_gap": null,
            "max_width": null,
            "order": null,
            "_view_module_version": "1.2.0",
            "grid_template_areas": null,
            "object_position": null,
            "object_fit": null,
            "grid_auto_columns": null,
            "margin": null,
            "display": null,
            "left": null
          }
        },
        "8e56cbfd16aa480289acdcb67ed7e141": {
          "model_module": "@jupyter-widgets/controls",
          "model_name": "IntProgressModel",
          "state": {
            "_view_name": "ProgressView",
            "style": "IPY_MODEL_3bdc2889d256471196e10fc00d3725a3",
            "_dom_classes": [],
            "description": "Epoch 27:   0%",
            "_model_name": "IntProgressModel",
            "bar_style": "danger",
            "max": 10000,
            "_view_module": "@jupyter-widgets/controls",
            "_model_module_version": "1.5.0",
            "value": 27,
            "_view_count": null,
            "_view_module_version": "1.5.0",
            "orientation": "horizontal",
            "min": 0,
            "description_tooltip": null,
            "_model_module": "@jupyter-widgets/controls",
            "layout": "IPY_MODEL_094e6d1dbe0c4765858a597e2c7762f8"
          }
        },
        "209eb0df2d754350b6416ab0d8db48bc": {
          "model_module": "@jupyter-widgets/controls",
          "model_name": "HTMLModel",
          "state": {
            "_view_name": "HTMLView",
            "style": "IPY_MODEL_7d94c6b43ee345499d4717bed0ad26a1",
            "_dom_classes": [],
            "description": "",
            "_model_name": "HTMLModel",
            "placeholder": "​",
            "_view_module": "@jupyter-widgets/controls",
            "_model_module_version": "1.5.0",
            "value": " 27/10000 [00:46&lt;1:34:02,  1.77it/s, delta=3.42e-8, different_rate=0.7, dist_theta=3.86e+3, similiar_rate=0.7]",
            "_view_count": null,
            "_view_module_version": "1.5.0",
            "description_tooltip": null,
            "_model_module": "@jupyter-widgets/controls",
            "layout": "IPY_MODEL_646509f767f54e3294eabcd94e6793ee"
          }
        },
        "3bdc2889d256471196e10fc00d3725a3": {
          "model_module": "@jupyter-widgets/controls",
          "model_name": "ProgressStyleModel",
          "state": {
            "_view_name": "StyleView",
            "_model_name": "ProgressStyleModel",
            "description_width": "initial",
            "_view_module": "@jupyter-widgets/base",
            "_model_module_version": "1.5.0",
            "_view_count": null,
            "_view_module_version": "1.2.0",
            "bar_color": null,
            "_model_module": "@jupyter-widgets/controls"
          }
        },
        "094e6d1dbe0c4765858a597e2c7762f8": {
          "model_module": "@jupyter-widgets/base",
          "model_name": "LayoutModel",
          "state": {
            "_view_name": "LayoutView",
            "grid_template_rows": null,
            "right": null,
            "justify_content": null,
            "_view_module": "@jupyter-widgets/base",
            "overflow": null,
            "_model_module_version": "1.2.0",
            "_view_count": null,
            "flex_flow": null,
            "width": null,
            "min_width": null,
            "border": null,
            "align_items": null,
            "bottom": null,
            "_model_module": "@jupyter-widgets/base",
            "top": null,
            "grid_column": null,
            "overflow_y": null,
            "overflow_x": null,
            "grid_auto_flow": null,
            "grid_area": null,
            "grid_template_columns": null,
            "flex": null,
            "_model_name": "LayoutModel",
            "justify_items": null,
            "grid_row": null,
            "max_height": null,
            "align_content": null,
            "visibility": null,
            "align_self": null,
            "height": null,
            "min_height": null,
            "padding": null,
            "grid_auto_rows": null,
            "grid_gap": null,
            "max_width": null,
            "order": null,
            "_view_module_version": "1.2.0",
            "grid_template_areas": null,
            "object_position": null,
            "object_fit": null,
            "grid_auto_columns": null,
            "margin": null,
            "display": null,
            "left": null
          }
        },
        "7d94c6b43ee345499d4717bed0ad26a1": {
          "model_module": "@jupyter-widgets/controls",
          "model_name": "DescriptionStyleModel",
          "state": {
            "_view_name": "StyleView",
            "_model_name": "DescriptionStyleModel",
            "description_width": "",
            "_view_module": "@jupyter-widgets/base",
            "_model_module_version": "1.5.0",
            "_view_count": null,
            "_view_module_version": "1.2.0",
            "_model_module": "@jupyter-widgets/controls"
          }
        },
        "646509f767f54e3294eabcd94e6793ee": {
          "model_module": "@jupyter-widgets/base",
          "model_name": "LayoutModel",
          "state": {
            "_view_name": "LayoutView",
            "grid_template_rows": null,
            "right": null,
            "justify_content": null,
            "_view_module": "@jupyter-widgets/base",
            "overflow": null,
            "_model_module_version": "1.2.0",
            "_view_count": null,
            "flex_flow": null,
            "width": null,
            "min_width": null,
            "border": null,
            "align_items": null,
            "bottom": null,
            "_model_module": "@jupyter-widgets/base",
            "top": null,
            "grid_column": null,
            "overflow_y": null,
            "overflow_x": null,
            "grid_auto_flow": null,
            "grid_area": null,
            "grid_template_columns": null,
            "flex": null,
            "_model_name": "LayoutModel",
            "justify_items": null,
            "grid_row": null,
            "max_height": null,
            "align_content": null,
            "visibility": null,
            "align_self": null,
            "height": null,
            "min_height": null,
            "padding": null,
            "grid_auto_rows": null,
            "grid_gap": null,
            "max_width": null,
            "order": null,
            "_view_module_version": "1.2.0",
            "grid_template_areas": null,
            "object_position": null,
            "object_fit": null,
            "grid_auto_columns": null,
            "margin": null,
            "display": null,
            "left": null
          }
        },
        "8e08a1edda664446bcbb5b96cb873825": {
          "model_module": "@jupyter-widgets/controls",
          "model_name": "HBoxModel",
          "state": {
            "_view_name": "HBoxView",
            "_dom_classes": [],
            "_model_name": "HBoxModel",
            "_view_module": "@jupyter-widgets/controls",
            "_model_module_version": "1.5.0",
            "_view_count": null,
            "_view_module_version": "1.5.0",
            "box_style": "",
            "layout": "IPY_MODEL_2e6e3d91b2474f0793c6bccc909ce576",
            "_model_module": "@jupyter-widgets/controls",
            "children": [
              "IPY_MODEL_2d72b4aede9e49fba29f14ea5278c5d3",
              "IPY_MODEL_56f4753c0edb4e9e9c2d6cfaca552f30"
            ]
          }
        },
        "2e6e3d91b2474f0793c6bccc909ce576": {
          "model_module": "@jupyter-widgets/base",
          "model_name": "LayoutModel",
          "state": {
            "_view_name": "LayoutView",
            "grid_template_rows": null,
            "right": null,
            "justify_content": null,
            "_view_module": "@jupyter-widgets/base",
            "overflow": null,
            "_model_module_version": "1.2.0",
            "_view_count": null,
            "flex_flow": null,
            "width": null,
            "min_width": null,
            "border": null,
            "align_items": null,
            "bottom": null,
            "_model_module": "@jupyter-widgets/base",
            "top": null,
            "grid_column": null,
            "overflow_y": null,
            "overflow_x": null,
            "grid_auto_flow": null,
            "grid_area": null,
            "grid_template_columns": null,
            "flex": null,
            "_model_name": "LayoutModel",
            "justify_items": null,
            "grid_row": null,
            "max_height": null,
            "align_content": null,
            "visibility": null,
            "align_self": null,
            "height": null,
            "min_height": null,
            "padding": null,
            "grid_auto_rows": null,
            "grid_gap": null,
            "max_width": null,
            "order": null,
            "_view_module_version": "1.2.0",
            "grid_template_areas": null,
            "object_position": null,
            "object_fit": null,
            "grid_auto_columns": null,
            "margin": null,
            "display": null,
            "left": null
          }
        },
        "2d72b4aede9e49fba29f14ea5278c5d3": {
          "model_module": "@jupyter-widgets/controls",
          "model_name": "IntProgressModel",
          "state": {
            "_view_name": "ProgressView",
            "style": "IPY_MODEL_6c9d1453d6bb493bb227b1460d5f10bb",
            "_dom_classes": [],
            "description": "Epoch 44:   0%",
            "_model_name": "IntProgressModel",
            "bar_style": "danger",
            "max": 10000,
            "_view_module": "@jupyter-widgets/controls",
            "_model_module_version": "1.5.0",
            "value": 45,
            "_view_count": null,
            "_view_module_version": "1.5.0",
            "orientation": "horizontal",
            "min": 0,
            "description_tooltip": null,
            "_model_module": "@jupyter-widgets/controls",
            "layout": "IPY_MODEL_46d2c853dd1f40d1b9a5d7b98b740619"
          }
        },
        "56f4753c0edb4e9e9c2d6cfaca552f30": {
          "model_module": "@jupyter-widgets/controls",
          "model_name": "HTMLModel",
          "state": {
            "_view_name": "HTMLView",
            "style": "IPY_MODEL_2187d17c9efa4fb790005e2d0ff2e6db",
            "_dom_classes": [],
            "description": "",
            "_model_name": "HTMLModel",
            "placeholder": "​",
            "_view_module": "@jupyter-widgets/controls",
            "_model_module_version": "1.5.0",
            "value": " 45/10000 [00:19&lt;1:06:11,  2.51it/s, delta=3.86e-7, different_rate=0.69, dist_theta=4.1e+3, similiar_rate=0.69]",
            "_view_count": null,
            "_view_module_version": "1.5.0",
            "description_tooltip": null,
            "_model_module": "@jupyter-widgets/controls",
            "layout": "IPY_MODEL_e31dfa5c8b114af4ba266584b81b60b9"
          }
        },
        "6c9d1453d6bb493bb227b1460d5f10bb": {
          "model_module": "@jupyter-widgets/controls",
          "model_name": "ProgressStyleModel",
          "state": {
            "_view_name": "StyleView",
            "_model_name": "ProgressStyleModel",
            "description_width": "initial",
            "_view_module": "@jupyter-widgets/base",
            "_model_module_version": "1.5.0",
            "_view_count": null,
            "_view_module_version": "1.2.0",
            "bar_color": null,
            "_model_module": "@jupyter-widgets/controls"
          }
        },
        "46d2c853dd1f40d1b9a5d7b98b740619": {
          "model_module": "@jupyter-widgets/base",
          "model_name": "LayoutModel",
          "state": {
            "_view_name": "LayoutView",
            "grid_template_rows": null,
            "right": null,
            "justify_content": null,
            "_view_module": "@jupyter-widgets/base",
            "overflow": null,
            "_model_module_version": "1.2.0",
            "_view_count": null,
            "flex_flow": null,
            "width": null,
            "min_width": null,
            "border": null,
            "align_items": null,
            "bottom": null,
            "_model_module": "@jupyter-widgets/base",
            "top": null,
            "grid_column": null,
            "overflow_y": null,
            "overflow_x": null,
            "grid_auto_flow": null,
            "grid_area": null,
            "grid_template_columns": null,
            "flex": null,
            "_model_name": "LayoutModel",
            "justify_items": null,
            "grid_row": null,
            "max_height": null,
            "align_content": null,
            "visibility": null,
            "align_self": null,
            "height": null,
            "min_height": null,
            "padding": null,
            "grid_auto_rows": null,
            "grid_gap": null,
            "max_width": null,
            "order": null,
            "_view_module_version": "1.2.0",
            "grid_template_areas": null,
            "object_position": null,
            "object_fit": null,
            "grid_auto_columns": null,
            "margin": null,
            "display": null,
            "left": null
          }
        },
        "2187d17c9efa4fb790005e2d0ff2e6db": {
          "model_module": "@jupyter-widgets/controls",
          "model_name": "DescriptionStyleModel",
          "state": {
            "_view_name": "StyleView",
            "_model_name": "DescriptionStyleModel",
            "description_width": "",
            "_view_module": "@jupyter-widgets/base",
            "_model_module_version": "1.5.0",
            "_view_count": null,
            "_view_module_version": "1.2.0",
            "_model_module": "@jupyter-widgets/controls"
          }
        },
        "e31dfa5c8b114af4ba266584b81b60b9": {
          "model_module": "@jupyter-widgets/base",
          "model_name": "LayoutModel",
          "state": {
            "_view_name": "LayoutView",
            "grid_template_rows": null,
            "right": null,
            "justify_content": null,
            "_view_module": "@jupyter-widgets/base",
            "overflow": null,
            "_model_module_version": "1.2.0",
            "_view_count": null,
            "flex_flow": null,
            "width": null,
            "min_width": null,
            "border": null,
            "align_items": null,
            "bottom": null,
            "_model_module": "@jupyter-widgets/base",
            "top": null,
            "grid_column": null,
            "overflow_y": null,
            "overflow_x": null,
            "grid_auto_flow": null,
            "grid_area": null,
            "grid_template_columns": null,
            "flex": null,
            "_model_name": "LayoutModel",
            "justify_items": null,
            "grid_row": null,
            "max_height": null,
            "align_content": null,
            "visibility": null,
            "align_self": null,
            "height": null,
            "min_height": null,
            "padding": null,
            "grid_auto_rows": null,
            "grid_gap": null,
            "max_width": null,
            "order": null,
            "_view_module_version": "1.2.0",
            "grid_template_areas": null,
            "object_position": null,
            "object_fit": null,
            "grid_auto_columns": null,
            "margin": null,
            "display": null,
            "left": null
          }
        }
      }
    }
  },
  "cells": [
    {
      "cell_type": "markdown",
      "metadata": {
        "id": "view-in-github",
        "colab_type": "text"
      },
      "source": [
        "<a href=\"https://colab.research.google.com/github/supplient/bachelor_design/blob/equal_realize/EqualTrain.ipynb\" target=\"_parent\"><img src=\"https://colab.research.google.com/assets/colab-badge.svg\" alt=\"Open In Colab\"/></a>"
      ]
    },
    {
      "cell_type": "markdown",
      "metadata": {
        "id": "5brwQkd4X7EH",
        "colab_type": "text"
      },
      "source": [
        "# Environment Prepare"
      ]
    },
    {
      "cell_type": "code",
      "metadata": {
        "id": "NT47jUzLX7EO",
        "colab_type": "code",
        "colab": {
          "base_uri": "https://localhost:8080/",
          "height": 927
        },
        "outputId": "47d5d4f9-931f-4673-b3e7-b3b50c38d451"
      },
      "source": [
        "!pip install keras_bert\n",
        "!pip install prettytable"
      ],
      "execution_count": 1,
      "outputs": [
        {
          "output_type": "stream",
          "text": [
            "Collecting keras_bert\n",
            "  Downloading https://files.pythonhosted.org/packages/2c/0f/cdc886c1018943ea62d3209bc964413d5aa9d0eb7e493abd8545be679294/keras-bert-0.81.0.tar.gz\n",
            "Requirement already satisfied: numpy in /usr/local/lib/python3.6/dist-packages (from keras_bert) (1.18.2)\n",
            "Requirement already satisfied: Keras in /usr/local/lib/python3.6/dist-packages (from keras_bert) (2.2.5)\n",
            "Collecting keras-transformer>=0.30.0\n",
            "  Downloading https://files.pythonhosted.org/packages/54/0c/fede535ac576c03863c44bf2e0bf051fe21f5e10103631b6b6236ae446f3/keras-transformer-0.32.0.tar.gz\n",
            "Requirement already satisfied: keras-preprocessing>=1.1.0 in /usr/local/lib/python3.6/dist-packages (from Keras->keras_bert) (1.1.0)\n",
            "Requirement already satisfied: pyyaml in /usr/local/lib/python3.6/dist-packages (from Keras->keras_bert) (3.13)\n",
            "Requirement already satisfied: six>=1.9.0 in /usr/local/lib/python3.6/dist-packages (from Keras->keras_bert) (1.12.0)\n",
            "Requirement already satisfied: scipy>=0.14 in /usr/local/lib/python3.6/dist-packages (from Keras->keras_bert) (1.4.1)\n",
            "Requirement already satisfied: keras-applications>=1.0.8 in /usr/local/lib/python3.6/dist-packages (from Keras->keras_bert) (1.0.8)\n",
            "Requirement already satisfied: h5py in /usr/local/lib/python3.6/dist-packages (from Keras->keras_bert) (2.8.0)\n",
            "Collecting keras-pos-embd>=0.10.0\n",
            "  Downloading https://files.pythonhosted.org/packages/09/70/b63ed8fc660da2bb6ae29b9895401c628da5740c048c190b5d7107cadd02/keras-pos-embd-0.11.0.tar.gz\n",
            "Collecting keras-multi-head>=0.22.0\n",
            "  Downloading https://files.pythonhosted.org/packages/40/3e/d0a64bb2ac5217928effe4507c26bbd19b86145d16a1948bc2d4f4c6338a/keras-multi-head-0.22.0.tar.gz\n",
            "Collecting keras-layer-normalization>=0.12.0\n",
            "  Downloading https://files.pythonhosted.org/packages/a4/0e/d1078df0494bac9ce1a67954e5380b6e7569668f0f3b50a9531c62c1fc4a/keras-layer-normalization-0.14.0.tar.gz\n",
            "Collecting keras-position-wise-feed-forward>=0.5.0\n",
            "  Downloading https://files.pythonhosted.org/packages/e3/59/f0faa1037c033059e7e9e7758e6c23b4d1c0772cd48de14c4b6fd4033ad5/keras-position-wise-feed-forward-0.6.0.tar.gz\n",
            "Collecting keras-embed-sim>=0.7.0\n",
            "  Downloading https://files.pythonhosted.org/packages/bc/20/735fd53f6896e2af63af47e212601c1b8a7a80d00b6126c388c9d1233892/keras-embed-sim-0.7.0.tar.gz\n",
            "Collecting keras-self-attention==0.41.0\n",
            "  Downloading https://files.pythonhosted.org/packages/1b/1c/01599219bef7266fa43b3316e4f55bcb487734d3bafdc60ffd564f3cfe29/keras-self-attention-0.41.0.tar.gz\n",
            "Building wheels for collected packages: keras-bert, keras-transformer, keras-pos-embd, keras-multi-head, keras-layer-normalization, keras-position-wise-feed-forward, keras-embed-sim, keras-self-attention\n",
            "  Building wheel for keras-bert (setup.py) ... \u001b[?25l\u001b[?25hdone\n",
            "  Created wheel for keras-bert: filename=keras_bert-0.81.0-cp36-none-any.whl size=37913 sha256=224afe788296fbb2794cbd3ceccceb857e84f008fa1083c5b2c24c5bf5582b70\n",
            "  Stored in directory: /root/.cache/pip/wheels/bd/27/da/ffc2d573aa48b87440ec4f98bc7c992e3a2d899edb2d22ef9e\n",
            "  Building wheel for keras-transformer (setup.py) ... \u001b[?25l\u001b[?25hdone\n",
            "  Created wheel for keras-transformer: filename=keras_transformer-0.32.0-cp36-none-any.whl size=13266 sha256=0f588f3493a59335ea5eba4ac8821c2c41a935fb8840e93f08613e26a1962a63\n",
            "  Stored in directory: /root/.cache/pip/wheels/62/f0/ce/82fa5d024d5ef8e263f26a50dcee23820efe245680ce9c922a\n",
            "  Building wheel for keras-pos-embd (setup.py) ... \u001b[?25l\u001b[?25hdone\n",
            "  Created wheel for keras-pos-embd: filename=keras_pos_embd-0.11.0-cp36-none-any.whl size=7554 sha256=7628f9361aaf2b96f98cd750fd535ffdf656d7e673aff6f2b71a03e4189437d3\n",
            "  Stored in directory: /root/.cache/pip/wheels/5b/a1/a0/ce6b1d49ba1a9a76f592e70cf297b05c96bc9f418146761032\n",
            "  Building wheel for keras-multi-head (setup.py) ... \u001b[?25l\u001b[?25hdone\n",
            "  Created wheel for keras-multi-head: filename=keras_multi_head-0.22.0-cp36-none-any.whl size=15371 sha256=709da0d1bb67a32bd615c3f19a771e87e5a09eb3245e38da66fc281ed9955fa2\n",
            "  Stored in directory: /root/.cache/pip/wheels/bb/df/3f/81b36f41b66e6a9cd69224c70a737de2bb6b2f7feb3272c25e\n",
            "  Building wheel for keras-layer-normalization (setup.py) ... \u001b[?25l\u001b[?25hdone\n",
            "  Created wheel for keras-layer-normalization: filename=keras_layer_normalization-0.14.0-cp36-none-any.whl size=5268 sha256=e368fddabf1ea582cef2fd12ea590c1b03bebccad87735a978ffca8ad3b704f3\n",
            "  Stored in directory: /root/.cache/pip/wheels/54/80/22/a638a7d406fd155e507aa33d703e3fa2612b9eb7bb4f4fe667\n",
            "  Building wheel for keras-position-wise-feed-forward (setup.py) ... \u001b[?25l\u001b[?25hdone\n",
            "  Created wheel for keras-position-wise-feed-forward: filename=keras_position_wise_feed_forward-0.6.0-cp36-none-any.whl size=5623 sha256=a2c31d5d3ba867e6542c423b6810e8a67ca1b4abb03e9461ad84382857f01bdd\n",
            "  Stored in directory: /root/.cache/pip/wheels/39/e2/e2/3514fef126a00574b13bc0b9e23891800158df3a3c19c96e3b\n",
            "  Building wheel for keras-embed-sim (setup.py) ... \u001b[?25l\u001b[?25hdone\n",
            "  Created wheel for keras-embed-sim: filename=keras_embed_sim-0.7.0-cp36-none-any.whl size=4676 sha256=06573127a790b0d469f1cba42e8ddecdae686f77d43b4bd98c5f91bacfaa72b9\n",
            "  Stored in directory: /root/.cache/pip/wheels/d1/bc/b1/b0c45cee4ca2e6c86586b0218ffafe7f0703c6d07fdf049866\n",
            "  Building wheel for keras-self-attention (setup.py) ... \u001b[?25l\u001b[?25hdone\n",
            "  Created wheel for keras-self-attention: filename=keras_self_attention-0.41.0-cp36-none-any.whl size=17288 sha256=d8cf45ddae4b0a29d9adac1bd2d5a2ef0b48931db586c3a8b335b916d63b8140\n",
            "  Stored in directory: /root/.cache/pip/wheels/cc/dc/17/84258b27a04cd38ac91998abe148203720ca696186635db694\n",
            "Successfully built keras-bert keras-transformer keras-pos-embd keras-multi-head keras-layer-normalization keras-position-wise-feed-forward keras-embed-sim keras-self-attention\n",
            "Installing collected packages: keras-pos-embd, keras-self-attention, keras-multi-head, keras-layer-normalization, keras-position-wise-feed-forward, keras-embed-sim, keras-transformer, keras-bert\n",
            "Successfully installed keras-bert-0.81.0 keras-embed-sim-0.7.0 keras-layer-normalization-0.14.0 keras-multi-head-0.22.0 keras-pos-embd-0.11.0 keras-position-wise-feed-forward-0.6.0 keras-self-attention-0.41.0 keras-transformer-0.32.0\n",
            "Requirement already satisfied: prettytable in /usr/local/lib/python3.6/dist-packages (0.7.2)\n"
          ],
          "name": "stdout"
        }
      ]
    },
    {
      "cell_type": "code",
      "metadata": {
        "id": "9gORZrmyX7Ec",
        "colab_type": "code",
        "colab": {
          "base_uri": "https://localhost:8080/",
          "height": 151
        },
        "outputId": "97543918-9832-441d-af75-723033bc6263"
      },
      "source": [
        "!git clone https://github.com/supplient/bachelor_design.git\n",
        "import os\n",
        "os.chdir(\"bachelor_design\")\n",
        "!pwd"
      ],
      "execution_count": 3,
      "outputs": [
        {
          "output_type": "stream",
          "text": [
            "Cloning into 'bachelor_design'...\n",
            "remote: Enumerating objects: 193, done.\u001b[K\n",
            "remote: Counting objects:   0% (1/193)\u001b[K\rremote: Counting objects:   1% (2/193)\u001b[K\rremote: Counting objects:   2% (4/193)\u001b[K\rremote: Counting objects:   3% (6/193)\u001b[K\rremote: Counting objects:   4% (8/193)\u001b[K\rremote: Counting objects:   5% (10/193)\u001b[K\rremote: Counting objects:   6% (12/193)\u001b[K\rremote: Counting objects:   7% (14/193)\u001b[K\rremote: Counting objects:   8% (16/193)\u001b[K\rremote: Counting objects:   9% (18/193)\u001b[K\rremote: Counting objects:  10% (20/193)\u001b[K\rremote: Counting objects:  11% (22/193)\u001b[K\rremote: Counting objects:  12% (24/193)\u001b[K\rremote: Counting objects:  13% (26/193)\u001b[K\rremote: Counting objects:  14% (28/193)\u001b[K\rremote: Counting objects:  15% (29/193)\u001b[K\rremote: Counting objects:  16% (31/193)\u001b[K\rremote: Counting objects:  17% (33/193)\u001b[K\rremote: Counting objects:  18% (35/193)\u001b[K\rremote: Counting objects:  19% (37/193)\u001b[K\rremote: Counting objects:  20% (39/193)\u001b[K\rremote: Counting objects:  21% (41/193)\u001b[K\rremote: Counting objects:  22% (43/193)\u001b[K\rremote: Counting objects:  23% (45/193)\u001b[K\rremote: Counting objects:  24% (47/193)\u001b[K\rremote: Counting objects:  25% (49/193)\u001b[K\rremote: Counting objects:  26% (51/193)\u001b[K\rremote: Counting objects:  27% (53/193)\u001b[K\rremote: Counting objects:  28% (55/193)\u001b[K\rremote: Counting objects:  29% (56/193)\u001b[K\rremote: Counting objects:  30% (58/193)\u001b[K\rremote: Counting objects:  31% (60/193)\u001b[K\rremote: Counting objects:  32% (62/193)\u001b[K\rremote: Counting objects:  33% (64/193)\u001b[K\rremote: Counting objects:  34% (66/193)\u001b[K\rremote: Counting objects:  35% (68/193)\u001b[K\rremote: Counting objects:  36% (70/193)\u001b[K\rremote: Counting objects:  37% (72/193)\u001b[K\rremote: Counting objects:  38% (74/193)\u001b[K\rremote: Counting objects:  39% (76/193)\u001b[K\rremote: Counting objects:  40% (78/193)\u001b[K\rremote: Counting objects:  41% (80/193)\u001b[K\rremote: Counting objects:  42% (82/193)\u001b[K\rremote: Counting objects:  43% (83/193)\u001b[K\rremote: Counting objects:  44% (85/193)\u001b[K\rremote: Counting objects:  45% (87/193)\u001b[K\rremote: Counting objects:  46% (89/193)\u001b[K\rremote: Counting objects:  47% (91/193)\u001b[K\rremote: Counting objects:  48% (93/193)\u001b[K\rremote: Counting objects:  49% (95/193)\u001b[K\rremote: Counting objects:  50% (97/193)\u001b[K\rremote: Counting objects:  51% (99/193)\u001b[K\rremote: Counting objects:  52% (101/193)\u001b[K\rremote: Counting objects:  53% (103/193)\u001b[K\rremote: Counting objects:  54% (105/193)\u001b[K\rremote: Counting objects:  55% (107/193)\u001b[K\rremote: Counting objects:  56% (109/193)\u001b[K\rremote: Counting objects:  57% (111/193)\u001b[K\rremote: Counting objects:  58% (112/193)\u001b[K\rremote: Counting objects:  59% (114/193)\u001b[K\rremote: Counting objects:  60% (116/193)\u001b[K\rremote: Counting objects:  61% (118/193)\u001b[K\rremote: Counting objects:  62% (120/193)\u001b[K\rremote: Counting objects:  63% (122/193)\u001b[K\rremote: Counting objects:  64% (124/193)\u001b[K\rremote: Counting objects:  65% (126/193)\u001b[K\rremote: Counting objects:  66% (128/193)\u001b[K\rremote: Counting objects:  67% (130/193)\u001b[K\rremote: Counting objects:  68% (132/193)\u001b[K\rremote: Counting objects:  69% (134/193)\u001b[K\rremote: Counting objects:  70% (136/193)\u001b[K\rremote: Counting objects:  71% (138/193)\u001b[K\rremote: Counting objects:  72% (139/193)\u001b[K\rremote: Counting objects:  73% (141/193)\u001b[K\rremote: Counting objects:  74% (143/193)\u001b[K\rremote: Counting objects:  75% (145/193)\u001b[K\rremote: Counting objects:  76% (147/193)\u001b[K\rremote: Counting objects:  77% (149/193)\u001b[K\rremote: Counting objects:  78% (151/193)\u001b[K\rremote: Counting objects:  79% (153/193)\u001b[K\rremote: Counting objects:  80% (155/193)\u001b[K\rremote: Counting objects:  81% (157/193)\u001b[K\rremote: Counting objects:  82% (159/193)\u001b[K\rremote: Counting objects:  83% (161/193)\u001b[K\rremote: Counting objects:  84% (163/193)\u001b[K\rremote: Counting objects:  85% (165/193)\u001b[K\rremote: Counting objects:  86% (166/193)\u001b[K\rremote: Counting objects:  87% (168/193)\u001b[K\rremote: Counting objects:  88% (170/193)\u001b[K\rremote: Counting objects:  89% (172/193)\u001b[K\rremote: Counting objects:  90% (174/193)\u001b[K\rremote: Counting objects:  91% (176/193)\u001b[K\rremote: Counting objects:  92% (178/193)\u001b[K\rremote: Counting objects:  93% (180/193)\u001b[K\rremote: Counting objects:  94% (182/193)\u001b[K\rremote: Counting objects:  95% (184/193)\u001b[K\rremote: Counting objects:  96% (186/193)\u001b[K\rremote: Counting objects:  97% (188/193)\u001b[K\rremote: Counting objects:  98% (190/193)\u001b[K\rremote: Counting objects:  99% (192/193)\u001b[K\rremote: Counting objects: 100% (193/193)\u001b[K\rremote: Counting objects: 100% (193/193), done.\u001b[K\n",
            "remote: Compressing objects:   0% (1/148)\u001b[K\rremote: Compressing objects:   1% (2/148)\u001b[K\rremote: Compressing objects:   2% (3/148)\u001b[K\rremote: Compressing objects:   3% (5/148)\u001b[K\rremote: Compressing objects:   4% (6/148)\u001b[K\rremote: Compressing objects:   5% (8/148)\u001b[K\rremote: Compressing objects:   6% (9/148)\u001b[K\rremote: Compressing objects:   7% (11/148)\u001b[K\rremote: Compressing objects:   8% (12/148)\u001b[K\rremote: Compressing objects:   9% (14/148)\u001b[K\rremote: Compressing objects:  10% (15/148)\u001b[K\rremote: Compressing objects:  11% (17/148)\u001b[K\rremote: Compressing objects:  12% (18/148)\u001b[K\rremote: Compressing objects:  13% (20/148)\u001b[K\rremote: Compressing objects:  14% (21/148)\u001b[K\rremote: Compressing objects:  15% (23/148)\u001b[K\rremote: Compressing objects:  16% (24/148)\u001b[K\rremote: Compressing objects:  17% (26/148)\u001b[K\rremote: Compressing objects:  18% (27/148)\u001b[K\rremote: Compressing objects:  19% (29/148)\u001b[K\rremote: Compressing objects:  20% (30/148)\u001b[K\rremote: Compressing objects:  21% (32/148)\u001b[K\rremote: Compressing objects:  22% (33/148)\u001b[K\rremote: Compressing objects:  23% (35/148)\u001b[K\rremote: Compressing objects:  24% (36/148)\u001b[K\rremote: Compressing objects:  25% (37/148)\u001b[K\rremote: Compressing objects:  26% (39/148)\u001b[K\rremote: Compressing objects:  27% (40/148)\u001b[K\rremote: Compressing objects:  28% (42/148)\u001b[K\rremote: Compressing objects:  29% (43/148)\u001b[K\rremote: Compressing objects:  30% (45/148)\u001b[K\rremote: Compressing objects:  31% (46/148)\u001b[K\rremote: Compressing objects:  32% (48/148)\u001b[K\rremote: Compressing objects:  33% (49/148)\u001b[K\rremote: Compressing objects:  34% (51/148)\u001b[K\rremote: Compressing objects:  35% (52/148)\u001b[K\rremote: Compressing objects:  36% (54/148)\u001b[K\rremote: Compressing objects:  37% (55/148)\u001b[K\rremote: Compressing objects:  38% (57/148)\u001b[K\rremote: Compressing objects:  39% (58/148)\u001b[K\rremote: Compressing objects:  40% (60/148)\u001b[K\rremote: Compressing objects:  41% (61/148)\u001b[K\rremote: Compressing objects:  42% (63/148)\u001b[K\rremote: Compressing objects:  43% (64/148)\u001b[K\rremote: Compressing objects:  44% (66/148)\u001b[K\rremote: Compressing objects:  45% (67/148)\u001b[K\rremote: Compressing objects:  46% (69/148)\u001b[K\rremote: Compressing objects:  47% (70/148)\u001b[K\rremote: Compressing objects:  48% (72/148)\u001b[K\rremote: Compressing objects:  49% (73/148)\u001b[K\rremote: Compressing objects:  50% (74/148)\u001b[K\rremote: Compressing objects:  51% (76/148)\u001b[K\rremote: Compressing objects:  52% (77/148)\u001b[K\rremote: Compressing objects:  53% (79/148)\u001b[K\rremote: Compressing objects:  54% (80/148)\u001b[K\rremote: Compressing objects:  55% (82/148)\u001b[K\rremote: Compressing objects:  56% (83/148)\u001b[K\rremote: Compressing objects:  57% (85/148)\u001b[K\rremote: Compressing objects:  58% (86/148)\u001b[K\rremote: Compressing objects:  59% (88/148)\u001b[K\rremote: Compressing objects:  60% (89/148)\u001b[K\rremote: Compressing objects:  61% (91/148)\u001b[K\rremote: Compressing objects:  62% (92/148)\u001b[K\rremote: Compressing objects:  63% (94/148)\u001b[K\rremote: Compressing objects:  64% (95/148)\u001b[K\rremote: Compressing objects:  65% (97/148)\u001b[K\rremote: Compressing objects:  66% (98/148)\u001b[K\rremote: Compressing objects:  67% (100/148)\u001b[K\rremote: Compressing objects:  68% (101/148)\u001b[K\rremote: Compressing objects:  69% (103/148)\u001b[K\rremote: Compressing objects:  70% (104/148)\u001b[K\rremote: Compressing objects:  71% (106/148)\u001b[K\rremote: Compressing objects:  72% (107/148)\u001b[K\rremote: Compressing objects:  73% (109/148)\u001b[K\rremote: Compressing objects:  74% (110/148)\u001b[K\rremote: Compressing objects:  75% (111/148)\u001b[K\rremote: Compressing objects:  76% (113/148)\u001b[K\rremote: Compressing objects:  77% (114/148)\u001b[K\rremote: Compressing objects:  78% (116/148)\u001b[K\rremote: Compressing objects:  79% (117/148)\u001b[K\rremote: Compressing objects:  80% (119/148)\u001b[K\rremote: Compressing objects:  81% (120/148)\u001b[K\rremote: Compressing objects:  82% (122/148)\u001b[K\rremote: Compressing objects:  83% (123/148)\u001b[K\rremote: Compressing objects:  84% (125/148)\u001b[K\rremote: Compressing objects:  85% (126/148)\u001b[K\rremote: Compressing objects:  86% (128/148)\u001b[K\rremote: Compressing objects:  87% (129/148)\u001b[K\rremote: Compressing objects:  88% (131/148)\u001b[K\rremote: Compressing objects:  89% (132/148)\u001b[K\rremote: Compressing objects:  90% (134/148)\u001b[K\rremote: Compressing objects:  91% (135/148)\u001b[K\rremote: Compressing objects:  92% (137/148)\u001b[K\rremote: Compressing objects:  93% (138/148)\u001b[K\rremote: Compressing objects:  94% (140/148)\u001b[K\rremote: Compressing objects:  95% (141/148)\u001b[K\rremote: Compressing objects:  96% (143/148)\u001b[K\rremote: Compressing objects:  97% (144/148)\u001b[K\rremote: Compressing objects:  98% (146/148)\u001b[K\rremote: Compressing objects:  99% (147/148)\u001b[K\rremote: Compressing objects: 100% (148/148)\u001b[K\rremote: Compressing objects: 100% (148/148), done.\u001b[K\n",
            "Receiving objects:   0% (1/193)   \rReceiving objects:   1% (2/193)   \rReceiving objects:   2% (4/193)   \rReceiving objects:   3% (6/193)   \rReceiving objects:   4% (8/193)   \rReceiving objects:   5% (10/193)   \rReceiving objects:   6% (12/193)   \rReceiving objects:   7% (14/193)   \rReceiving objects:   8% (16/193)   \rReceiving objects:   9% (18/193)   \rReceiving objects:  10% (20/193)   \rReceiving objects:  11% (22/193)   \rReceiving objects:  12% (24/193)   \rReceiving objects:  13% (26/193)   \rReceiving objects:  14% (28/193)   \rReceiving objects:  15% (29/193)   \rReceiving objects:  16% (31/193)   \rReceiving objects:  17% (33/193)   \rReceiving objects:  18% (35/193)   \rReceiving objects:  19% (37/193)   \rReceiving objects:  20% (39/193)   \rReceiving objects:  21% (41/193)   \rReceiving objects:  22% (43/193)   \rReceiving objects:  23% (45/193)   \rReceiving objects:  24% (47/193)   \rReceiving objects:  25% (49/193)   \rReceiving objects:  26% (51/193)   \rReceiving objects:  27% (53/193)   \rReceiving objects:  28% (55/193)   \rReceiving objects:  29% (56/193)   \rReceiving objects:  30% (58/193)   \rReceiving objects:  31% (60/193)   \rReceiving objects:  32% (62/193)   \rReceiving objects:  33% (64/193)   \rReceiving objects:  34% (66/193)   \rReceiving objects:  35% (68/193)   \rReceiving objects:  36% (70/193)   \rReceiving objects:  37% (72/193)   \rReceiving objects:  38% (74/193)   \rReceiving objects:  39% (76/193)   \rReceiving objects:  40% (78/193)   \rReceiving objects:  41% (80/193)   \rReceiving objects:  42% (82/193)   \rReceiving objects:  43% (83/193)   \rReceiving objects:  44% (85/193)   \rReceiving objects:  45% (87/193)   \rReceiving objects:  46% (89/193)   \rReceiving objects:  47% (91/193)   \rReceiving objects:  48% (93/193)   \rReceiving objects:  49% (95/193)   \rReceiving objects:  50% (97/193)   \rReceiving objects:  51% (99/193)   \rReceiving objects:  52% (101/193)   \rReceiving objects:  53% (103/193)   \rReceiving objects:  54% (105/193)   \rReceiving objects:  55% (107/193)   \rReceiving objects:  56% (109/193)   \rReceiving objects:  57% (111/193)   \rReceiving objects:  58% (112/193)   \rReceiving objects:  59% (114/193)   \rReceiving objects:  60% (116/193)   \rReceiving objects:  61% (118/193)   \rReceiving objects:  62% (120/193)   \rReceiving objects:  63% (122/193)   \rremote: Total 193 (delta 97), reused 125 (delta 41), pack-reused 0\u001b[K\n",
            "Receiving objects:  64% (124/193)   \rReceiving objects:  65% (126/193)   \rReceiving objects:  66% (128/193)   \rReceiving objects:  67% (130/193)   \rReceiving objects:  68% (132/193)   \rReceiving objects:  69% (134/193)   \rReceiving objects:  70% (136/193)   \rReceiving objects:  71% (138/193)   \rReceiving objects:  72% (139/193)   \rReceiving objects:  73% (141/193)   \rReceiving objects:  74% (143/193)   \rReceiving objects:  75% (145/193)   \rReceiving objects:  76% (147/193)   \rReceiving objects:  77% (149/193)   \rReceiving objects:  78% (151/193)   \rReceiving objects:  79% (153/193)   \rReceiving objects:  80% (155/193)   \rReceiving objects:  81% (157/193)   \rReceiving objects:  82% (159/193)   \rReceiving objects:  83% (161/193)   \rReceiving objects:  84% (163/193)   \rReceiving objects:  85% (165/193)   \rReceiving objects:  86% (166/193)   \rReceiving objects:  87% (168/193)   \rReceiving objects:  88% (170/193)   \rReceiving objects:  89% (172/193)   \rReceiving objects:  90% (174/193)   \rReceiving objects:  91% (176/193)   \rReceiving objects:  92% (178/193)   \rReceiving objects:  93% (180/193)   \rReceiving objects:  94% (182/193)   \rReceiving objects:  95% (184/193)   \rReceiving objects:  96% (186/193)   \rReceiving objects:  97% (188/193)   \rReceiving objects:  98% (190/193)   \rReceiving objects:  99% (192/193)   \rReceiving objects: 100% (193/193)   \rReceiving objects: 100% (193/193), 5.80 MiB | 23.01 MiB/s, done.\n",
            "Resolving deltas:   0% (0/97)   \rResolving deltas:   9% (9/97)   \rResolving deltas:  31% (31/97)   \rResolving deltas:  45% (44/97)   \rResolving deltas:  48% (47/97)   \rResolving deltas:  49% (48/97)   \rResolving deltas:  50% (49/97)   \rResolving deltas:  57% (56/97)   \rResolving deltas:  58% (57/97)   \rResolving deltas:  59% (58/97)   \rResolving deltas:  62% (61/97)   \rResolving deltas:  74% (72/97)   \rResolving deltas:  79% (77/97)   \rResolving deltas:  85% (83/97)   \rResolving deltas:  96% (94/97)   \rResolving deltas:  98% (96/97)   \rResolving deltas: 100% (97/97)   \rResolving deltas: 100% (97/97), done.\n",
            "/content/bachelor_design\n"
          ],
          "name": "stdout"
        }
      ]
    },
    {
      "cell_type": "code",
      "metadata": {
        "id": "bHRUVApwX7Eh",
        "colab_type": "code",
        "colab": {
          "base_uri": "https://localhost:8080/",
          "height": 67
        },
        "outputId": "e07f907d-f9fa-4f4e-caeb-0c73b3c27db0"
      },
      "source": [
        "!git checkout equal_realize\n",
        "!git pull"
      ],
      "execution_count": 4,
      "outputs": [
        {
          "output_type": "stream",
          "text": [
            "Branch 'equal_realize' set up to track remote branch 'equal_realize' from 'origin'.\n",
            "Switched to a new branch 'equal_realize'\n",
            "Already up to date.\n"
          ],
          "name": "stdout"
        }
      ]
    },
    {
      "cell_type": "code",
      "metadata": {
        "id": "WA4dEHLNYuws",
        "colab_type": "code",
        "colab": {
          "base_uri": "https://localhost:8080/",
          "height": 138
        },
        "outputId": "68fafac4-75de-4529-e4fa-2a84ddf9bf68"
      },
      "source": [
        "from driver_amount import addh"
      ],
      "execution_count": 5,
      "outputs": [
        {
          "output_type": "stream",
          "text": [
            "Go to this URL in a browser: https://accounts.google.com/o/oauth2/auth?client_id=947318989803-6bn6qk8qdgf4n4g3pfee6491hc0brc4i.apps.googleusercontent.com&redirect_uri=urn%3aietf%3awg%3aoauth%3a2.0%3aoob&response_type=code&scope=email%20https%3a%2f%2fwww.googleapis.com%2fauth%2fdocs.test%20https%3a%2f%2fwww.googleapis.com%2fauth%2fdrive%20https%3a%2f%2fwww.googleapis.com%2fauth%2fdrive.photos.readonly%20https%3a%2f%2fwww.googleapis.com%2fauth%2fpeopleapi.readonly\n",
            "\n",
            "Enter your authorization code:\n",
            "··········\n",
            "Mounted at /gdrive\n",
            "[Colab] Using address head: /gdrive/My Drive\n"
          ],
          "name": "stdout"
        }
      ]
    },
    {
      "cell_type": "markdown",
      "metadata": {
        "id": "9Ig6kqIpX7El",
        "colab_type": "text"
      },
      "source": [
        "# Data Prepare"
      ]
    },
    {
      "cell_type": "markdown",
      "metadata": {
        "id": "S2iLGIFBX7En",
        "colab_type": "text"
      },
      "source": [
        "Origin Data"
      ]
    },
    {
      "cell_type": "code",
      "metadata": {
        "id": "_SBON5TbX7Eo",
        "colab_type": "code",
        "colab": {}
      },
      "source": [
        "from preprocess import load_file\n",
        "import config\n",
        "import json"
      ],
      "execution_count": 0,
      "outputs": []
    },
    {
      "cell_type": "code",
      "metadata": {
        "id": "t0gl9qRKX7Eu",
        "colab_type": "code",
        "colab": {}
      },
      "source": [
        "char_seqs, tag_seqs = load_file(addh + config.DATA_PATH)\n",
        "equal_seqs = None\n",
        "with open(addh + config.EQUAL_DATA_PATH, \"r\") as fd:\n",
        "    equal_seqs = json.load(fd)\n",
        "origin_seqs = char_seqs[:len(equal_seqs)]"
      ],
      "execution_count": 0,
      "outputs": []
    },
    {
      "cell_type": "markdown",
      "metadata": {
        "id": "95MOlkKTX7Ey",
        "colab_type": "text"
      },
      "source": [
        "# Param Load"
      ]
    },
    {
      "cell_type": "code",
      "metadata": {
        "id": "3wysRvDfX7Ez",
        "colab_type": "code",
        "colab": {}
      },
      "source": [
        "import json\n",
        "params = None\n",
        "# TODO the better way to do this is \n",
        "#    check whether the file exists first,\n",
        "#    then create it and set default params when it does not exist.\n",
        "params = {}\n",
        "with open(addh + config.EQUAL_PARAM_PATH, \"r\") as fd:\n",
        "    params = json.load(fd)\n",
        "    \n",
        "sif_alpha = params[\"sif_alpha\"]\n",
        "\n",
        "cos_theta = params[\"cos_theta\"]\n",
        "\n",
        "dist_theta = cos_theta"
      ],
      "execution_count": 0,
      "outputs": []
    },
    {
      "cell_type": "markdown",
      "metadata": {
        "id": "v1L0yeCcX7E2",
        "colab_type": "text"
      },
      "source": [
        "# Train"
      ]
    },
    {
      "cell_type": "markdown",
      "metadata": {
        "id": "vCc1LGcDX7E3",
        "colab_type": "text"
      },
      "source": [
        "Since our embedding is designed for batch work, it should be better if we combine origin_seqs and equal_seqs."
      ]
    },
    {
      "cell_type": "code",
      "metadata": {
        "id": "9-b3iPwmX7E4",
        "colab_type": "code",
        "colab": {}
      },
      "source": [
        "origin_num = len(origin_seqs)\n",
        "all_char_seqs = []\n",
        "all_char_seqs.extend(origin_seqs)\n",
        "all_char_seqs.extend(equal_seqs)"
      ],
      "execution_count": 0,
      "outputs": []
    },
    {
      "cell_type": "code",
      "metadata": {
        "id": "QQqwygnNX7E8",
        "colab_type": "code",
        "colab": {
          "base_uri": "https://localhost:8080/",
          "height": 79
        },
        "outputId": "28030e74-6cf3-4ceb-8e94-28de14a3e54f"
      },
      "source": [
        "from char_emb import CharEmbedder\n",
        "from SIF import SIF\n",
        "from dist_cal import DistCal\n",
        "from tqdm.notebook import trange, tqdm"
      ],
      "execution_count": 10,
      "outputs": [
        {
          "output_type": "stream",
          "text": [
            "Using TensorFlow backend.\n"
          ],
          "name": "stderr"
        },
        {
          "output_type": "display_data",
          "data": {
            "text/html": [
              "<p style=\"color: red;\">\n",
              "The default version of TensorFlow in Colab will switch to TensorFlow 2.x on the 27th of March, 2020.<br>\n",
              "We recommend you <a href=\"https://www.tensorflow.org/guide/migrate\" target=\"_blank\">upgrade</a> now\n",
              "or ensure your notebook will continue to use TensorFlow 1.x via the <code>%tensorflow_version 1.x</code> magic:\n",
              "<a href=\"https://colab.research.google.com/notebooks/tensorflow_version.ipynb\" target=\"_blank\">more info</a>.</p>\n"
            ],
            "text/plain": [
              "<IPython.core.display.HTML object>"
            ]
          },
          "metadata": {
            "tags": []
          }
        }
      ]
    },
    {
      "cell_type": "code",
      "metadata": {
        "id": "oOLZII7VX7FB",
        "colab_type": "code",
        "colab": {}
      },
      "source": [
        "train_rec = {}\n",
        "char_embedder = CharEmbedder()\n",
        "sif = SIF(sif_alpha)"
      ],
      "execution_count": 0,
      "outputs": []
    },
    {
      "cell_type": "code",
      "metadata": {
        "id": "1_eZbSn6X7FE",
        "colab_type": "code",
        "colab": {
          "base_uri": "https://localhost:8080/",
          "height": 567,
          "referenced_widgets": [
            "8c22f0e1e32146b0adc271d698b8cc1d",
            "f614c6a5b8f74f05813696c89c51af51",
            "bf9ec090b98341b7a0ba61ccc4bf2ef3",
            "2daf7e82314548f29bc3b683e4040da0",
            "bdf6f9d09ab64c06aaa2c444a068dd9c",
            "0bfa26fb9e79474daeda88388ae1afd5",
            "a967463903a94feda2620e2bbb79291b",
            "caa8c346dfce4f38abd6c86413802a2c",
            "a15536e69fc14568a3b9584570e9bb0c",
            "2f29633fba9143eca42c125d77ef2c81",
            "7406e301b07e4ff896c20488a93612e3",
            "15f6ca329d6a4c79a69ab60a0481df40",
            "64059332b83447d5a651142c9b0afa40",
            "825a0f2e92694a528322ed248bc0361e",
            "0475420472d149f78d888b2fbb412032",
            "2e47f691b6ea496ba475f92907f01191",
            "175e2e40e4494da9855081390da29a92",
            "9cbee3b2473b4685b449d846bd7d8e8f",
            "d73bac6cd45e4a5ba4010e98de5011d5",
            "dd4105e2a7404ad088b44b530270aef7",
            "a88593a7c9474e2a8b12e859bfad0a4f",
            "6aeab294f7fe4eafbca1268a5ff4bbe3",
            "8a0626a7b2354e1bb6bceecb0e6f0dfd",
            "499268523fe34d7f87ae2aa037c146f0",
            "98557e6a59a9401e91157156c93317dd",
            "ea74ae1be30844a7aa9f043342085026",
            "8e56cbfd16aa480289acdcb67ed7e141",
            "209eb0df2d754350b6416ab0d8db48bc",
            "3bdc2889d256471196e10fc00d3725a3",
            "094e6d1dbe0c4765858a597e2c7762f8",
            "7d94c6b43ee345499d4717bed0ad26a1",
            "646509f767f54e3294eabcd94e6793ee",
            "8e08a1edda664446bcbb5b96cb873825",
            "2e6e3d91b2474f0793c6bccc909ce576",
            "2d72b4aede9e49fba29f14ea5278c5d3",
            "56f4753c0edb4e9e9c2d6cfaca552f30",
            "6c9d1453d6bb493bb227b1460d5f10bb",
            "46d2c853dd1f40d1b9a5d7b98b740619",
            "2187d17c9efa4fb790005e2d0ff2e6db",
            "e31dfa5c8b114af4ba266584b81b60b9"
          ]
        },
        "outputId": "9ba59ef8-8318-4cc2-e717-0d18d3609ea3"
      },
      "source": [
        "for dist_method in tqdm(DistCal.methods, desc=\"Distance\"):\n",
        "    dist_theta = params.get(dist_method + \"_theta\", None)\n",
        "    for emb_method in tqdm(CharEmbedder.methods, desc=\"Char embed\", leave=None):\n",
        "        # Embedding\n",
        "        all_char_emb_seqs = char_embedder.embed(all_char_seqs, emb_method)\n",
        "        all_sen_vecs = sif.compose(all_char_seqs, all_char_emb_seqs)\n",
        "        \n",
        "        # Split\n",
        "        origin_sen_vecs = all_sen_vecs[:origin_num]\n",
        "        equal_sen_vecs = all_sen_vecs[origin_num:]\n",
        "        if len(origin_sen_vecs) != len(equal_sen_vecs):\n",
        "            raise Exception(\"Length should be the same.\")\n",
        "\n",
        "        # Init distance calculater\n",
        "        dist_cal = DistCal(all_sen_vecs)\n",
        "            \n",
        "        # Train theta\n",
        "        ## Set train params\n",
        "        epoch = 10000\n",
        "        delta = None\n",
        "        min_delta = 10**(-7)\n",
        "        \n",
        "        ## Use two experiments\n",
        "        ## * Check whether origin and equal are similiar\n",
        "        ## * Check whether origins are different\n",
        "        N = len(origin_sen_vecs)\n",
        "        similiar_total = N # TP + FN\n",
        "        different_total = N * (N -1)/2 # FP + TN\n",
        "        \n",
        "        similiar_count = 0 # TP\n",
        "        different_count = 0 # TN\n",
        "        last_delta = 0\n",
        "        with trange(epoch, desc=\"Train theta\", leave=None) as epoch_tqdm:\n",
        "            for epoch_count in epoch_tqdm:\n",
        "                # Do experiments\n",
        "                similiar_count = 0\n",
        "                for origin_sen, equal_sen in zip(origin_sen_vecs, equal_sen_vecs):\n",
        "                    dist = dist_cal.cal(origin_sen, equal_sen, dist_method)\n",
        "                    if dist_theta == None: # When dist_theta is not set, take the first dist as its initial value\n",
        "                        dist_theta = dist\n",
        "                    if dist < dist_theta:\n",
        "                        similiar_count += 1\n",
        "\n",
        "                different_count = 0\n",
        "                for i in range(N-1):\n",
        "                    for j in range(i+1, N):\n",
        "                        dist = dist_cal.cal(origin_sen_vecs[i], origin_sen_vecs[j], dist_method)\n",
        "                        if dist > dist_theta:\n",
        "                            different_count += 1\n",
        "\n",
        "                similiar_rate = similiar_count / similiar_total\n",
        "                different_rate = different_count / different_total\n",
        "\n",
        "                # Finetune theta\n",
        "                if delta == None:\n",
        "                  delta = dist_theta/10\n",
        "                  \n",
        "                now_delta = 0\n",
        "                if similiar_rate > different_rate:\n",
        "                    now_delta = -delta\n",
        "                elif similiar_rate < different_rate:\n",
        "                    now_delta = delta\n",
        "                else:\n",
        "                    now_delta = -last_delta\n",
        "\n",
        "                if now_delta == -last_delta:\n",
        "                    delta /= 10\n",
        "                    now_delta /= 10\n",
        "                dist_theta += now_delta\n",
        "                last_delta = now_delta\n",
        "\n",
        "                if dist_theta <= 0:\n",
        "                    dist_theta = 0\n",
        "\n",
        "                # Update progroess info\n",
        "                epoch_tqdm.set_description(\"Epoch %i\" % epoch_count)\n",
        "                epoch_tqdm.set_postfix(\n",
        "                    similiar_rate=similiar_rate, \n",
        "                    different_rate=different_rate,\n",
        "                    dist_theta=dist_theta,\n",
        "                    delta=delta\n",
        "                )\n",
        "\n",
        "                # Stop when delta's precision is enough\n",
        "                if delta <= min_delta:\n",
        "                    break\n",
        "        \n",
        "        # Cache train records\n",
        "        if not train_rec.get(dist_method, None):\n",
        "            train_rec[dist_method] = {}\n",
        "        train_rec[dist_method][emb_method] = {\n",
        "            \"TP\": similiar_count,\n",
        "            \"FP\": different_total - different_count,\n",
        "            \"FN\": similiar_total - similiar_count,\n",
        "            \"TN\": different_count,\n",
        "            \"dist_theta\": dist_theta\n",
        "        }"
      ],
      "execution_count": 30,
      "outputs": [
        {
          "output_type": "display_data",
          "data": {
            "application/vnd.jupyter.widget-view+json": {
              "model_id": "8c22f0e1e32146b0adc271d698b8cc1d",
              "version_minor": 0,
              "version_major": 2
            },
            "text/plain": [
              "HBox(children=(IntProgress(value=0, description='Distance', max=7, style=ProgressStyle(description_width='init…"
            ]
          },
          "metadata": {
            "tags": []
          }
        },
        {
          "output_type": "display_data",
          "data": {
            "application/vnd.jupyter.widget-view+json": {
              "model_id": "a15536e69fc14568a3b9584570e9bb0c",
              "version_minor": 0,
              "version_major": 2
            },
            "text/plain": [
              "HBox(children=(IntProgress(value=0, description='Char embed', max=5, style=ProgressStyle(description_width='in…"
            ]
          },
          "metadata": {
            "tags": []
          }
        },
        {
          "output_type": "display_data",
          "data": {
            "application/vnd.jupyter.widget-view+json": {
              "model_id": "175e2e40e4494da9855081390da29a92",
              "version_minor": 0,
              "version_major": 2
            },
            "text/plain": [
              "HBox(children=(IntProgress(value=0, description='Train theta', max=10000, style=ProgressStyle(description_widt…"
            ]
          },
          "metadata": {
            "tags": []
          }
        },
        {
          "output_type": "display_data",
          "data": {
            "application/vnd.jupyter.widget-view+json": {
              "model_id": "98557e6a59a9401e91157156c93317dd",
              "version_minor": 0,
              "version_major": 2
            },
            "text/plain": [
              "HBox(children=(IntProgress(value=0, description='Train theta', max=10000, style=ProgressStyle(description_widt…"
            ]
          },
          "metadata": {
            "tags": []
          }
        },
        {
          "output_type": "display_data",
          "data": {
            "application/vnd.jupyter.widget-view+json": {
              "model_id": "8e08a1edda664446bcbb5b96cb873825",
              "version_minor": 0,
              "version_major": 2
            },
            "text/plain": [
              "HBox(children=(IntProgress(value=0, description='Train theta', max=10000, style=ProgressStyle(description_widt…"
            ]
          },
          "metadata": {
            "tags": []
          }
        },
        {
          "output_type": "error",
          "ename": "KeyboardInterrupt",
          "evalue": "ignored",
          "traceback": [
            "\u001b[0;31m---------------------------------------------------------------------------\u001b[0m",
            "\u001b[0;31mKeyboardInterrupt\u001b[0m                         Traceback (most recent call last)",
            "\u001b[0;32m<ipython-input-30-ab46b2b57ea6>\u001b[0m in \u001b[0;36m<module>\u001b[0;34m()\u001b[0m\n\u001b[1;32m     45\u001b[0m                 \u001b[0;32mfor\u001b[0m \u001b[0mi\u001b[0m \u001b[0;32min\u001b[0m \u001b[0mrange\u001b[0m\u001b[0;34m(\u001b[0m\u001b[0mN\u001b[0m\u001b[0;34m-\u001b[0m\u001b[0;36m1\u001b[0m\u001b[0;34m)\u001b[0m\u001b[0;34m:\u001b[0m\u001b[0;34m\u001b[0m\u001b[0;34m\u001b[0m\u001b[0m\n\u001b[1;32m     46\u001b[0m                     \u001b[0;32mfor\u001b[0m \u001b[0mj\u001b[0m \u001b[0;32min\u001b[0m \u001b[0mrange\u001b[0m\u001b[0;34m(\u001b[0m\u001b[0mi\u001b[0m\u001b[0;34m+\u001b[0m\u001b[0;36m1\u001b[0m\u001b[0;34m,\u001b[0m \u001b[0mN\u001b[0m\u001b[0;34m)\u001b[0m\u001b[0;34m:\u001b[0m\u001b[0;34m\u001b[0m\u001b[0;34m\u001b[0m\u001b[0m\n\u001b[0;32m---> 47\u001b[0;31m                         \u001b[0mdist\u001b[0m \u001b[0;34m=\u001b[0m \u001b[0mdist_cal\u001b[0m\u001b[0;34m.\u001b[0m\u001b[0mcal\u001b[0m\u001b[0;34m(\u001b[0m\u001b[0morigin_sen_vecs\u001b[0m\u001b[0;34m[\u001b[0m\u001b[0mi\u001b[0m\u001b[0;34m]\u001b[0m\u001b[0;34m,\u001b[0m \u001b[0morigin_sen_vecs\u001b[0m\u001b[0;34m[\u001b[0m\u001b[0mj\u001b[0m\u001b[0;34m]\u001b[0m\u001b[0;34m,\u001b[0m \u001b[0mdist_method\u001b[0m\u001b[0;34m)\u001b[0m\u001b[0;34m\u001b[0m\u001b[0;34m\u001b[0m\u001b[0m\n\u001b[0m\u001b[1;32m     48\u001b[0m                         \u001b[0;32mif\u001b[0m \u001b[0mdist\u001b[0m \u001b[0;34m>\u001b[0m \u001b[0mdist_theta\u001b[0m\u001b[0;34m:\u001b[0m\u001b[0;34m\u001b[0m\u001b[0;34m\u001b[0m\u001b[0m\n\u001b[1;32m     49\u001b[0m                             \u001b[0mdifferent_count\u001b[0m \u001b[0;34m+=\u001b[0m \u001b[0;36m1\u001b[0m\u001b[0;34m\u001b[0m\u001b[0;34m\u001b[0m\u001b[0m\n",
            "\u001b[0;32m/content/bachelor_design/dist_cal.py\u001b[0m in \u001b[0;36mcal\u001b[0;34m(self, a, b, method_name)\u001b[0m\n\u001b[1;32m     39\u001b[0m         \u001b[0;32mif\u001b[0m \u001b[0mmethod\u001b[0m \u001b[0;34m==\u001b[0m \u001b[0;32mNone\u001b[0m\u001b[0;34m:\u001b[0m\u001b[0;34m\u001b[0m\u001b[0;34m\u001b[0m\u001b[0m\n\u001b[1;32m     40\u001b[0m             \u001b[0;32mraise\u001b[0m \u001b[0mException\u001b[0m\u001b[0;34m(\u001b[0m\u001b[0;34m\"Invalid method name: \"\u001b[0m \u001b[0;34m+\u001b[0m \u001b[0mmethod_name\u001b[0m\u001b[0;34m)\u001b[0m\u001b[0;34m\u001b[0m\u001b[0;34m\u001b[0m\u001b[0m\n\u001b[0;32m---> 41\u001b[0;31m         \u001b[0;32mreturn\u001b[0m \u001b[0mmethod\u001b[0m\u001b[0;34m(\u001b[0m\u001b[0mself\u001b[0m\u001b[0;34m,\u001b[0m \u001b[0ma\u001b[0m\u001b[0;34m,\u001b[0m \u001b[0mb\u001b[0m\u001b[0;34m)\u001b[0m\u001b[0;34m\u001b[0m\u001b[0;34m\u001b[0m\u001b[0m\n\u001b[0m\u001b[1;32m     42\u001b[0m \u001b[0;34m\u001b[0m\u001b[0m\n\u001b[1;32m     43\u001b[0m \u001b[0;34m\u001b[0m\u001b[0m\n",
            "\u001b[0;32m/content/bachelor_design/dist_cal.py\u001b[0m in \u001b[0;36m_method_euclidean\u001b[0;34m(self, a, b)\u001b[0m\n\u001b[1;32m     44\u001b[0m \u001b[0;34m\u001b[0m\u001b[0m\n\u001b[1;32m     45\u001b[0m     \u001b[0;32mdef\u001b[0m \u001b[0m_method_euclidean\u001b[0m\u001b[0;34m(\u001b[0m\u001b[0mself\u001b[0m\u001b[0;34m,\u001b[0m \u001b[0ma\u001b[0m\u001b[0;34m,\u001b[0m \u001b[0mb\u001b[0m\u001b[0;34m)\u001b[0m\u001b[0;34m:\u001b[0m\u001b[0;34m\u001b[0m\u001b[0;34m\u001b[0m\u001b[0m\n\u001b[0;32m---> 46\u001b[0;31m         \u001b[0;32mreturn\u001b[0m \u001b[0mnp\u001b[0m\u001b[0;34m.\u001b[0m\u001b[0mlinalg\u001b[0m\u001b[0;34m.\u001b[0m\u001b[0mnorm\u001b[0m\u001b[0;34m(\u001b[0m\u001b[0mnp\u001b[0m\u001b[0;34m.\u001b[0m\u001b[0msubtract\u001b[0m\u001b[0;34m(\u001b[0m\u001b[0ma\u001b[0m\u001b[0;34m,\u001b[0m \u001b[0mb\u001b[0m\u001b[0;34m)\u001b[0m\u001b[0;34m)\u001b[0m\u001b[0;34m\u001b[0m\u001b[0;34m\u001b[0m\u001b[0m\n\u001b[0m\u001b[1;32m     47\u001b[0m \u001b[0;34m\u001b[0m\u001b[0m\n\u001b[1;32m     48\u001b[0m     \u001b[0;32mdef\u001b[0m \u001b[0m_method_cos\u001b[0m\u001b[0;34m(\u001b[0m\u001b[0mself\u001b[0m\u001b[0;34m,\u001b[0m \u001b[0ma\u001b[0m\u001b[0;34m,\u001b[0m \u001b[0mb\u001b[0m\u001b[0;34m)\u001b[0m\u001b[0;34m:\u001b[0m\u001b[0;34m\u001b[0m\u001b[0;34m\u001b[0m\u001b[0m\n",
            "\u001b[0;32m<__array_function__ internals>\u001b[0m in \u001b[0;36mnorm\u001b[0;34m(*args, **kwargs)\u001b[0m\n",
            "\u001b[0;32m/usr/local/lib/python3.6/dist-packages/numpy/linalg/linalg.py\u001b[0m in \u001b[0;36mnorm\u001b[0;34m(x, ord, axis, keepdims)\u001b[0m\n\u001b[1;32m   2460\u001b[0m     \u001b[0mx\u001b[0m \u001b[0;34m=\u001b[0m \u001b[0masarray\u001b[0m\u001b[0;34m(\u001b[0m\u001b[0mx\u001b[0m\u001b[0;34m)\u001b[0m\u001b[0;34m\u001b[0m\u001b[0;34m\u001b[0m\u001b[0m\n\u001b[1;32m   2461\u001b[0m \u001b[0;34m\u001b[0m\u001b[0m\n\u001b[0;32m-> 2462\u001b[0;31m     \u001b[0;32mif\u001b[0m \u001b[0;32mnot\u001b[0m \u001b[0missubclass\u001b[0m\u001b[0;34m(\u001b[0m\u001b[0mx\u001b[0m\u001b[0;34m.\u001b[0m\u001b[0mdtype\u001b[0m\u001b[0;34m.\u001b[0m\u001b[0mtype\u001b[0m\u001b[0;34m,\u001b[0m \u001b[0;34m(\u001b[0m\u001b[0minexact\u001b[0m\u001b[0;34m,\u001b[0m \u001b[0mobject_\u001b[0m\u001b[0;34m)\u001b[0m\u001b[0;34m)\u001b[0m\u001b[0;34m:\u001b[0m\u001b[0;34m\u001b[0m\u001b[0;34m\u001b[0m\u001b[0m\n\u001b[0m\u001b[1;32m   2463\u001b[0m         \u001b[0mx\u001b[0m \u001b[0;34m=\u001b[0m \u001b[0mx\u001b[0m\u001b[0;34m.\u001b[0m\u001b[0mastype\u001b[0m\u001b[0;34m(\u001b[0m\u001b[0mfloat\u001b[0m\u001b[0;34m)\u001b[0m\u001b[0;34m\u001b[0m\u001b[0;34m\u001b[0m\u001b[0m\n\u001b[1;32m   2464\u001b[0m \u001b[0;34m\u001b[0m\u001b[0m\n",
            "\u001b[0;31mKeyboardInterrupt\u001b[0m: "
          ]
        }
      ]
    },
    {
      "cell_type": "markdown",
      "metadata": {
        "id": "UVzyj3iFX7FI",
        "colab_type": "text"
      },
      "source": [
        "# Analyze train record"
      ]
    },
    {
      "cell_type": "code",
      "metadata": {
        "id": "Q8fUtzkfX7FJ",
        "colab_type": "code",
        "colab": {}
      },
      "source": [
        "# Variables for drawing table\n",
        "dist_labels = DistCal.methods\n",
        "emb_labels = CharEmbedder.methods\n",
        "table_vals = []\n",
        "\n",
        "for dist_method in train_rec.keys():\n",
        "    table_vals.append([])\n",
        "    for emb_method in train_rec[dist_method].keys():\n",
        "        rec = train_rec[dist_method][emb_method]\n",
        "        p = rec[\"TP\"]/(rec[\"TP\"] + rec[\"FP\"])\n",
        "        r = rec[\"TP\"]/(rec[\"TP\"] + rec[\"FN\"])\n",
        "        f1 = 2*p*r / (p+r)\n",
        "        rec[\"precision\"] = p\n",
        "        rec[\"recall\"] = r\n",
        "        rec[\"F1\"] = f1\n",
        "        \n",
        "        table_vals[-1].append(f1)"
      ],
      "execution_count": 0,
      "outputs": []
    },
    {
      "cell_type": "code",
      "metadata": {
        "id": "Rqpqplm5X7FN",
        "colab_type": "code",
        "colab": {}
      },
      "source": [
        "from prettytable import PrettyTable\n",
        "header = [\"F1\"]\n",
        "header.extend(emb_labels)\n",
        "t = PrettyTable(\n",
        "    field_names=header,\n",
        "    header=True\n",
        ")\n",
        "for i in range(len(dist_labels)):\n",
        "    row = [dist_labels[i]]\n",
        "    row.extend(table_vals[i])\n",
        "    t.add_row(row)\n",
        "print(t)"
      ],
      "execution_count": 0,
      "outputs": []
    },
    {
      "cell_type": "code",
      "metadata": {
        "id": "ksj0QXG0d1fE",
        "colab_type": "code",
        "colab": {}
      },
      "source": [
        "print(train_rec)"
      ],
      "execution_count": 0,
      "outputs": []
    },
    {
      "cell_type": "markdown",
      "metadata": {
        "id": "hHuTy4fzX7FT",
        "colab_type": "text"
      },
      "source": [
        "# Save train record"
      ]
    },
    {
      "cell_type": "code",
      "metadata": {
        "id": "y3l-NZ7hX7FU",
        "colab_type": "code",
        "colab": {}
      },
      "source": [
        "with open(addh + config.EQUAL_TRAIN_REC_PATH, \"w\") as fd:\n",
        "    json.dump(train_rec, fd, indent=4)"
      ],
      "execution_count": 0,
      "outputs": []
    }
  ]
}