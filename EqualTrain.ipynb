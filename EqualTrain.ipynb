{
 "cells": [
  {
   "cell_type": "markdown",
   "metadata": {},
   "source": [
    "# Environment Prepare"
   ]
  },
  {
   "cell_type": "code",
   "execution_count": 1,
   "metadata": {},
   "outputs": [],
   "source": [
    "# !pip install keras_bert"
   ]
  },
  {
   "cell_type": "code",
   "execution_count": 2,
   "metadata": {},
   "outputs": [
    {
     "name": "stdout",
     "output_type": "stream",
     "text": [
      "[Locale] Using address head: /mnt/d/My Drive\n"
     ]
    }
   ],
   "source": [
    "from driver_amount import addh"
   ]
  },
  {
   "cell_type": "code",
   "execution_count": 3,
   "metadata": {},
   "outputs": [],
   "source": [
    "# TODO Need a method about how to check git auto\n",
    "\n",
    "# !git clone https://github.com/supplient/bachelor_design.git\n",
    "# import os\n",
    "# os.chdir(\"bachelor_design\")\n",
    "# !pwd"
   ]
  },
  {
   "cell_type": "code",
   "execution_count": 4,
   "metadata": {},
   "outputs": [],
   "source": [
    "# !git checkout equal_realize\n",
    "# !git pull"
   ]
  },
  {
   "cell_type": "markdown",
   "metadata": {},
   "source": [
    "# Data Prepare"
   ]
  },
  {
   "cell_type": "markdown",
   "metadata": {},
   "source": [
    "Origin Data"
   ]
  },
  {
   "cell_type": "code",
   "execution_count": 5,
   "metadata": {},
   "outputs": [],
   "source": [
    "from preprocess import load_file\n",
    "import config\n",
    "import json"
   ]
  },
  {
   "cell_type": "code",
   "execution_count": 6,
   "metadata": {},
   "outputs": [],
   "source": [
    "char_seqs, tag_seqs = load_file(addh + config.DATA_PATH)\n",
    "equal_seqs = None\n",
    "with open(addh + config.EQUAL_DATA_PATH, \"r\") as fd:\n",
    "    equal_seqs = json.load(fd)\n",
    "origin_seqs = char_seqs[:len(equal_seqs)]"
   ]
  },
  {
   "cell_type": "markdown",
   "metadata": {},
   "source": [
    "# Param Load"
   ]
  },
  {
   "cell_type": "code",
   "execution_count": 7,
   "metadata": {},
   "outputs": [],
   "source": [
    "import json\n",
    "params = None\n",
    "# TODO the better way to do this is \n",
    "#    check whether the file exists first,\n",
    "#    then create it and set default params when it does not exist.\n",
    "params = {}\n",
    "with open(addh + config.EQUAL_PARAM_PATH, \"r\") as fd:\n",
    "    params = json.load(fd)\n",
    "    \n",
    "sif_alpha = params[\"sif_alpha\"]\n",
    "cos_theta = params[\"cos_theta\"]\n",
    "\n",
    "dist_theta = cos_theta"
   ]
  },
  {
   "cell_type": "markdown",
   "metadata": {},
   "source": [
    "# Embedding"
   ]
  },
  {
   "cell_type": "markdown",
   "metadata": {},
   "source": [
    "Since our embedding is designed for batch work, it should be better if we combine origin_seqs and equal_seqs."
   ]
  },
  {
   "cell_type": "code",
   "execution_count": 8,
   "metadata": {},
   "outputs": [],
   "source": [
    "origin_num = len(origin_seqs)\n",
    "all_char_seqs = []\n",
    "all_char_seqs.extend(origin_seqs)\n",
    "all_char_seqs.extend(equal_seqs)"
   ]
  },
  {
   "cell_type": "code",
   "execution_count": 9,
   "metadata": {},
   "outputs": [
    {
     "name": "stderr",
     "output_type": "stream",
     "text": [
      "Using TensorFlow backend.\n",
      "/home/supplient/.local/lib/python3.6/site-packages/tensorflow/python/framework/dtypes.py:516: FutureWarning: Passing (type, 1) or '1type' as a synonym of type is deprecated; in a future version of numpy, it will be understood as (type, (1,)) / '(1,)type'.\n",
      "  _np_qint8 = np.dtype([(\"qint8\", np.int8, 1)])\n",
      "/home/supplient/.local/lib/python3.6/site-packages/tensorflow/python/framework/dtypes.py:517: FutureWarning: Passing (type, 1) or '1type' as a synonym of type is deprecated; in a future version of numpy, it will be understood as (type, (1,)) / '(1,)type'.\n",
      "  _np_quint8 = np.dtype([(\"quint8\", np.uint8, 1)])\n",
      "/home/supplient/.local/lib/python3.6/site-packages/tensorflow/python/framework/dtypes.py:518: FutureWarning: Passing (type, 1) or '1type' as a synonym of type is deprecated; in a future version of numpy, it will be understood as (type, (1,)) / '(1,)type'.\n",
      "  _np_qint16 = np.dtype([(\"qint16\", np.int16, 1)])\n",
      "/home/supplient/.local/lib/python3.6/site-packages/tensorflow/python/framework/dtypes.py:519: FutureWarning: Passing (type, 1) or '1type' as a synonym of type is deprecated; in a future version of numpy, it will be understood as (type, (1,)) / '(1,)type'.\n",
      "  _np_quint16 = np.dtype([(\"quint16\", np.uint16, 1)])\n",
      "/home/supplient/.local/lib/python3.6/site-packages/tensorflow/python/framework/dtypes.py:520: FutureWarning: Passing (type, 1) or '1type' as a synonym of type is deprecated; in a future version of numpy, it will be understood as (type, (1,)) / '(1,)type'.\n",
      "  _np_qint32 = np.dtype([(\"qint32\", np.int32, 1)])\n",
      "/home/supplient/.local/lib/python3.6/site-packages/tensorflow/python/framework/dtypes.py:525: FutureWarning: Passing (type, 1) or '1type' as a synonym of type is deprecated; in a future version of numpy, it will be understood as (type, (1,)) / '(1,)type'.\n",
      "  np_resource = np.dtype([(\"resource\", np.ubyte, 1)])\n",
      "/home/supplient/.local/lib/python3.6/site-packages/tensorboard/compat/tensorflow_stub/dtypes.py:541: FutureWarning: Passing (type, 1) or '1type' as a synonym of type is deprecated; in a future version of numpy, it will be understood as (type, (1,)) / '(1,)type'.\n",
      "  _np_qint8 = np.dtype([(\"qint8\", np.int8, 1)])\n",
      "/home/supplient/.local/lib/python3.6/site-packages/tensorboard/compat/tensorflow_stub/dtypes.py:542: FutureWarning: Passing (type, 1) or '1type' as a synonym of type is deprecated; in a future version of numpy, it will be understood as (type, (1,)) / '(1,)type'.\n",
      "  _np_quint8 = np.dtype([(\"quint8\", np.uint8, 1)])\n",
      "/home/supplient/.local/lib/python3.6/site-packages/tensorboard/compat/tensorflow_stub/dtypes.py:543: FutureWarning: Passing (type, 1) or '1type' as a synonym of type is deprecated; in a future version of numpy, it will be understood as (type, (1,)) / '(1,)type'.\n",
      "  _np_qint16 = np.dtype([(\"qint16\", np.int16, 1)])\n",
      "/home/supplient/.local/lib/python3.6/site-packages/tensorboard/compat/tensorflow_stub/dtypes.py:544: FutureWarning: Passing (type, 1) or '1type' as a synonym of type is deprecated; in a future version of numpy, it will be understood as (type, (1,)) / '(1,)type'.\n",
      "  _np_quint16 = np.dtype([(\"quint16\", np.uint16, 1)])\n",
      "/home/supplient/.local/lib/python3.6/site-packages/tensorboard/compat/tensorflow_stub/dtypes.py:545: FutureWarning: Passing (type, 1) or '1type' as a synonym of type is deprecated; in a future version of numpy, it will be understood as (type, (1,)) / '(1,)type'.\n",
      "  _np_qint32 = np.dtype([(\"qint32\", np.int32, 1)])\n",
      "/home/supplient/.local/lib/python3.6/site-packages/tensorboard/compat/tensorflow_stub/dtypes.py:550: FutureWarning: Passing (type, 1) or '1type' as a synonym of type is deprecated; in a future version of numpy, it will be understood as (type, (1,)) / '(1,)type'.\n",
      "  np_resource = np.dtype([(\"resource\", np.ubyte, 1)])\n"
     ]
    },
    {
     "name": "stdout",
     "output_type": "stream",
     "text": [
      "WARNING:tensorflow:From /home/supplient/.local/lib/python3.6/site-packages/keras/backend/tensorflow_backend.py:422: The name tf.global_variables is deprecated. Please use tf.compat.v1.global_variables instead.\n",
      "\n"
     ]
    }
   ],
   "source": [
    "from char_emb import CharEmbedder\n",
    "char_embedder = CharEmbedder()\n",
    "all_char_emb_seqs = char_embedder.embed(all_char_seqs)"
   ]
  },
  {
   "cell_type": "code",
   "execution_count": 10,
   "metadata": {},
   "outputs": [],
   "source": [
    "from SIF import SIF\n",
    "sif = SIF(sif_alpha)\n",
    "all_sen_vecs = sif.compose(all_char_seqs, all_char_emb_seqs)"
   ]
  },
  {
   "cell_type": "markdown",
   "metadata": {},
   "source": [
    "# Compare & Fine-tune params"
   ]
  },
  {
   "cell_type": "code",
   "execution_count": 11,
   "metadata": {},
   "outputs": [],
   "source": [
    "origin_sen_vecs = all_sen_vecs[:origin_num]\n",
    "equal_sen_vecs = all_sen_vecs[origin_num:]\n",
    "if len(origin_sen_vecs) != len(equal_sen_vecs):\n",
    "    raise Exception(\"Length should be the same.\")"
   ]
  },
  {
   "cell_type": "markdown",
   "metadata": {},
   "source": [
    "Set some train params"
   ]
  },
  {
   "cell_type": "code",
   "execution_count": 21,
   "metadata": {},
   "outputs": [],
   "source": [
    "epoch = 10000\n",
    "delta = 0.001\n",
    "min_delta = 10**(-10)"
   ]
  },
  {
   "cell_type": "markdown",
   "metadata": {},
   "source": [
    "Use two experiments:\n",
    "* Check whether origin and equal are similiar\n",
    "* Check whether origins are different"
   ]
  },
  {
   "cell_type": "code",
   "execution_count": 16,
   "metadata": {},
   "outputs": [],
   "source": [
    "from dist_cal import DistCal\n",
    "dist_cal = DistCal()"
   ]
  },
  {
   "cell_type": "code",
   "execution_count": 25,
   "metadata": {},
   "outputs": [
    {
     "name": "stderr",
     "output_type": "stream",
     "text": [
      "/home/supplient/.local/lib/python3.6/site-packages/ipykernel_launcher.py:6: TqdmDeprecationWarning: Please use `tqdm.notebook.trange` instead of `tqdm.tnrange`\n",
      "  \n"
     ]
    },
    {
     "data": {
      "application/vnd.jupyter.widget-view+json": {
       "model_id": "3ea80e95d4b24fb6a74516a6d4ba5fea",
       "version_major": 2,
       "version_minor": 0
      },
      "text/plain": [
       "HBox(children=(FloatProgress(value=0.0, max=2000.0), HTML(value='')))"
      ]
     },
     "metadata": {},
     "output_type": "display_data"
    },
    {
     "name": "stdout",
     "output_type": "stream",
     "text": [
      "\r",
      "Delta reach 1e-17, which is enough\n",
      "\n"
     ]
    }
   ],
   "source": [
    "from tqdm import tnrange\n",
    "\n",
    "similiar_rate = 0\n",
    "different_rate = 0\n",
    "last_delta = 0\n",
    "with tnrange(epoch) as epoch_tqdm:\n",
    "    for epoch_count in epoch_tqdm:\n",
    "        similiar_count = 0\n",
    "        similiar_total = len(origin_sen_vecs)\n",
    "        for origin_sen, equal_sen in zip(origin_sen_vecs, equal_sen_vecs):\n",
    "            dist = dist_cal.cal(origin_sen, equal_sen)\n",
    "            if dist < dist_theta:\n",
    "                similiar_count += 1\n",
    "\n",
    "        N = len(origin_sen_vecs)\n",
    "        different_count = 0\n",
    "        different_total = N * (N -1)/2\n",
    "        for i in range(N-1):\n",
    "            for j in range(i+1, N):\n",
    "                dist = dist_cal.cal(origin_sen_vecs[i], origin_sen_vecs[j])\n",
    "                if dist > dist_theta:\n",
    "                    different_count += 1\n",
    "\n",
    "        similiar_rate = similiar_count / similiar_total\n",
    "        different_rate = different_count / different_total\n",
    "\n",
    "        now_delta = 0\n",
    "        if similiar_rate > different_rate:\n",
    "            now_delta = -delta\n",
    "        elif similiar_rate < different_rate:\n",
    "            now_delta = delta\n",
    "        else:\n",
    "            now_delta = -last_delta\n",
    "            \n",
    "        if now_delta == -last_delta:\n",
    "            delta /= 10\n",
    "            now_delta /= 10\n",
    "        dist_theta += now_delta\n",
    "        last_delta = now_delta\n",
    "            \n",
    "        if dist_theta <= 0:\n",
    "            raise Exception(\"dist_theta reach 0\")\n",
    "        if dist_theta >= 1:\n",
    "            raise Exception(\"dist_theta reach 1\")\n",
    "            \n",
    "        epoch_tqdm.set_description(\"Epoch %i\" % epoch_count)\n",
    "        epoch_tqdm.set_postfix(\n",
    "            similiar_rate=similiar_rate, \n",
    "            different_rate=different_rate,\n",
    "            dist_theta=dist_theta,\n",
    "            delta=delta\n",
    "        )\n",
    "            \n",
    "        if delta <= min_delta:\n",
    "            epoch_tqdm.write(\"Delta reach \" + str(min_delta) + \", which is enough\")\n",
    "            break"
   ]
  },
  {
   "cell_type": "markdown",
   "metadata": {},
   "source": [
    "# Save params"
   ]
  },
  {
   "cell_type": "code",
   "execution_count": 24,
   "metadata": {},
   "outputs": [],
   "source": [
    "cos_theta = dist_theta\n",
    "\n",
    "params[\"sif_alpha\"] = sif_alpha\n",
    "params[\"cos_theta\"] = cos_theta\n",
    "\n",
    "with open(addh + config.EQUAL_PARAM_PATH, \"w\") as fd:\n",
    "    json.dump(params, fd, indent=4)"
   ]
  }
 ],
 "metadata": {
  "kernelspec": {
   "display_name": "Python 3",
   "language": "python",
   "name": "python3"
  },
  "language_info": {
   "codemirror_mode": {
    "name": "ipython",
    "version": 3
   },
   "file_extension": ".py",
   "mimetype": "text/x-python",
   "name": "python",
   "nbconvert_exporter": "python",
   "pygments_lexer": "ipython3",
   "version": "3.6.9"
  }
 },
 "nbformat": 4,
 "nbformat_minor": 4
}
